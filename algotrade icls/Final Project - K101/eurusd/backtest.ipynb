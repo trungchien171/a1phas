{
 "cells": [
  {
   "cell_type": "markdown",
   "metadata": {},
   "source": [
    "## Get data from TWS API"
   ]
  },
  {
   "cell_type": "code",
   "execution_count": 2,
   "metadata": {},
   "outputs": [],
   "source": [
    "from ib_insync import *\n",
    "from IPython.display import display, clear_output\n",
    "import pandas as pd\n",
    "import numpy as np\n",
    "import datetime as dt\n",
    "util.startLoop()"
   ]
  },
  {
   "cell_type": "code",
   "execution_count": 3,
   "metadata": {},
   "outputs": [
    {
     "data": {
      "text/plain": [
       "<IB connected to 127.0.0.1:7497 clientId=1>"
      ]
     },
     "execution_count": 3,
     "metadata": {},
     "output_type": "execute_result"
    }
   ],
   "source": [
    "# Connect to TWS API\n",
    "ib = IB()\n",
    "ib.connect()    \n",
    "# ib.positions()"
   ]
  },
  {
   "cell_type": "code",
   "execution_count": 89,
   "metadata": {},
   "outputs": [],
   "source": [
    "# ib.disconnect()"
   ]
  },
  {
   "cell_type": "code",
   "execution_count": 4,
   "metadata": {},
   "outputs": [],
   "source": [
    "contract = Forex('EURUSD')"
   ]
  },
  {
   "cell_type": "code",
   "execution_count": 19,
   "metadata": {},
   "outputs": [],
   "source": [
    "def onBarUpdate(bars, hasnewBar):\n",
    "    global df \n",
    "    df = pd.DataFrame(bars)[['date', 'close', 'volume']].iloc[:-1] # only take the date and closing price, execute the last row\n",
    "    df.set_index('date', inplace = True) \n",
    "    clear_output(wait=True)\n",
    "    display(df)"
   ]
  },
  {
   "cell_type": "code",
   "execution_count": 20,
   "metadata": {},
   "outputs": [],
   "source": [
    "bars = ib.reqHistoricalData(\n",
    "    contract,\n",
    "    endDateTime='', # current data\n",
    "    durationStr='1 Y',\n",
    "    barSizeSetting='1 day',\n",
    "    whatToShow='ASK',\n",
    "    useRTH=True,\n",
    "    formatDate=2,\n",
    "    keepUpToDate=True,\n",
    "    timeout = 0\n",
    ")"
   ]
  },
  {
   "cell_type": "code",
   "execution_count": 21,
   "metadata": {},
   "outputs": [
    {
     "data": {
      "text/html": [
       "<div>\n",
       "<style scoped>\n",
       "    .dataframe tbody tr th:only-of-type {\n",
       "        vertical-align: middle;\n",
       "    }\n",
       "\n",
       "    .dataframe tbody tr th {\n",
       "        vertical-align: top;\n",
       "    }\n",
       "\n",
       "    .dataframe thead th {\n",
       "        text-align: right;\n",
       "    }\n",
       "</style>\n",
       "<table border=\"1\" class=\"dataframe\">\n",
       "  <thead>\n",
       "    <tr style=\"text-align: right;\">\n",
       "      <th></th>\n",
       "      <th>close</th>\n",
       "      <th>volume</th>\n",
       "    </tr>\n",
       "    <tr>\n",
       "      <th>date</th>\n",
       "      <th></th>\n",
       "      <th></th>\n",
       "    </tr>\n",
       "  </thead>\n",
       "  <tbody>\n",
       "    <tr>\n",
       "      <th>2023-07-18</th>\n",
       "      <td>1.12285</td>\n",
       "      <td>-1.0</td>\n",
       "    </tr>\n",
       "    <tr>\n",
       "      <th>2023-07-19</th>\n",
       "      <td>1.12010</td>\n",
       "      <td>-1.0</td>\n",
       "    </tr>\n",
       "    <tr>\n",
       "      <th>2023-07-20</th>\n",
       "      <td>1.11298</td>\n",
       "      <td>-1.0</td>\n",
       "    </tr>\n",
       "    <tr>\n",
       "      <th>2023-07-21</th>\n",
       "      <td>1.11289</td>\n",
       "      <td>-1.0</td>\n",
       "    </tr>\n",
       "    <tr>\n",
       "      <th>2023-07-24</th>\n",
       "      <td>1.10650</td>\n",
       "      <td>-1.0</td>\n",
       "    </tr>\n",
       "    <tr>\n",
       "      <th>...</th>\n",
       "      <td>...</td>\n",
       "      <td>...</td>\n",
       "    </tr>\n",
       "    <tr>\n",
       "      <th>2024-07-09</th>\n",
       "      <td>1.08138</td>\n",
       "      <td>-1.0</td>\n",
       "    </tr>\n",
       "    <tr>\n",
       "      <th>2024-07-10</th>\n",
       "      <td>1.08303</td>\n",
       "      <td>-1.0</td>\n",
       "    </tr>\n",
       "    <tr>\n",
       "      <th>2024-07-11</th>\n",
       "      <td>1.08685</td>\n",
       "      <td>-1.0</td>\n",
       "    </tr>\n",
       "    <tr>\n",
       "      <th>2024-07-12</th>\n",
       "      <td>1.09060</td>\n",
       "      <td>-1.0</td>\n",
       "    </tr>\n",
       "    <tr>\n",
       "      <th>2024-07-15</th>\n",
       "      <td>1.08944</td>\n",
       "      <td>-1.0</td>\n",
       "    </tr>\n",
       "  </tbody>\n",
       "</table>\n",
       "<p>258 rows × 2 columns</p>\n",
       "</div>"
      ],
      "text/plain": [
       "              close  volume\n",
       "date                       \n",
       "2023-07-18  1.12285    -1.0\n",
       "2023-07-19  1.12010    -1.0\n",
       "2023-07-20  1.11298    -1.0\n",
       "2023-07-21  1.11289    -1.0\n",
       "2023-07-24  1.10650    -1.0\n",
       "...             ...     ...\n",
       "2024-07-09  1.08138    -1.0\n",
       "2024-07-10  1.08303    -1.0\n",
       "2024-07-11  1.08685    -1.0\n",
       "2024-07-12  1.09060    -1.0\n",
       "2024-07-15  1.08944    -1.0\n",
       "\n",
       "[258 rows x 2 columns]"
      ]
     },
     "metadata": {},
     "output_type": "display_data"
    }
   ],
   "source": [
    "# stream data\n",
    "bars.updateEvent += onBarUpdate "
   ]
  },
  {
   "cell_type": "code",
   "execution_count": null,
   "metadata": {},
   "outputs": [
    {
     "name": "stderr",
     "output_type": "stream",
     "text": [
      "Error 366, reqId 91: No historical data query found for ticker id:91\n"
     ]
    }
   ],
   "source": [
    "ib.cancelHistoricalData(bars)"
   ]
  },
  {
   "cell_type": "code",
   "execution_count": null,
   "metadata": {},
   "outputs": [
    {
     "data": {
      "text/html": [
       "<div>\n",
       "<style scoped>\n",
       "    .dataframe tbody tr th:only-of-type {\n",
       "        vertical-align: middle;\n",
       "    }\n",
       "\n",
       "    .dataframe tbody tr th {\n",
       "        vertical-align: top;\n",
       "    }\n",
       "\n",
       "    .dataframe thead th {\n",
       "        text-align: right;\n",
       "    }\n",
       "</style>\n",
       "<table border=\"1\" class=\"dataframe\">\n",
       "  <thead>\n",
       "    <tr style=\"text-align: right;\">\n",
       "      <th></th>\n",
       "      <th>close</th>\n",
       "      <th>volume</th>\n",
       "    </tr>\n",
       "    <tr>\n",
       "      <th>date</th>\n",
       "      <th></th>\n",
       "      <th></th>\n",
       "    </tr>\n",
       "  </thead>\n",
       "  <tbody>\n",
       "    <tr>\n",
       "      <th>2023-07-18</th>\n",
       "      <td>1.12285</td>\n",
       "      <td>-1.0</td>\n",
       "    </tr>\n",
       "    <tr>\n",
       "      <th>2023-07-19</th>\n",
       "      <td>1.12010</td>\n",
       "      <td>-1.0</td>\n",
       "    </tr>\n",
       "    <tr>\n",
       "      <th>2023-07-20</th>\n",
       "      <td>1.11298</td>\n",
       "      <td>-1.0</td>\n",
       "    </tr>\n",
       "    <tr>\n",
       "      <th>2023-07-21</th>\n",
       "      <td>1.11289</td>\n",
       "      <td>-1.0</td>\n",
       "    </tr>\n",
       "    <tr>\n",
       "      <th>2023-07-24</th>\n",
       "      <td>1.10650</td>\n",
       "      <td>-1.0</td>\n",
       "    </tr>\n",
       "    <tr>\n",
       "      <th>...</th>\n",
       "      <td>...</td>\n",
       "      <td>...</td>\n",
       "    </tr>\n",
       "    <tr>\n",
       "      <th>2024-07-09</th>\n",
       "      <td>1.08138</td>\n",
       "      <td>-1.0</td>\n",
       "    </tr>\n",
       "    <tr>\n",
       "      <th>2024-07-10</th>\n",
       "      <td>1.08303</td>\n",
       "      <td>-1.0</td>\n",
       "    </tr>\n",
       "    <tr>\n",
       "      <th>2024-07-11</th>\n",
       "      <td>1.08685</td>\n",
       "      <td>-1.0</td>\n",
       "    </tr>\n",
       "    <tr>\n",
       "      <th>2024-07-12</th>\n",
       "      <td>1.09060</td>\n",
       "      <td>-1.0</td>\n",
       "    </tr>\n",
       "    <tr>\n",
       "      <th>2024-07-15</th>\n",
       "      <td>1.08944</td>\n",
       "      <td>-1.0</td>\n",
       "    </tr>\n",
       "  </tbody>\n",
       "</table>\n",
       "<p>258 rows × 2 columns</p>\n",
       "</div>"
      ],
      "text/plain": [
       "              close  volume\n",
       "date                       \n",
       "2023-07-18  1.12285    -1.0\n",
       "2023-07-19  1.12010    -1.0\n",
       "2023-07-20  1.11298    -1.0\n",
       "2023-07-21  1.11289    -1.0\n",
       "2023-07-24  1.10650    -1.0\n",
       "...             ...     ...\n",
       "2024-07-09  1.08138    -1.0\n",
       "2024-07-10  1.08303    -1.0\n",
       "2024-07-11  1.08685    -1.0\n",
       "2024-07-12  1.09060    -1.0\n",
       "2024-07-15  1.08944    -1.0\n",
       "\n",
       "[258 rows x 2 columns]"
      ]
     },
     "metadata": {},
     "output_type": "display_data"
    }
   ],
   "source": [
    "df"
   ]
  },
  {
   "cell_type": "code",
   "execution_count": 13,
   "metadata": {},
   "outputs": [
    {
     "data": {
      "image/png": "[encoded data removed]",
      "text/plain": [
       "<Figure size 1200x600 with 1 Axes>"
      ]
     },
     "metadata": {},
     "output_type": "display_data"
    }
   ],
   "source": [
    "import matplotlib.pyplot as plt\n",
    "plt.figure(figsize = (12,6))\n",
    "plt.plot(df.index, df['close'],linestyle = '-')\n",
    "plt.title('EUDUSD close price over time')\n",
    "plt.xlabel('date')\n",
    "plt.ylabel('close price')\n",
    "plt.show()"
   ]
  },
  {
   "cell_type": "markdown",
   "metadata": {},
   "source": [
    "- General trend: share decline from mid-2021 to early 2022, followed by a substantial recovery that peaks around mid-2023. Afterwards, EUR/USD pair appears to show a fluctuating yet slightly downward trend towards early 2024\n",
    "- Volatility: significant volatility, driven by economic policy changes, geopolitical events, and market sentiment\n",
    "- Resistance levels: possible levels where price has historically reversed or slowed its trend"
   ]
  },
  {
   "cell_type": "code",
   "execution_count": 14,
   "metadata": {},
   "outputs": [],
   "source": [
    "# df.to_csv('eurusd.csv')"
   ]
  },
  {
   "cell_type": "markdown",
   "metadata": {},
   "source": [
    "## Import data"
   ]
  },
  {
   "cell_type": "code",
   "execution_count": 3,
   "metadata": {},
   "outputs": [
    {
     "data": {
      "text/html": [
       "<div>\n",
       "<style scoped>\n",
       "    .dataframe tbody tr th:only-of-type {\n",
       "        vertical-align: middle;\n",
       "    }\n",
       "\n",
       "    .dataframe tbody tr th {\n",
       "        vertical-align: top;\n",
       "    }\n",
       "\n",
       "    .dataframe thead th {\n",
       "        text-align: right;\n",
       "    }\n",
       "</style>\n",
       "<table border=\"1\" class=\"dataframe\">\n",
       "  <thead>\n",
       "    <tr style=\"text-align: right;\">\n",
       "      <th></th>\n",
       "      <th>close</th>\n",
       "      <th>close_mul</th>\n",
       "    </tr>\n",
       "    <tr>\n",
       "      <th>date</th>\n",
       "      <th></th>\n",
       "      <th></th>\n",
       "    </tr>\n",
       "  </thead>\n",
       "  <tbody>\n",
       "    <tr>\n",
       "      <th>2021-05-10 21:15:00+00:00</th>\n",
       "      <td>1.21297</td>\n",
       "      <td>121297.0</td>\n",
       "    </tr>\n",
       "    <tr>\n",
       "      <th>2021-05-10 21:20:00+00:00</th>\n",
       "      <td>1.21305</td>\n",
       "      <td>121305.0</td>\n",
       "    </tr>\n",
       "    <tr>\n",
       "      <th>2021-05-10 21:25:00+00:00</th>\n",
       "      <td>1.21295</td>\n",
       "      <td>121295.0</td>\n",
       "    </tr>\n",
       "    <tr>\n",
       "      <th>2021-05-10 21:30:00+00:00</th>\n",
       "      <td>1.21295</td>\n",
       "      <td>121295.0</td>\n",
       "    </tr>\n",
       "    <tr>\n",
       "      <th>2021-05-10 21:35:00+00:00</th>\n",
       "      <td>1.21305</td>\n",
       "      <td>121305.0</td>\n",
       "    </tr>\n",
       "    <tr>\n",
       "      <th>...</th>\n",
       "      <td>...</td>\n",
       "      <td>...</td>\n",
       "    </tr>\n",
       "    <tr>\n",
       "      <th>2024-05-09 10:45:00+00:00</th>\n",
       "      <td>1.07347</td>\n",
       "      <td>107347.0</td>\n",
       "    </tr>\n",
       "    <tr>\n",
       "      <th>2024-05-09 10:50:00+00:00</th>\n",
       "      <td>1.07349</td>\n",
       "      <td>107349.0</td>\n",
       "    </tr>\n",
       "    <tr>\n",
       "      <th>2024-05-09 10:55:00+00:00</th>\n",
       "      <td>1.07347</td>\n",
       "      <td>107347.0</td>\n",
       "    </tr>\n",
       "    <tr>\n",
       "      <th>2024-05-09 11:00:00+00:00</th>\n",
       "      <td>1.07301</td>\n",
       "      <td>107301.0</td>\n",
       "    </tr>\n",
       "    <tr>\n",
       "      <th>2024-05-09 11:05:00+00:00</th>\n",
       "      <td>1.07300</td>\n",
       "      <td>107300.0</td>\n",
       "    </tr>\n",
       "  </tbody>\n",
       "</table>\n",
       "<p>222001 rows × 2 columns</p>\n",
       "</div>"
      ],
      "text/plain": [
       "                             close  close_mul\n",
       "date                                         \n",
       "2021-05-10 21:15:00+00:00  1.21297   121297.0\n",
       "2021-05-10 21:20:00+00:00  1.21305   121305.0\n",
       "2021-05-10 21:25:00+00:00  1.21295   121295.0\n",
       "2021-05-10 21:30:00+00:00  1.21295   121295.0\n",
       "2021-05-10 21:35:00+00:00  1.21305   121305.0\n",
       "...                            ...        ...\n",
       "2024-05-09 10:45:00+00:00  1.07347   107347.0\n",
       "2024-05-09 10:50:00+00:00  1.07349   107349.0\n",
       "2024-05-09 10:55:00+00:00  1.07347   107347.0\n",
       "2024-05-09 11:00:00+00:00  1.07301   107301.0\n",
       "2024-05-09 11:05:00+00:00  1.07300   107300.0\n",
       "\n",
       "[222001 rows x 2 columns]"
      ]
     },
     "execution_count": 3,
     "metadata": {},
     "output_type": "execute_result"
    }
   ],
   "source": [
    "df = pd.read_csv('eurusd.csv')\n",
    "df['date'] = pd.to_datetime(df['date'])\n",
    "df['close_mul'] = df['close']*100000 # scale up the price\n",
    "df.set_index('date', inplace = True)\n",
    "df"
   ]
  },
  {
   "cell_type": "markdown",
   "metadata": {},
   "source": [
    "## Create Lag Features"
   ]
  },
  {
   "cell_type": "code",
   "execution_count": 4,
   "metadata": {},
   "outputs": [
    {
     "data": {
      "text/html": [
       "<div>\n",
       "<style scoped>\n",
       "    .dataframe tbody tr th:only-of-type {\n",
       "        vertical-align: middle;\n",
       "    }\n",
       "\n",
       "    .dataframe tbody tr th {\n",
       "        vertical-align: top;\n",
       "    }\n",
       "\n",
       "    .dataframe thead th {\n",
       "        text-align: right;\n",
       "    }\n",
       "</style>\n",
       "<table border=\"1\" class=\"dataframe\">\n",
       "  <thead>\n",
       "    <tr style=\"text-align: right;\">\n",
       "      <th></th>\n",
       "      <th>price</th>\n",
       "      <th>target</th>\n",
       "      <th>lag_0</th>\n",
       "      <th>lag_1</th>\n",
       "      <th>lag_2</th>\n",
       "      <th>lag_3</th>\n",
       "      <th>lag_4</th>\n",
       "      <th>ret_0</th>\n",
       "      <th>ret_1</th>\n",
       "      <th>ret_2</th>\n",
       "      <th>ret_3</th>\n",
       "      <th>ret_4</th>\n",
       "    </tr>\n",
       "    <tr>\n",
       "      <th>date</th>\n",
       "      <th></th>\n",
       "      <th></th>\n",
       "      <th></th>\n",
       "      <th></th>\n",
       "      <th></th>\n",
       "      <th></th>\n",
       "      <th></th>\n",
       "      <th></th>\n",
       "      <th></th>\n",
       "      <th></th>\n",
       "      <th></th>\n",
       "      <th></th>\n",
       "    </tr>\n",
       "  </thead>\n",
       "  <tbody>\n",
       "    <tr>\n",
       "      <th>2021-05-10 21:40:00+00:00</th>\n",
       "      <td>121305.0</td>\n",
       "      <td>28.0</td>\n",
       "      <td>0.0</td>\n",
       "      <td>10.0</td>\n",
       "      <td>0.0</td>\n",
       "      <td>-10.0</td>\n",
       "      <td>8.0</td>\n",
       "      <td>0.0</td>\n",
       "      <td>10.0</td>\n",
       "      <td>10.0</td>\n",
       "      <td>0.0</td>\n",
       "      <td>8.0</td>\n",
       "    </tr>\n",
       "    <tr>\n",
       "      <th>2021-05-10 21:45:00+00:00</th>\n",
       "      <td>121310.0</td>\n",
       "      <td>5.0</td>\n",
       "      <td>5.0</td>\n",
       "      <td>0.0</td>\n",
       "      <td>10.0</td>\n",
       "      <td>0.0</td>\n",
       "      <td>-10.0</td>\n",
       "      <td>5.0</td>\n",
       "      <td>5.0</td>\n",
       "      <td>15.0</td>\n",
       "      <td>15.0</td>\n",
       "      <td>5.0</td>\n",
       "    </tr>\n",
       "    <tr>\n",
       "      <th>2021-05-10 21:50:00+00:00</th>\n",
       "      <td>121310.0</td>\n",
       "      <td>4.0</td>\n",
       "      <td>0.0</td>\n",
       "      <td>5.0</td>\n",
       "      <td>0.0</td>\n",
       "      <td>10.0</td>\n",
       "      <td>0.0</td>\n",
       "      <td>0.0</td>\n",
       "      <td>5.0</td>\n",
       "      <td>5.0</td>\n",
       "      <td>15.0</td>\n",
       "      <td>15.0</td>\n",
       "    </tr>\n",
       "    <tr>\n",
       "      <th>2021-05-10 21:55:00+00:00</th>\n",
       "      <td>121308.0</td>\n",
       "      <td>11.0</td>\n",
       "      <td>-2.0</td>\n",
       "      <td>0.0</td>\n",
       "      <td>5.0</td>\n",
       "      <td>0.0</td>\n",
       "      <td>10.0</td>\n",
       "      <td>-2.0</td>\n",
       "      <td>-2.0</td>\n",
       "      <td>3.0</td>\n",
       "      <td>3.0</td>\n",
       "      <td>13.0</td>\n",
       "    </tr>\n",
       "    <tr>\n",
       "      <th>2021-05-10 22:00:00+00:00</th>\n",
       "      <td>121333.0</td>\n",
       "      <td>26.0</td>\n",
       "      <td>25.0</td>\n",
       "      <td>-2.0</td>\n",
       "      <td>0.0</td>\n",
       "      <td>5.0</td>\n",
       "      <td>0.0</td>\n",
       "      <td>25.0</td>\n",
       "      <td>23.0</td>\n",
       "      <td>23.0</td>\n",
       "      <td>28.0</td>\n",
       "      <td>28.0</td>\n",
       "    </tr>\n",
       "    <tr>\n",
       "      <th>...</th>\n",
       "      <td>...</td>\n",
       "      <td>...</td>\n",
       "      <td>...</td>\n",
       "      <td>...</td>\n",
       "      <td>...</td>\n",
       "      <td>...</td>\n",
       "      <td>...</td>\n",
       "      <td>...</td>\n",
       "      <td>...</td>\n",
       "      <td>...</td>\n",
       "      <td>...</td>\n",
       "      <td>...</td>\n",
       "    </tr>\n",
       "    <tr>\n",
       "      <th>2024-05-09 10:25:00+00:00</th>\n",
       "      <td>107360.0</td>\n",
       "      <td>-13.0</td>\n",
       "      <td>6.0</td>\n",
       "      <td>0.0</td>\n",
       "      <td>-26.0</td>\n",
       "      <td>21.0</td>\n",
       "      <td>20.0</td>\n",
       "      <td>6.0</td>\n",
       "      <td>6.0</td>\n",
       "      <td>-20.0</td>\n",
       "      <td>1.0</td>\n",
       "      <td>21.0</td>\n",
       "    </tr>\n",
       "    <tr>\n",
       "      <th>2024-05-09 10:30:00+00:00</th>\n",
       "      <td>107365.0</td>\n",
       "      <td>-16.0</td>\n",
       "      <td>5.0</td>\n",
       "      <td>6.0</td>\n",
       "      <td>0.0</td>\n",
       "      <td>-26.0</td>\n",
       "      <td>21.0</td>\n",
       "      <td>5.0</td>\n",
       "      <td>11.0</td>\n",
       "      <td>11.0</td>\n",
       "      <td>-15.0</td>\n",
       "      <td>6.0</td>\n",
       "    </tr>\n",
       "    <tr>\n",
       "      <th>2024-05-09 10:35:00+00:00</th>\n",
       "      <td>107371.0</td>\n",
       "      <td>-24.0</td>\n",
       "      <td>6.0</td>\n",
       "      <td>5.0</td>\n",
       "      <td>6.0</td>\n",
       "      <td>0.0</td>\n",
       "      <td>-26.0</td>\n",
       "      <td>6.0</td>\n",
       "      <td>11.0</td>\n",
       "      <td>17.0</td>\n",
       "      <td>17.0</td>\n",
       "      <td>-9.0</td>\n",
       "    </tr>\n",
       "    <tr>\n",
       "      <th>2024-05-09 10:40:00+00:00</th>\n",
       "      <td>107357.0</td>\n",
       "      <td>-56.0</td>\n",
       "      <td>-14.0</td>\n",
       "      <td>6.0</td>\n",
       "      <td>5.0</td>\n",
       "      <td>6.0</td>\n",
       "      <td>0.0</td>\n",
       "      <td>-14.0</td>\n",
       "      <td>-8.0</td>\n",
       "      <td>-3.0</td>\n",
       "      <td>3.0</td>\n",
       "      <td>3.0</td>\n",
       "    </tr>\n",
       "    <tr>\n",
       "      <th>2024-05-09 10:45:00+00:00</th>\n",
       "      <td>107347.0</td>\n",
       "      <td>-47.0</td>\n",
       "      <td>-10.0</td>\n",
       "      <td>-14.0</td>\n",
       "      <td>6.0</td>\n",
       "      <td>5.0</td>\n",
       "      <td>6.0</td>\n",
       "      <td>-10.0</td>\n",
       "      <td>-24.0</td>\n",
       "      <td>-18.0</td>\n",
       "      <td>-13.0</td>\n",
       "      <td>-7.0</td>\n",
       "    </tr>\n",
       "  </tbody>\n",
       "</table>\n",
       "<p>221992 rows × 12 columns</p>\n",
       "</div>"
      ],
      "text/plain": [
       "                              price  target  lag_0  lag_1  lag_2  lag_3  \\\n",
       "date                                                                      \n",
       "2021-05-10 21:40:00+00:00  121305.0    28.0    0.0   10.0    0.0  -10.0   \n",
       "2021-05-10 21:45:00+00:00  121310.0     5.0    5.0    0.0   10.0    0.0   \n",
       "2021-05-10 21:50:00+00:00  121310.0     4.0    0.0    5.0    0.0   10.0   \n",
       "2021-05-10 21:55:00+00:00  121308.0    11.0   -2.0    0.0    5.0    0.0   \n",
       "2021-05-10 22:00:00+00:00  121333.0    26.0   25.0   -2.0    0.0    5.0   \n",
       "...                             ...     ...    ...    ...    ...    ...   \n",
       "2024-05-09 10:25:00+00:00  107360.0   -13.0    6.0    0.0  -26.0   21.0   \n",
       "2024-05-09 10:30:00+00:00  107365.0   -16.0    5.0    6.0    0.0  -26.0   \n",
       "2024-05-09 10:35:00+00:00  107371.0   -24.0    6.0    5.0    6.0    0.0   \n",
       "2024-05-09 10:40:00+00:00  107357.0   -56.0  -14.0    6.0    5.0    6.0   \n",
       "2024-05-09 10:45:00+00:00  107347.0   -47.0  -10.0  -14.0    6.0    5.0   \n",
       "\n",
       "                           lag_4  ret_0  ret_1  ret_2  ret_3  ret_4  \n",
       "date                                                                 \n",
       "2021-05-10 21:40:00+00:00    8.0    0.0   10.0   10.0    0.0    8.0  \n",
       "2021-05-10 21:45:00+00:00  -10.0    5.0    5.0   15.0   15.0    5.0  \n",
       "2021-05-10 21:50:00+00:00    0.0    0.0    5.0    5.0   15.0   15.0  \n",
       "2021-05-10 21:55:00+00:00   10.0   -2.0   -2.0    3.0    3.0   13.0  \n",
       "2021-05-10 22:00:00+00:00    0.0   25.0   23.0   23.0   28.0   28.0  \n",
       "...                          ...    ...    ...    ...    ...    ...  \n",
       "2024-05-09 10:25:00+00:00   20.0    6.0    6.0  -20.0    1.0   21.0  \n",
       "2024-05-09 10:30:00+00:00   21.0    5.0   11.0   11.0  -15.0    6.0  \n",
       "2024-05-09 10:35:00+00:00  -26.0    6.0   11.0   17.0   17.0   -9.0  \n",
       "2024-05-09 10:40:00+00:00    0.0  -14.0   -8.0   -3.0    3.0    3.0  \n",
       "2024-05-09 10:45:00+00:00    6.0  -10.0  -24.0  -18.0  -13.0   -7.0  \n",
       "\n",
       "[221992 rows x 12 columns]"
      ]
     },
     "execution_count": 4,
     "metadata": {},
     "output_type": "execute_result"
    }
   ],
   "source": [
    "data_model = pd.DataFrame()\n",
    "data_model['price'] = df['close_mul']\n",
    "data_model['target'] = df['close_mul'].shift(-4) - df['close_mul'] \n",
    "for i in range(5):\n",
    "    data_model[f'lag_{i}'] = df['close_mul'].shift(i) - df['close_mul'].shift(i+1) # lagged feature\n",
    "for i in range(5):\n",
    "    data_model[f'ret_{i}'] = df['close_mul'] - df['close_mul'].shift(i+1) # return feature\n",
    "data_model.dropna(inplace=True)\n",
    "data_model.index = pd.to_datetime(data_model.index)\n",
    "data_model"
   ]
  },
  {
   "cell_type": "code",
   "execution_count": 5,
   "metadata": {},
   "outputs": [],
   "source": [
    "from sklearn.linear_model import *\n",
    "from sklearn.model_selection import TimeSeriesSplit\n",
    "from sklearn.metrics import accuracy_score"
   ]
  },
  {
   "cell_type": "code",
   "execution_count": 8,
   "metadata": {},
   "outputs": [],
   "source": [
    "def backtest_price(price_series, position_series):\n",
    "    bt = pd.DataFrame(price_series.diff() * position_series.shift()) # simulate trading strategy based on postion in previous period\n",
    "    bt['Date'] = [str(i)[:10] for i in bt.index]\n",
    "    daily_pnl = bt.groupby('Date').sum()\n",
    "    # calculate Sharpe ratio, Maximum drawdown\n",
    "    return (daily_pnl.mean()/daily_pnl.std()*np.sqrt(252))[0], (daily_pnl.cummax() - daily_pnl.cumsum()).max()/price_series.max()"
   ]
  },
  {
   "cell_type": "markdown",
   "metadata": {},
   "source": [
    "## Fit/Evaluate the model"
   ]
  },
  {
   "cell_type": "code",
   "execution_count": 9,
   "metadata": {},
   "outputs": [
    {
     "name": "stdout",
     "output_type": "stream",
     "text": [
      "Mean Sharpe Ratio: 1.5678928508194214\n",
      "Mean Maximum Drawdown: 0.010035202029223316\n",
      "Mean Accuracy: 0.5099951348721554\n"
     ]
    }
   ],
   "source": [
    "# Model initiation\n",
    "np.random.seed(42)\n",
    "f_names = list(data_model)[2:]\n",
    "model = Lasso(alpha=0.1)\n",
    "X = data_model[f_names]\n",
    "y = data_model['price'].shift(-4) - data_model['price']\n",
    "y_price = data_model['price']\n",
    "\n",
    "n_splits = 5\n",
    "tscv = TimeSeriesSplit(n_splits=n_splits)\n",
    "\n",
    "sharpe = []\n",
    "max_drawdown = []\n",
    "accuracy_scores = []\n",
    "for train_index, val_index in tscv.split(X):\n",
    "    X_train, X_val = X.iloc[train_index], X.iloc[val_index]\n",
    "    y_train, y_val = y.iloc[train_index], y.iloc[val_index]\n",
    "    y_price_train, y_price_test = y_price.iloc[train_index], y_price.iloc[val_index]\n",
    "\n",
    "    model.fit(X_train, y_train)\n",
    "    \n",
    "    y_pred = pd.Series(model.predict(X_val), index=X_val.index)\n",
    "    y_pred_direction = (y_pred > 0).astype(int)\n",
    "    y_true_direction = (y_val > 0).astype(int)\n",
    "    \n",
    "    accuracy = accuracy_score(y_true_direction, y_pred_direction)\n",
    "    accuracy_scores.append(accuracy)\n",
    "    \n",
    "    strategy_positions = y_pred_direction\n",
    "    sharpe_ratio, max_dd = backtest_price(y_price_test, strategy_positions)\n",
    "    sharpe.append(sharpe_ratio)\n",
    "    max_drawdown.append(max_dd)\n",
    "\n",
    "mean_sharpe = np.mean(sharpe)\n",
    "mean_max_drawdown = np.mean(max_drawdown)\n",
    "mean_accuracy = np.mean(accuracy_scores)\n",
    "\n",
    "print(f\"Mean Sharpe Ratio: {mean_sharpe}\")\n",
    "print(f\"Mean Maximum Drawdown: {mean_max_drawdown}\")\n",
    "print(f\"Mean Accuracy: {mean_accuracy}\")"
   ]
  },
  {
   "cell_type": "code",
   "execution_count": 7,
   "metadata": {},
   "outputs": [
    {
     "data": {
      "text/plain": [
       "['lag_0',\n",
       " 'lag_1',\n",
       " 'lag_2',\n",
       " 'lag_3',\n",
       " 'lag_4',\n",
       " 'ret_0',\n",
       " 'ret_1',\n",
       " 'ret_2',\n",
       " 'ret_3',\n",
       " 'ret_4']"
      ]
     },
     "execution_count": 7,
     "metadata": {},
     "output_type": "execute_result"
    }
   ],
   "source": [
    "f_names"
   ]
  },
  {
   "cell_type": "code",
   "execution_count": 8,
   "metadata": {},
   "outputs": [
    {
     "name": "stdout",
     "output_type": "stream",
     "text": [
      "(184994, 10)\n",
      "(36998, 10)\n",
      "(184994,)\n",
      "(36998,)\n"
     ]
    }
   ],
   "source": [
    "print(X_train.shape)\n",
    "print(X_val.shape)\n",
    "print(y_train.shape)\n",
    "print(y_val.shape)"
   ]
  },
  {
   "cell_type": "markdown",
   "metadata": {},
   "source": [
    "## Hyperparameters tuning"
   ]
  },
  {
   "cell_type": "code",
   "execution_count": 11,
   "metadata": {},
   "outputs": [],
   "source": [
    "# fine-tuning function\n",
    "def tuning(window, alpha, n_features_used):\n",
    "    np.random.seed(42)\n",
    "    f_names1 = f_names[:n_features_used]\n",
    "    model = Lasso(alpha = alpha)\n",
    "    X = data_model[f_names1]\n",
    "    y = data_model['price'].shift(-window) - data_model['price']\n",
    "    y_price = data_model['price']\n",
    "\n",
    "    n_splits = 5\n",
    "    tscv = TimeSeriesSplit(n_splits=n_splits)\n",
    "    \n",
    "    sharpe = []\n",
    "    max_drawdown = []\n",
    "    for train_index, val_index in tscv.split(X):\n",
    "        X_train, X_val = X.iloc[train_index], X.iloc[val_index]\n",
    "        y_train, y_val = y.iloc[train_index], y.iloc[val_index]\n",
    "        y_price_train, y_price_test = y_price.iloc[train_index], y_price.iloc[val_index]\n",
    "        model.fit(X_train, y_train)\n",
    "        y_pred = (pd.Series(model.predict(X_val)) > 0).astype(int)\n",
    "        y_pred.index = y_price_test.index\n",
    "        accuracy = backtest_price(y_price_test, (y_pred > 0).astype(int))\n",
    "        sharpe.append(accuracy[0])\n",
    "        max_drawdown.append(accuracy[1])\n",
    "    return np.mean(sharpe), np.mean(max_drawdown)"
   ]
  },
  {
   "cell_type": "code",
   "execution_count": 12,
   "metadata": {},
   "outputs": [
    {
     "data": {
      "text/plain": [
       "(1.4338333360563218, 0.00893364722642335)"
      ]
     },
     "execution_count": 12,
     "metadata": {},
     "output_type": "execute_result"
    }
   ],
   "source": [
    "# test function\n",
    "tuning(5, 0.1, 10)"
   ]
  },
  {
   "cell_type": "code",
   "execution_count": 21,
   "metadata": {},
   "outputs": [
    {
     "name": "stdout",
     "output_type": "stream",
     "text": [
      "     window  alpha  n_features_used    sharpe    max_dd\n",
      "209       4    0.6                4  1.829658  0.008061\n",
      "182       4    0.3                4  1.828895  0.008333\n",
      "200       4    0.5                4  1.822617  0.008081\n",
      "191       4    0.4                4  1.814004  0.008342\n",
      "236       4    0.9                4  1.810835  0.008375\n",
      "..      ...    ...              ...       ...       ...\n",
      "641       9    0.9                4  1.050671  0.011719\n",
      "541       8    0.7                3  1.011206  0.013873\n",
      "550       8    0.8                3  1.008409  0.013736\n",
      "532       8    0.6                3  1.004597  0.013709\n",
      "559       8    0.9                3  0.963431  0.013648\n",
      "\n",
      "[729 rows x 5 columns]\n"
     ]
    }
   ],
   "source": [
    "# choose best params\n",
    "from itertools import product\n",
    "window = list(range(2, 11))\n",
    "alpha = [0.1 * i for i in range(1, 10)]\n",
    "n_features_used = list(range(2, 11))\n",
    "\n",
    "hyperparams = list(product(window, alpha, n_features_used))\n",
    "\n",
    "df_tuned = pd.DataFrame(hyperparams, columns=['window', 'alpha', 'n_features_used'])\n",
    "\n",
    "df_tuned['sharpe'] = [(tuning(df_tuned['window'].iloc[i], df_tuned['alpha'].iloc[i], df_tuned['n_features_used'].iloc[i]))[0] for i in range(len(df_tuned))]\n",
    "df_tuned['max_dd'] = [(tuning(df_tuned['window'].iloc[i], df_tuned['alpha'].iloc[i], df_tuned['n_features_used'].iloc[i]))[1] for i in range(len(df_tuned))]\n",
    "df_sorted = df_tuned.sort_values('sharpe', ascending=False)\n",
    "print(df_sorted)"
   ]
  },
  {
   "cell_type": "markdown",
   "metadata": {},
   "source": [
    "- Best params: window = 4, regularization alpha = 0.6, number of features = 4"
   ]
  },
  {
   "cell_type": "code",
   "execution_count": 14,
   "metadata": {},
   "outputs": [],
   "source": [
    "# create function for pulling out training/testing data model\n",
    "def generate_data(data_train):\n",
    "    data_model = pd.DataFrame()\n",
    "    data_model['price'] = data_train['close_mul']\n",
    "    data_model['target'] = data_train['close_mul'].shift(-4) - data_train['close_mul']\n",
    "    for i in range(5):\n",
    "      data_model['lag_'+str(i)] = data_train['close_mul'].shift(i) - data_train['close_mul'].shift(i+1)\n",
    "    for i in range(5):\n",
    "      data_model['ret_'+str(i)] = data_train['close_mul'] - data_train['close_mul'].shift(i+1)\n",
    "    data_model.dropna(inplace = True)\n",
    "    return data_model"
   ]
  },
  {
   "cell_type": "code",
   "execution_count": 15,
   "metadata": {},
   "outputs": [],
   "source": [
    "# TimeSeriesSplit\n",
    "data_model_train = df.iloc[:184994]\n",
    "data_model_test = df.iloc[184994:]"
   ]
  },
  {
   "cell_type": "code",
   "execution_count": 16,
   "metadata": {},
   "outputs": [],
   "source": [
    "# pull out training data\n",
    "train_data = generate_data(data_model_train)"
   ]
  },
  {
   "cell_type": "markdown",
   "metadata": {},
   "source": [
    "## Fit the model with best params"
   ]
  },
  {
   "cell_type": "code",
   "execution_count": 17,
   "metadata": {},
   "outputs": [
    {
     "data": {
      "text/plain": [
       "Lasso(alpha=0.6)"
      ]
     },
     "execution_count": 17,
     "metadata": {},
     "output_type": "execute_result"
    }
   ],
   "source": [
    "# fit the model with training set\n",
    "alpha = 0.6\n",
    "window = 4\n",
    "n_features_used = 4\n",
    "f_names1 = f_names[:n_features_used]\n",
    "X = train_data[f_names1]\n",
    "y = train_data['price'].shift(-window) - train_data['price']\n",
    "y_price = train_data['price']\n",
    "model = Lasso(alpha=alpha)\n",
    "n_splits = 5\n",
    "tscv = TimeSeriesSplit(n_splits=n_splits)\n",
    "for train_index, val_index in tscv.split(X):\n",
    "    X_train, X_val = X.iloc[train_index], X.iloc[val_index]\n",
    "    y_train, y_val = y.iloc[train_index], y.iloc[val_index]\n",
    "    y_price_train, y_price_test = y_price.iloc[train_index], y_price.iloc[val_index]\n",
    "model.fit(X_train, y_train)"
   ]
  },
  {
   "cell_type": "code",
   "execution_count": 18,
   "metadata": {},
   "outputs": [],
   "source": [
    "def backtest_position(position, price):\n",
    "    pos = pd.Series(position)\n",
    "    pr = pd.Series(price)\n",
    "\n",
    "    pos_long = np.where(pos>0, pos, 0)\n",
    "    pos_short = np.where(pos<0, pos, 0)\n",
    "    pnl_long = (pr.shift(-1)-pr) * pos_long\n",
    "    pnl_short = (pr.shift(-1)-pr) * pos_short\n",
    "\n",
    "    return pnl_long + pnl_short"
   ]
  },
  {
   "cell_type": "markdown",
   "metadata": {},
   "source": [
    "## Backtesting"
   ]
  },
  {
   "cell_type": "code",
   "execution_count": 19,
   "metadata": {},
   "outputs": [
    {
     "data": {
      "text/plain": [
       "<AxesSubplot:xlabel='Date'>"
      ]
     },
     "execution_count": 19,
     "metadata": {},
     "output_type": "execute_result"
    },
    {
     "data": {
      "image/png": "[encoded data removed]",
      "text/plain": [
       "<Figure size 640x480 with 1 Axes>"
      ]
     },
     "metadata": {},
     "output_type": "display_data"
    }
   ],
   "source": [
    "# backtesting on train data\n",
    "train_data['target_prediction'] = model.predict(train_data[f_names1])\n",
    "train_data['position'] = (train_data['target_prediction']>0).astype(int).replace(0,-1) # positive predictions in long, negative in short\n",
    "backtest = backtest_position(train_data['position'], train_data['price'])\n",
    "bt = pd.DataFrame(backtest)\n",
    "bt['Date'] = [str(i)[:10] for i in bt.index]\n",
    "bt.groupby('Date').sum().cumsum().plot()"
   ]
  },
  {
   "cell_type": "code",
   "execution_count": 20,
   "metadata": {},
   "outputs": [],
   "source": [
    "# get test data\n",
    "test_data = generate_data(data_model_test)"
   ]
  },
  {
   "cell_type": "code",
   "execution_count": 21,
   "metadata": {},
   "outputs": [
    {
     "data": {
      "image/png": "[encoded data removed]",
      "text/plain": [
       "<Figure size 640x480 with 1 Axes>"
      ]
     },
     "metadata": {},
     "output_type": "display_data"
    }
   ],
   "source": [
    "import matplotlib.pyplot as plt\n",
    "# backtesting on test data\n",
    "test_data['target_prediction'] = model.predict(test_data[f_names1])\n",
    "test_data['position'] = (test_data['target_prediction'] > 0).astype(int).replace(0, -1)\n",
    "backtest = backtest_position(test_data['position'], test_data['price'])\n",
    "bt = pd.DataFrame(backtest)\n",
    "bt['Date'] = [str(i)[:10] for i in bt.index]\n",
    "bt.groupby('Date').sum().cumsum().plot()\n",
    "plt.show()"
   ]
  },
  {
   "cell_type": "markdown",
   "metadata": {},
   "source": [
    "- The test backtest results capture more recent data and show short-term volatility, which is expected given the smaller time frame\n",
    "- The test backtest may better reflect current market sentiment, whereas the train backtest results represent a more smoothed long-term historical view"
   ]
  },
  {
   "cell_type": "code",
   "execution_count": 22,
   "metadata": {},
   "outputs": [
    {
     "data": {
      "text/html": [
       "<div>\n",
       "<style scoped>\n",
       "    .dataframe tbody tr th:only-of-type {\n",
       "        vertical-align: middle;\n",
       "    }\n",
       "\n",
       "    .dataframe tbody tr th {\n",
       "        vertical-align: top;\n",
       "    }\n",
       "\n",
       "    .dataframe thead th {\n",
       "        text-align: right;\n",
       "    }\n",
       "</style>\n",
       "<table border=\"1\" class=\"dataframe\">\n",
       "  <thead>\n",
       "    <tr style=\"text-align: right;\">\n",
       "      <th></th>\n",
       "      <th>price</th>\n",
       "      <th>target</th>\n",
       "      <th>lag_0</th>\n",
       "      <th>lag_1</th>\n",
       "      <th>lag_2</th>\n",
       "      <th>lag_3</th>\n",
       "      <th>lag_4</th>\n",
       "      <th>ret_0</th>\n",
       "      <th>ret_1</th>\n",
       "      <th>ret_2</th>\n",
       "      <th>ret_3</th>\n",
       "      <th>ret_4</th>\n",
       "      <th>target_prediction</th>\n",
       "      <th>position</th>\n",
       "    </tr>\n",
       "    <tr>\n",
       "      <th>date</th>\n",
       "      <th></th>\n",
       "      <th></th>\n",
       "      <th></th>\n",
       "      <th></th>\n",
       "      <th></th>\n",
       "      <th></th>\n",
       "      <th></th>\n",
       "      <th></th>\n",
       "      <th></th>\n",
       "      <th></th>\n",
       "      <th></th>\n",
       "      <th></th>\n",
       "      <th></th>\n",
       "      <th></th>\n",
       "    </tr>\n",
       "  </thead>\n",
       "  <tbody>\n",
       "    <tr>\n",
       "      <th>2023-11-07 10:40:00+00:00</th>\n",
       "      <td>106846.0</td>\n",
       "      <td>-20.0</td>\n",
       "      <td>-35.0</td>\n",
       "      <td>-54.0</td>\n",
       "      <td>-27.0</td>\n",
       "      <td>15.0</td>\n",
       "      <td>44.0</td>\n",
       "      <td>-35.0</td>\n",
       "      <td>-89.0</td>\n",
       "      <td>-116.0</td>\n",
       "      <td>-101.0</td>\n",
       "      <td>-57.0</td>\n",
       "      <td>2.007266</td>\n",
       "      <td>1</td>\n",
       "    </tr>\n",
       "    <tr>\n",
       "      <th>2023-11-07 10:45:00+00:00</th>\n",
       "      <td>106849.0</td>\n",
       "      <td>-25.0</td>\n",
       "      <td>3.0</td>\n",
       "      <td>-35.0</td>\n",
       "      <td>-54.0</td>\n",
       "      <td>-27.0</td>\n",
       "      <td>15.0</td>\n",
       "      <td>3.0</td>\n",
       "      <td>-32.0</td>\n",
       "      <td>-86.0</td>\n",
       "      <td>-113.0</td>\n",
       "      <td>-98.0</td>\n",
       "      <td>1.568320</td>\n",
       "      <td>1</td>\n",
       "    </tr>\n",
       "    <tr>\n",
       "      <th>2023-11-07 10:50:00+00:00</th>\n",
       "      <td>106812.0</td>\n",
       "      <td>-11.0</td>\n",
       "      <td>-37.0</td>\n",
       "      <td>3.0</td>\n",
       "      <td>-35.0</td>\n",
       "      <td>-54.0</td>\n",
       "      <td>-27.0</td>\n",
       "      <td>-37.0</td>\n",
       "      <td>-34.0</td>\n",
       "      <td>-69.0</td>\n",
       "      <td>-123.0</td>\n",
       "      <td>-150.0</td>\n",
       "      <td>2.435363</td>\n",
       "      <td>1</td>\n",
       "    </tr>\n",
       "    <tr>\n",
       "      <th>2023-11-07 10:55:00+00:00</th>\n",
       "      <td>106816.0</td>\n",
       "      <td>-50.0</td>\n",
       "      <td>4.0</td>\n",
       "      <td>-37.0</td>\n",
       "      <td>3.0</td>\n",
       "      <td>-35.0</td>\n",
       "      <td>-54.0</td>\n",
       "      <td>4.0</td>\n",
       "      <td>-33.0</td>\n",
       "      <td>-30.0</td>\n",
       "      <td>-65.0</td>\n",
       "      <td>-119.0</td>\n",
       "      <td>0.687490</td>\n",
       "      <td>1</td>\n",
       "    </tr>\n",
       "    <tr>\n",
       "      <th>2023-11-07 11:00:00+00:00</th>\n",
       "      <td>106826.0</td>\n",
       "      <td>-54.0</td>\n",
       "      <td>10.0</td>\n",
       "      <td>4.0</td>\n",
       "      <td>-37.0</td>\n",
       "      <td>3.0</td>\n",
       "      <td>-35.0</td>\n",
       "      <td>10.0</td>\n",
       "      <td>14.0</td>\n",
       "      <td>-23.0</td>\n",
       "      <td>-20.0</td>\n",
       "      <td>-55.0</td>\n",
       "      <td>-0.185181</td>\n",
       "      <td>-1</td>\n",
       "    </tr>\n",
       "    <tr>\n",
       "      <th>...</th>\n",
       "      <td>...</td>\n",
       "      <td>...</td>\n",
       "      <td>...</td>\n",
       "      <td>...</td>\n",
       "      <td>...</td>\n",
       "      <td>...</td>\n",
       "      <td>...</td>\n",
       "      <td>...</td>\n",
       "      <td>...</td>\n",
       "      <td>...</td>\n",
       "      <td>...</td>\n",
       "      <td>...</td>\n",
       "      <td>...</td>\n",
       "      <td>...</td>\n",
       "    </tr>\n",
       "    <tr>\n",
       "      <th>2024-05-09 10:25:00+00:00</th>\n",
       "      <td>107360.0</td>\n",
       "      <td>-13.0</td>\n",
       "      <td>6.0</td>\n",
       "      <td>0.0</td>\n",
       "      <td>-26.0</td>\n",
       "      <td>21.0</td>\n",
       "      <td>20.0</td>\n",
       "      <td>6.0</td>\n",
       "      <td>6.0</td>\n",
       "      <td>-20.0</td>\n",
       "      <td>1.0</td>\n",
       "      <td>21.0</td>\n",
       "      <td>-0.487964</td>\n",
       "      <td>-1</td>\n",
       "    </tr>\n",
       "    <tr>\n",
       "      <th>2024-05-09 10:30:00+00:00</th>\n",
       "      <td>107365.0</td>\n",
       "      <td>-16.0</td>\n",
       "      <td>5.0</td>\n",
       "      <td>6.0</td>\n",
       "      <td>0.0</td>\n",
       "      <td>-26.0</td>\n",
       "      <td>21.0</td>\n",
       "      <td>5.0</td>\n",
       "      <td>11.0</td>\n",
       "      <td>11.0</td>\n",
       "      <td>-15.0</td>\n",
       "      <td>6.0</td>\n",
       "      <td>-0.200371</td>\n",
       "      <td>-1</td>\n",
       "    </tr>\n",
       "    <tr>\n",
       "      <th>2024-05-09 10:35:00+00:00</th>\n",
       "      <td>107371.0</td>\n",
       "      <td>-24.0</td>\n",
       "      <td>6.0</td>\n",
       "      <td>5.0</td>\n",
       "      <td>6.0</td>\n",
       "      <td>0.0</td>\n",
       "      <td>-26.0</td>\n",
       "      <td>6.0</td>\n",
       "      <td>11.0</td>\n",
       "      <td>17.0</td>\n",
       "      <td>17.0</td>\n",
       "      <td>-9.0</td>\n",
       "      <td>-0.780507</td>\n",
       "      <td>-1</td>\n",
       "    </tr>\n",
       "    <tr>\n",
       "      <th>2024-05-09 10:40:00+00:00</th>\n",
       "      <td>107357.0</td>\n",
       "      <td>-56.0</td>\n",
       "      <td>-14.0</td>\n",
       "      <td>6.0</td>\n",
       "      <td>5.0</td>\n",
       "      <td>6.0</td>\n",
       "      <td>0.0</td>\n",
       "      <td>-14.0</td>\n",
       "      <td>-8.0</td>\n",
       "      <td>-3.0</td>\n",
       "      <td>3.0</td>\n",
       "      <td>3.0</td>\n",
       "      <td>-0.186751</td>\n",
       "      <td>-1</td>\n",
       "    </tr>\n",
       "    <tr>\n",
       "      <th>2024-05-09 10:45:00+00:00</th>\n",
       "      <td>107347.0</td>\n",
       "      <td>-47.0</td>\n",
       "      <td>-10.0</td>\n",
       "      <td>-14.0</td>\n",
       "      <td>6.0</td>\n",
       "      <td>5.0</td>\n",
       "      <td>6.0</td>\n",
       "      <td>-10.0</td>\n",
       "      <td>-24.0</td>\n",
       "      <td>-18.0</td>\n",
       "      <td>-13.0</td>\n",
       "      <td>-7.0</td>\n",
       "      <td>0.021607</td>\n",
       "      <td>1</td>\n",
       "    </tr>\n",
       "  </tbody>\n",
       "</table>\n",
       "<p>36998 rows × 14 columns</p>\n",
       "</div>"
      ],
      "text/plain": [
       "                              price  target  lag_0  lag_1  lag_2  lag_3  \\\n",
       "date                                                                      \n",
       "2023-11-07 10:40:00+00:00  106846.0   -20.0  -35.0  -54.0  -27.0   15.0   \n",
       "2023-11-07 10:45:00+00:00  106849.0   -25.0    3.0  -35.0  -54.0  -27.0   \n",
       "2023-11-07 10:50:00+00:00  106812.0   -11.0  -37.0    3.0  -35.0  -54.0   \n",
       "2023-11-07 10:55:00+00:00  106816.0   -50.0    4.0  -37.0    3.0  -35.0   \n",
       "2023-11-07 11:00:00+00:00  106826.0   -54.0   10.0    4.0  -37.0    3.0   \n",
       "...                             ...     ...    ...    ...    ...    ...   \n",
       "2024-05-09 10:25:00+00:00  107360.0   -13.0    6.0    0.0  -26.0   21.0   \n",
       "2024-05-09 10:30:00+00:00  107365.0   -16.0    5.0    6.0    0.0  -26.0   \n",
       "2024-05-09 10:35:00+00:00  107371.0   -24.0    6.0    5.0    6.0    0.0   \n",
       "2024-05-09 10:40:00+00:00  107357.0   -56.0  -14.0    6.0    5.0    6.0   \n",
       "2024-05-09 10:45:00+00:00  107347.0   -47.0  -10.0  -14.0    6.0    5.0   \n",
       "\n",
       "                           lag_4  ret_0  ret_1  ret_2  ret_3  ret_4  \\\n",
       "date                                                                  \n",
       "2023-11-07 10:40:00+00:00   44.0  -35.0  -89.0 -116.0 -101.0  -57.0   \n",
       "2023-11-07 10:45:00+00:00   15.0    3.0  -32.0  -86.0 -113.0  -98.0   \n",
       "2023-11-07 10:50:00+00:00  -27.0  -37.0  -34.0  -69.0 -123.0 -150.0   \n",
       "2023-11-07 10:55:00+00:00  -54.0    4.0  -33.0  -30.0  -65.0 -119.0   \n",
       "2023-11-07 11:00:00+00:00  -35.0   10.0   14.0  -23.0  -20.0  -55.0   \n",
       "...                          ...    ...    ...    ...    ...    ...   \n",
       "2024-05-09 10:25:00+00:00   20.0    6.0    6.0  -20.0    1.0   21.0   \n",
       "2024-05-09 10:30:00+00:00   21.0    5.0   11.0   11.0  -15.0    6.0   \n",
       "2024-05-09 10:35:00+00:00  -26.0    6.0   11.0   17.0   17.0   -9.0   \n",
       "2024-05-09 10:40:00+00:00    0.0  -14.0   -8.0   -3.0    3.0    3.0   \n",
       "2024-05-09 10:45:00+00:00    6.0  -10.0  -24.0  -18.0  -13.0   -7.0   \n",
       "\n",
       "                           target_prediction  position  \n",
       "date                                                    \n",
       "2023-11-07 10:40:00+00:00           2.007266         1  \n",
       "2023-11-07 10:45:00+00:00           1.568320         1  \n",
       "2023-11-07 10:50:00+00:00           2.435363         1  \n",
       "2023-11-07 10:55:00+00:00           0.687490         1  \n",
       "2023-11-07 11:00:00+00:00          -0.185181        -1  \n",
       "...                                      ...       ...  \n",
       "2024-05-09 10:25:00+00:00          -0.487964        -1  \n",
       "2024-05-09 10:30:00+00:00          -0.200371        -1  \n",
       "2024-05-09 10:35:00+00:00          -0.780507        -1  \n",
       "2024-05-09 10:40:00+00:00          -0.186751        -1  \n",
       "2024-05-09 10:45:00+00:00           0.021607         1  \n",
       "\n",
       "[36998 rows x 14 columns]"
      ]
     },
     "execution_count": 22,
     "metadata": {},
     "output_type": "execute_result"
    }
   ],
   "source": [
    "test_data"
   ]
  },
  {
   "cell_type": "code",
   "execution_count": 23,
   "metadata": {},
   "outputs": [
    {
     "data": {
      "text/plain": [
       "['lasso_model.joblib']"
      ]
     },
     "execution_count": 23,
     "metadata": {},
     "output_type": "execute_result"
    }
   ],
   "source": [
    "from joblib import dump\n",
    "file_path = 'lasso_model.joblib'\n",
    "dump(model, file_path)"
   ]
  },
  {
   "cell_type": "code",
   "execution_count": 24,
   "metadata": {},
   "outputs": [
    {
     "data": {
      "text/plain": [
       "position\n",
       "-1    26260\n",
       " 1    10738\n",
       "Name: count, dtype: int64"
      ]
     },
     "execution_count": 24,
     "metadata": {},
     "output_type": "execute_result"
    }
   ],
   "source": [
    "test_data['position'].value_counts()"
   ]
  }
 ],
 "metadata": {
  "kernelspec": {
   "display_name": "min_ds-env",
   "language": "python",
   "name": "python3"
  },
  "language_info": {
   "codemirror_mode": {
    "name": "ipython",
    "version": 3
   },
   "file_extension": ".py",
   "mimetype": "text/x-python",
   "name": "python",
   "nbconvert_exporter": "python",
   "pygments_lexer": "ipython3",
   "version": "3.8.19"
  }
 },
 "nbformat": 4,
 "nbformat_minor": 2
}
