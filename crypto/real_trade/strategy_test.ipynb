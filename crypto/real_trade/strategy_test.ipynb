{
 "cells": [
  {
   "cell_type": "code",
   "execution_count": 60,
   "metadata": {},
   "outputs": [],
   "source": [
    "from binance.client import Client\n",
    "import pandas as pd\n",
    "from time import sleep"
   ]
  },
  {
   "cell_type": "code",
   "execution_count": 55,
   "metadata": {},
   "outputs": [],
   "source": [
    "api = \"KQ0WSoJWjc9jccInXJPi7xZbKV2VA024oLgZx1kFPHdRcbw1nTn6NpUArL4SFT1M\"\n",
    "secret = \"PPHApTk4jaMK4rP3LKNLHpJ6UvyRjhHHemS7QvhUnneSMgA9CKGHlty40O5u3ynz\""
   ]
  },
  {
   "cell_type": "code",
   "execution_count": 56,
   "metadata": {},
   "outputs": [],
   "source": [
    "client = Client(api, secret)"
   ]
  },
  {
   "cell_type": "code",
   "execution_count": 74,
   "metadata": {},
   "outputs": [],
   "source": [
    "def get_hour_data(symbol, interval, lookback):\n",
    "    frame = pd.DataFrame(client.get_historical_klines(symbol, interval, lookback + \" hour ago UTC\"))\n",
    "    frame = frame.iloc[:, 0:6]\n",
    "    frame.columns = [\"time\", \"open\", \"high\", \"low\", \"close\", \"volume\"]\n",
    "    frame = frame.set_index(\"time\")\n",
    "    frame.index = pd.to_datetime(frame.index, unit=\"ms\")\n",
    "    frame = frame.astype(float)\n",
    "    return frame"
   ]
  },
  {
   "cell_type": "code",
   "execution_count": 75,
   "metadata": {},
   "outputs": [
    {
     "data": {
      "text/html": [
       "<div>\n",
       "<style scoped>\n",
       "    .dataframe tbody tr th:only-of-type {\n",
       "        vertical-align: middle;\n",
       "    }\n",
       "\n",
       "    .dataframe tbody tr th {\n",
       "        vertical-align: top;\n",
       "    }\n",
       "\n",
       "    .dataframe thead th {\n",
       "        text-align: right;\n",
       "    }\n",
       "</style>\n",
       "<table border=\"1\" class=\"dataframe\">\n",
       "  <thead>\n",
       "    <tr style=\"text-align: right;\">\n",
       "      <th></th>\n",
       "      <th>open</th>\n",
       "      <th>high</th>\n",
       "      <th>low</th>\n",
       "      <th>close</th>\n",
       "      <th>volume</th>\n",
       "      <th>ret</th>\n",
       "      <th>price</th>\n",
       "    </tr>\n",
       "    <tr>\n",
       "      <th>time</th>\n",
       "      <th></th>\n",
       "      <th></th>\n",
       "      <th></th>\n",
       "      <th></th>\n",
       "      <th></th>\n",
       "      <th></th>\n",
       "      <th></th>\n",
       "    </tr>\n",
       "  </thead>\n",
       "  <tbody>\n",
       "    <tr>\n",
       "      <th>2024-08-15 06:00:00</th>\n",
       "      <td>58315.01</td>\n",
       "      <td>58390.00</td>\n",
       "      <td>57847.32</td>\n",
       "      <td>58101.44</td>\n",
       "      <td>1550.94234</td>\n",
       "      <td>NaN</td>\n",
       "      <td>58101.44</td>\n",
       "    </tr>\n",
       "    <tr>\n",
       "      <th>2024-08-15 07:00:00</th>\n",
       "      <td>58101.44</td>\n",
       "      <td>58149.00</td>\n",
       "      <td>57713.88</td>\n",
       "      <td>58060.37</td>\n",
       "      <td>1156.56805</td>\n",
       "      <td>-0.000707</td>\n",
       "      <td>58060.36</td>\n",
       "    </tr>\n",
       "    <tr>\n",
       "      <th>2024-08-15 08:00:00</th>\n",
       "      <td>58060.36</td>\n",
       "      <td>58335.33</td>\n",
       "      <td>57964.85</td>\n",
       "      <td>58313.48</td>\n",
       "      <td>851.07714</td>\n",
       "      <td>0.004359</td>\n",
       "      <td>NaN</td>\n",
       "    </tr>\n",
       "  </tbody>\n",
       "</table>\n",
       "</div>"
      ],
      "text/plain": [
       "                         open      high       low     close      volume  \\\n",
       "time                                                                      \n",
       "2024-08-15 06:00:00  58315.01  58390.00  57847.32  58101.44  1550.94234   \n",
       "2024-08-15 07:00:00  58101.44  58149.00  57713.88  58060.37  1156.56805   \n",
       "2024-08-15 08:00:00  58060.36  58335.33  57964.85  58313.48   851.07714   \n",
       "\n",
       "                          ret     price  \n",
       "time                                     \n",
       "2024-08-15 06:00:00       NaN  58101.44  \n",
       "2024-08-15 07:00:00 -0.000707  58060.36  \n",
       "2024-08-15 08:00:00  0.004359       NaN  "
      ]
     },
     "execution_count": 75,
     "metadata": {},
     "output_type": "execute_result"
    }
   ],
   "source": [
    "get_hour_data('BTCUSDT', '1h', '3')"
   ]
  },
  {
   "cell_type": "code",
   "execution_count": 59,
   "metadata": {},
   "outputs": [],
   "source": [
    "def strategytest(symbol, qty, entried=False):\n",
    "    df = get_hour_data(symbol, '1h', '3')\n",
    "    df['ret'] = df['close'].pct_change()\n",
    "    df['price'] = df['open'].shift(-1)\n",
    "    in_position = entried\n",
    "\n",
    "    if not in_position:\n",
    "        # Check entry condition\n",
    "        if df['ret'].iloc[-1] > 0.01:\n",
    "            buy_price = df['price'].iloc[-1]\n",
    "            tp = buy_price * 1.05\n",
    "            sl = buy_price * 0.95\n",
    "            order = client.create_order(symbol=symbol, side='BUY', type='MARKET', quantity=qty)\n",
    "            print(f\"Entry order executed: {order}\")\n",
    "            print(order)\n",
    "            in_position = True\n",
    "            buy_time = pd.to_datetime(order['transactTime'], unit='ms')\n",
    "    else:\n",
    "        while in_position:\n",
    "            df = get_hour_data(symbol, '1h', '3')\n",
    "            since_buy = df.loc[df.index > buy_time]\n",
    "            if len(since_buy) > 0:\n",
    "                for _, row in since_buy.iterrows():\n",
    "                    if row['high'] > tp:\n",
    "                        order = client.create_order(symbol=symbol, side='SELL', type='MARKET', quantity=qty)\n",
    "                        print(f\"Take Profit order executed: {order}\")\n",
    "                        in_position = False\n",
    "                        break\n",
    "                    elif row['low'] < sl:\n",
    "                        order = client.create_order(symbol=symbol, side='SELL', type='MARKET', quantity=qty)\n",
    "                        print(f\"Stop Loss order executed: {order}\")\n",
    "                        in_position = False\n",
    "                        break\n",
    "            sleep(3600)  # Wait for 1 hour before the next check"
   ]
  },
  {
   "cell_type": "code",
   "execution_count": 76,
   "metadata": {},
   "outputs": [],
   "source": [
    "def run_strategy_continuously(symbol, qty):\n",
    "    entried = False\n",
    "    while True:\n",
    "        strategytest(symbol, qty, entried)\n",
    "        sleep(3600)\n",
    "\n",
    "run_strategy_continuously('BTCUSDT', 0.001)\n"
   ]
  }
 ],
 "metadata": {
  "kernelspec": {
   "display_name": "min_ds-env",
   "language": "python",
   "name": "python3"
  },
  "language_info": {
   "codemirror_mode": {
    "name": "ipython",
    "version": 3
   },
   "file_extension": ".py",
   "mimetype": "text/x-python",
   "name": "python",
   "nbconvert_exporter": "python",
   "pygments_lexer": "ipython3",
   "version": "3.8.19"
  }
 },
 "nbformat": 4,
 "nbformat_minor": 2
}
