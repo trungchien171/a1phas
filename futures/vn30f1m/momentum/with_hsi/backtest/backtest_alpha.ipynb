{
 "cells": [
  {
   "cell_type": "markdown",
   "metadata": {},
   "source": [
    "### IS backtest"
   ]
  },
  {
   "cell_type": "markdown",
   "metadata": {},
   "source": [
    "#### Data Preprocessing"
   ]
  },
  {
   "cell_type": "code",
   "execution_count": 48,
   "metadata": {},
   "outputs": [],
   "source": [
    "import os\n",
    "import random\n",
    "import requests\n",
    "import numpy as np\n",
    "import pandas as pd\n",
    "from tqdm import tqdm\n",
    "\n",
    "from datetime import datetime,timedelta, timezone"
   ]
  },
  {
   "cell_type": "code",
   "execution_count": 49,
   "metadata": {},
   "outputs": [
    {
     "data": {
      "text/html": [
       "<div>\n",
       "<style scoped>\n",
       "    .dataframe tbody tr th:only-of-type {\n",
       "        vertical-align: middle;\n",
       "    }\n",
       "\n",
       "    .dataframe tbody tr th {\n",
       "        vertical-align: top;\n",
       "    }\n",
       "\n",
       "    .dataframe thead th {\n",
       "        text-align: right;\n",
       "    }\n",
       "</style>\n",
       "<table border=\"1\" class=\"dataframe\">\n",
       "  <thead>\n",
       "    <tr style=\"text-align: right;\">\n",
       "      <th></th>\n",
       "      <th>date</th>\n",
       "      <th>open</th>\n",
       "      <th>high</th>\n",
       "      <th>low</th>\n",
       "      <th>close</th>\n",
       "      <th>volume</th>\n",
       "    </tr>\n",
       "  </thead>\n",
       "  <tbody>\n",
       "    <tr>\n",
       "      <th>0</th>\n",
       "      <td>2018-08-13 09:00:00</td>\n",
       "      <td>943.5</td>\n",
       "      <td>943.5</td>\n",
       "      <td>942.9</td>\n",
       "      <td>942.9</td>\n",
       "      <td>975</td>\n",
       "    </tr>\n",
       "    <tr>\n",
       "      <th>1</th>\n",
       "      <td>2018-08-13 09:01:00</td>\n",
       "      <td>943.0</td>\n",
       "      <td>943.1</td>\n",
       "      <td>942.9</td>\n",
       "      <td>943.1</td>\n",
       "      <td>220</td>\n",
       "    </tr>\n",
       "    <tr>\n",
       "      <th>2</th>\n",
       "      <td>2018-08-13 09:02:00</td>\n",
       "      <td>943.0</td>\n",
       "      <td>943.6</td>\n",
       "      <td>943.0</td>\n",
       "      <td>943.5</td>\n",
       "      <td>121</td>\n",
       "    </tr>\n",
       "    <tr>\n",
       "      <th>3</th>\n",
       "      <td>2018-08-13 09:03:00</td>\n",
       "      <td>943.3</td>\n",
       "      <td>943.4</td>\n",
       "      <td>943.3</td>\n",
       "      <td>943.4</td>\n",
       "      <td>135</td>\n",
       "    </tr>\n",
       "    <tr>\n",
       "      <th>4</th>\n",
       "      <td>2018-08-13 09:04:00</td>\n",
       "      <td>943.2</td>\n",
       "      <td>943.2</td>\n",
       "      <td>943.0</td>\n",
       "      <td>943.1</td>\n",
       "      <td>361</td>\n",
       "    </tr>\n",
       "    <tr>\n",
       "      <th>...</th>\n",
       "      <td>...</td>\n",
       "      <td>...</td>\n",
       "      <td>...</td>\n",
       "      <td>...</td>\n",
       "      <td>...</td>\n",
       "      <td>...</td>\n",
       "    </tr>\n",
       "    <tr>\n",
       "      <th>331587</th>\n",
       "      <td>2024-08-07 10:52:00</td>\n",
       "      <td>1250.8</td>\n",
       "      <td>1251.2</td>\n",
       "      <td>1250.7</td>\n",
       "      <td>1250.8</td>\n",
       "      <td>679</td>\n",
       "    </tr>\n",
       "    <tr>\n",
       "      <th>331588</th>\n",
       "      <td>2024-08-07 10:53:00</td>\n",
       "      <td>1250.7</td>\n",
       "      <td>1250.7</td>\n",
       "      <td>1249.5</td>\n",
       "      <td>1249.6</td>\n",
       "      <td>658</td>\n",
       "    </tr>\n",
       "    <tr>\n",
       "      <th>331589</th>\n",
       "      <td>2024-08-07 10:54:00</td>\n",
       "      <td>1249.6</td>\n",
       "      <td>1249.9</td>\n",
       "      <td>1249.3</td>\n",
       "      <td>1249.9</td>\n",
       "      <td>823</td>\n",
       "    </tr>\n",
       "    <tr>\n",
       "      <th>331590</th>\n",
       "      <td>2024-08-07 10:55:00</td>\n",
       "      <td>1249.7</td>\n",
       "      <td>1249.9</td>\n",
       "      <td>1249.3</td>\n",
       "      <td>1249.4</td>\n",
       "      <td>467</td>\n",
       "    </tr>\n",
       "    <tr>\n",
       "      <th>331591</th>\n",
       "      <td>2024-08-07 10:56:00</td>\n",
       "      <td>1249.3</td>\n",
       "      <td>1249.6</td>\n",
       "      <td>1249.2</td>\n",
       "      <td>1249.4</td>\n",
       "      <td>503</td>\n",
       "    </tr>\n",
       "  </tbody>\n",
       "</table>\n",
       "<p>331592 rows × 6 columns</p>\n",
       "</div>"
      ],
      "text/plain": [
       "                      date    open    high     low   close  volume\n",
       "0      2018-08-13 09:00:00   943.5   943.5   942.9   942.9     975\n",
       "1      2018-08-13 09:01:00   943.0   943.1   942.9   943.1     220\n",
       "2      2018-08-13 09:02:00   943.0   943.6   943.0   943.5     121\n",
       "3      2018-08-13 09:03:00   943.3   943.4   943.3   943.4     135\n",
       "4      2018-08-13 09:04:00   943.2   943.2   943.0   943.1     361\n",
       "...                    ...     ...     ...     ...     ...     ...\n",
       "331587 2024-08-07 10:52:00  1250.8  1251.2  1250.7  1250.8     679\n",
       "331588 2024-08-07 10:53:00  1250.7  1250.7  1249.5  1249.6     658\n",
       "331589 2024-08-07 10:54:00  1249.6  1249.9  1249.3  1249.9     823\n",
       "331590 2024-08-07 10:55:00  1249.7  1249.9  1249.3  1249.4     467\n",
       "331591 2024-08-07 10:56:00  1249.3  1249.6  1249.2  1249.4     503\n",
       "\n",
       "[331592 rows x 6 columns]"
      ]
     },
     "execution_count": 49,
     "metadata": {},
     "output_type": "execute_result"
    }
   ],
   "source": [
    "def get_vn30f1m_trading(start, ticker):\n",
    "    \"\"\"\n",
    "    Fetch VN30F1M trading data from the API.\n",
    "\n",
    "    Parameters:\n",
    "    start (int): The start timestamp.\n",
    "    ticker (str): The ticker symbol.\n",
    "\n",
    "    Returns:\n",
    "    pd.DataFrame: A DataFrame containing the trading data.\n",
    "    \"\"\"\n",
    "    end = '9999999999'\n",
    "    url = f\"https://services.entrade.com.vn/chart-api/chart?from={start}&resolution=1&symbol={ticker}&to={end}\"\n",
    "    try:\n",
    "        resp = requests.get(url)\n",
    "        data = resp.json()\n",
    "        if not data:\n",
    "            print(f\"No data returned for {ticker}\")\n",
    "        vn30f1m = pd.DataFrame(data).iloc[:, :6]\n",
    "        vn30f1m['t'] = vn30f1m['t'].astype(int).apply(lambda x: (datetime.fromtimestamp(x, timezone.utc) + timedelta(hours=7)).replace(tzinfo=None))\n",
    "        vn30f1m.columns = ['date', 'open', 'high', 'low', 'close', 'volume']\n",
    "        return vn30f1m\n",
    "    except Exception as e:\n",
    "        print(f\"Error fetching data for {ticker}: {e}.\")\n",
    "        return pd.DataFrame()\n",
    "\n",
    "vn30f1m = get_vn30f1m_trading('0', 'VN30F1M')\n",
    "vn30f1m"
   ]
  },
  {
   "cell_type": "markdown",
   "metadata": {},
   "source": [
    "#### Extract only VN30F1M close price at 14pm"
   ]
  },
  {
   "cell_type": "code",
   "execution_count": 50,
   "metadata": {},
   "outputs": [
    {
     "data": {
      "text/html": [
       "<div>\n",
       "<style scoped>\n",
       "    .dataframe tbody tr th:only-of-type {\n",
       "        vertical-align: middle;\n",
       "    }\n",
       "\n",
       "    .dataframe tbody tr th {\n",
       "        vertical-align: top;\n",
       "    }\n",
       "\n",
       "    .dataframe thead th {\n",
       "        text-align: right;\n",
       "    }\n",
       "</style>\n",
       "<table border=\"1\" class=\"dataframe\">\n",
       "  <thead>\n",
       "    <tr style=\"text-align: right;\">\n",
       "      <th></th>\n",
       "      <th>close</th>\n",
       "    </tr>\n",
       "    <tr>\n",
       "      <th>date</th>\n",
       "      <th></th>\n",
       "    </tr>\n",
       "  </thead>\n",
       "  <tbody>\n",
       "    <tr>\n",
       "      <th>2018-08-13</th>\n",
       "      <td>948.9</td>\n",
       "    </tr>\n",
       "    <tr>\n",
       "      <th>2018-08-14</th>\n",
       "      <td>959.1</td>\n",
       "    </tr>\n",
       "    <tr>\n",
       "      <th>2018-08-15</th>\n",
       "      <td>958.6</td>\n",
       "    </tr>\n",
       "    <tr>\n",
       "      <th>2018-08-16</th>\n",
       "      <td>943.1</td>\n",
       "    </tr>\n",
       "    <tr>\n",
       "      <th>2018-08-17</th>\n",
       "      <td>946.8</td>\n",
       "    </tr>\n",
       "    <tr>\n",
       "      <th>...</th>\n",
       "      <td>...</td>\n",
       "    </tr>\n",
       "    <tr>\n",
       "      <th>2024-07-31</th>\n",
       "      <td>1298.2</td>\n",
       "    </tr>\n",
       "    <tr>\n",
       "      <th>2024-08-01</th>\n",
       "      <td>1285.9</td>\n",
       "    </tr>\n",
       "    <tr>\n",
       "      <th>2024-08-02</th>\n",
       "      <td>1266.1</td>\n",
       "    </tr>\n",
       "    <tr>\n",
       "      <th>2024-08-05</th>\n",
       "      <td>1243.9</td>\n",
       "    </tr>\n",
       "    <tr>\n",
       "      <th>2024-08-06</th>\n",
       "      <td>1251.1</td>\n",
       "    </tr>\n",
       "  </tbody>\n",
       "</table>\n",
       "<p>1365 rows × 1 columns</p>\n",
       "</div>"
      ],
      "text/plain": [
       "             close\n",
       "date              \n",
       "2018-08-13   948.9\n",
       "2018-08-14   959.1\n",
       "2018-08-15   958.6\n",
       "2018-08-16   943.1\n",
       "2018-08-17   946.8\n",
       "...            ...\n",
       "2024-07-31  1298.2\n",
       "2024-08-01  1285.9\n",
       "2024-08-02  1266.1\n",
       "2024-08-05  1243.9\n",
       "2024-08-06  1251.1\n",
       "\n",
       "[1365 rows x 1 columns]"
      ]
     },
     "execution_count": 50,
     "metadata": {},
     "output_type": "execute_result"
    }
   ],
   "source": [
    "vn30f1m['date'] = pd.to_datetime(vn30f1m['date'])\n",
    "vn30f1m = vn30f1m[vn30f1m['date'].dt.time == pd.to_datetime('14:00:00').time()]\n",
    "vn30f1m = vn30f1m[['date', 'close']]\n",
    "vn30f1m.set_index('date', inplace=True)\n",
    "vn30f1m.index = vn30f1m.index.date\n",
    "vn30f1m.index.name = 'date'\n",
    "vn30f1m.dropna(inplace=True)\n",
    "vn30f1m"
   ]
  },
  {
   "cell_type": "markdown",
   "metadata": {},
   "source": [
    "#### IS-OS split"
   ]
  },
  {
   "cell_type": "code",
   "execution_count": 51,
   "metadata": {},
   "outputs": [],
   "source": [
    "vn30f1m_train = vn30f1m.iloc[:-504]\n",
    "vn30f1m_test = vn30f1m.iloc[-504:]"
   ]
  },
  {
   "cell_type": "markdown",
   "metadata": {},
   "source": [
    "#### Scraping HSI price data"
   ]
  },
  {
   "cell_type": "code",
   "execution_count": 52,
   "metadata": {},
   "outputs": [
    {
     "name": "stderr",
     "output_type": "stream",
     "text": [
      "[*********************100%%**********************]  1 of 1 completed"
     ]
    },
    {
     "name": "stdout",
     "output_type": "stream",
     "text": [
      "Downloading data for: ^HSI\n",
      "                    Open          High           Low         Close  \\\n",
      "Date                                                                 \n",
      "2018-08-13  27956.779297  28085.169922  27823.210938  27936.570312   \n",
      "2018-08-14  27938.320312  27946.550781  27522.820312  27752.929688   \n",
      "2018-08-15  27724.720703  27727.269531  27249.080078  27323.589844   \n",
      "2018-08-16  26871.109375  27405.250000  26871.109375  27100.060547   \n",
      "2018-08-17  27388.570312  27450.839844  27101.099609  27213.410156   \n",
      "...                  ...           ...           ...           ...   \n",
      "2024-07-31  17070.859375  17400.240234  17015.830078  17344.599609   \n",
      "2024-08-01  17327.849609  17408.949219  17248.119141  17304.960938   \n",
      "2024-08-02  17025.259766  17075.519531  16865.929688  16945.509766   \n",
      "2024-08-05  16676.820312  16944.589844  16441.439453  16698.359375   \n",
      "2024-08-06  16861.300781  16908.970703  16611.140625  16647.339844   \n",
      "\n",
      "               Adj Close      Volume  \n",
      "Date                                  \n",
      "2018-08-13  27936.570312  1484354700  \n",
      "2018-08-14  27752.929688  1490419600  \n",
      "2018-08-15  27323.589844  1913746300  \n",
      "2018-08-16  27100.060547  2138210600  \n",
      "2018-08-17  27213.410156  1557764000  \n",
      "...                  ...         ...  \n",
      "2024-07-31  17344.599609  2678950500  \n",
      "2024-08-01  17304.960938  1933874700  \n",
      "2024-08-02  16945.509766  2433818600  \n",
      "2024-08-05  16698.359375  3667470600  \n",
      "2024-08-06  16647.339844  2425958000  \n",
      "\n",
      "[1473 rows x 6 columns]\n",
      "(1473, 6)\n"
     ]
    },
    {
     "name": "stderr",
     "output_type": "stream",
     "text": [
      "\n"
     ]
    }
   ],
   "source": [
    "import yfinance as yf\n",
    "import pytz\n",
    "\n",
    "ticker_list = ['^HSI']\n",
    "\n",
    "ticker_intraday_prices = pd.DataFrame()\n",
    "ticker_intraday_prices = {}\n",
    "\n",
    "item = ticker_list[0]\n",
    "print(f\"Downloading data for: {item}\")\n",
    "\n",
    "download_data = yf.download(tickers=item, start='2018-08-13', end=datetime.now().strftime('%Y-%m-%d'))\n",
    "download_data.index = pd.to_datetime(download_data.index)\n",
    "\n",
    "ticker_intraday_prices[item] = download_data\n",
    "\n",
    "print(ticker_intraday_prices[item])\n",
    "print(ticker_intraday_prices[item].shape)"
   ]
  },
  {
   "cell_type": "markdown",
   "metadata": {},
   "source": [
    "#### Extract HSI index close price 4pm (UTC)"
   ]
  },
  {
   "cell_type": "code",
   "execution_count": 53,
   "metadata": {},
   "outputs": [],
   "source": [
    "hsi = ticker_intraday_prices[item]\n",
    "hsi = hsi[['Close']]\n",
    "hsi_train = hsi.iloc[:-504]\n",
    "hsi_test = hsi.iloc[-504:]"
   ]
  },
  {
   "cell_type": "markdown",
   "metadata": {},
   "source": [
    "#### Merge VN30F1M and HSI index price into one DataFrame"
   ]
  },
  {
   "cell_type": "code",
   "execution_count": 54,
   "metadata": {},
   "outputs": [
    {
     "data": {
      "text/html": [
       "<div>\n",
       "<style scoped>\n",
       "    .dataframe tbody tr th:only-of-type {\n",
       "        vertical-align: middle;\n",
       "    }\n",
       "\n",
       "    .dataframe tbody tr th {\n",
       "        vertical-align: top;\n",
       "    }\n",
       "\n",
       "    .dataframe thead th {\n",
       "        text-align: right;\n",
       "    }\n",
       "</style>\n",
       "<table border=\"1\" class=\"dataframe\">\n",
       "  <thead>\n",
       "    <tr style=\"text-align: right;\">\n",
       "      <th></th>\n",
       "      <th>VN30F1M</th>\n",
       "      <th>HSI</th>\n",
       "    </tr>\n",
       "    <tr>\n",
       "      <th>Date</th>\n",
       "      <th></th>\n",
       "      <th></th>\n",
       "    </tr>\n",
       "  </thead>\n",
       "  <tbody>\n",
       "    <tr>\n",
       "      <th>2018-08-13</th>\n",
       "      <td>948.9</td>\n",
       "      <td>27936.570312</td>\n",
       "    </tr>\n",
       "    <tr>\n",
       "      <th>2018-08-14</th>\n",
       "      <td>959.1</td>\n",
       "      <td>27752.929688</td>\n",
       "    </tr>\n",
       "    <tr>\n",
       "      <th>2018-08-15</th>\n",
       "      <td>958.6</td>\n",
       "      <td>27323.589844</td>\n",
       "    </tr>\n",
       "    <tr>\n",
       "      <th>2018-08-16</th>\n",
       "      <td>943.1</td>\n",
       "      <td>27100.060547</td>\n",
       "    </tr>\n",
       "    <tr>\n",
       "      <th>2018-08-17</th>\n",
       "      <td>946.8</td>\n",
       "      <td>27213.410156</td>\n",
       "    </tr>\n",
       "    <tr>\n",
       "      <th>...</th>\n",
       "      <td>...</td>\n",
       "      <td>...</td>\n",
       "    </tr>\n",
       "    <tr>\n",
       "      <th>2022-01-18</th>\n",
       "      <td>1478.8</td>\n",
       "      <td>24112.779297</td>\n",
       "    </tr>\n",
       "    <tr>\n",
       "      <th>2022-01-19</th>\n",
       "      <td>1479.1</td>\n",
       "      <td>24127.849609</td>\n",
       "    </tr>\n",
       "    <tr>\n",
       "      <th>2022-01-20</th>\n",
       "      <td>1489.3</td>\n",
       "      <td>24952.349609</td>\n",
       "    </tr>\n",
       "    <tr>\n",
       "      <th>2022-01-21</th>\n",
       "      <td>1496.6</td>\n",
       "      <td>24965.550781</td>\n",
       "    </tr>\n",
       "    <tr>\n",
       "      <th>2022-01-24</th>\n",
       "      <td>1476.0</td>\n",
       "      <td>24656.460938</td>\n",
       "    </tr>\n",
       "  </tbody>\n",
       "</table>\n",
       "<p>826 rows × 2 columns</p>\n",
       "</div>"
      ],
      "text/plain": [
       "            VN30F1M           HSI\n",
       "Date                             \n",
       "2018-08-13    948.9  27936.570312\n",
       "2018-08-14    959.1  27752.929688\n",
       "2018-08-15    958.6  27323.589844\n",
       "2018-08-16    943.1  27100.060547\n",
       "2018-08-17    946.8  27213.410156\n",
       "...             ...           ...\n",
       "2022-01-18   1478.8  24112.779297\n",
       "2022-01-19   1479.1  24127.849609\n",
       "2022-01-20   1489.3  24952.349609\n",
       "2022-01-21   1496.6  24965.550781\n",
       "2022-01-24   1476.0  24656.460938\n",
       "\n",
       "[826 rows x 2 columns]"
      ]
     },
     "execution_count": 54,
     "metadata": {},
     "output_type": "execute_result"
    }
   ],
   "source": [
    "prices = pd.merge(vn30f1m_train, hsi_train, left_index=True, right_index=True, how = 'inner')\n",
    "prices.rename(columns={'close': 'VN30F1M', 'Close': 'HSI'}, inplace=True)\n",
    "prices.index.name = 'Date'\n",
    "prices"
   ]
  },
  {
   "cell_type": "markdown",
   "metadata": {},
   "source": [
    "#### Trading hypothesis\n",
    "- Yesterday's price of HSI > The day before yesterday's price of HSI, enter long position for VN30F1m\n",
    "\n",
    "- Yesterday's price of HSI < The day before yesterday's price of HSI, enter short position for VN30F1m\n",
    "\n",
    "- Else: do nothing (no position opened/close position)"
   ]
  },
  {
   "cell_type": "markdown",
   "metadata": {},
   "source": [
    "#### T-test ANOVA"
   ]
  },
  {
   "cell_type": "markdown",
   "metadata": {},
   "source": [
    "- Null Hypothesis (H₀): There is no difference between the means of VN30F1M and HSI\n",
    "\n",
    "- Alternative Hypothesis (H₁): There is a difference between the means of VN30F1M and HSI\n",
    "\n",
    "Interpretation:\n",
    "\n",
    "- If the p-value < 0.05, it rejects the null hypothesis. In other words, it indicates that the difference between the means of VN30F1M and HSI is statistically significant.\n",
    "\n",
    "- If the p-value >= 0.05, you would fail to reject the null hypothesis, indicating that there is no significant difference between the means of VN30F1M and HSI."
   ]
  },
  {
   "cell_type": "code",
   "execution_count": 55,
   "metadata": {},
   "outputs": [
    {
     "name": "stdout",
     "output_type": "stream",
     "text": [
      "T-statistic: -395.4839942608889\n",
      "P-value: 0.0\n"
     ]
    }
   ],
   "source": [
    "from scipy.stats import ttest_ind\n",
    "\n",
    "t_statistic, p_value = ttest_ind(prices['VN30F1M'], prices['HSI'])\n",
    "\n",
    "print(f\"T-statistic: {t_statistic}\")\n",
    "print(f\"P-value: {p_value}\")"
   ]
  },
  {
   "cell_type": "markdown",
   "metadata": {},
   "source": [
    "- There is a statistically significant difference between the mean values of VN30F1M and HSI.\n",
    "\n",
    "- The VN30F1M and HSI series are not likely to have the same mean values"
   ]
  },
  {
   "cell_type": "markdown",
   "metadata": {},
   "source": [
    "#### Correlation"
   ]
  },
  {
   "cell_type": "markdown",
   "metadata": {},
   "source": [
    "By computing rolling correlations, we can observe how the relationship between **VN30F1M** and **HSI** changes over time. This can reveal patterns such as periods of high correlation (when they move closely together) or low correlation (when their movements diverge)."
   ]
  },
  {
   "cell_type": "code",
   "execution_count": 56,
   "metadata": {},
   "outputs": [
    {
     "name": "stdout",
     "output_type": "stream",
     "text": [
      "     Rolling Correlation\n",
      "0               0.566609\n",
      "1               0.580176\n",
      "2               0.565615\n",
      "3               0.561502\n",
      "4               0.478931\n",
      "..                   ...\n",
      "792            -0.230067\n",
      "793            -0.302303\n",
      "794            -0.361128\n",
      "795            -0.394473\n",
      "796            -0.480102\n",
      "\n",
      "[797 rows x 1 columns]\n"
     ]
    }
   ],
   "source": [
    "window_size = 30\n",
    "results = []\n",
    "\n",
    "for i in range(len(prices) - window_size + 1):\n",
    "    window = prices.iloc[i:i + window_size]\n",
    "    correlation_coef = window['VN30F1M'].corr(window['HSI'])\n",
    "    results.append(correlation_coef)\n",
    "\n",
    "results = pd.DataFrame(results, columns=['Rolling Correlation'])\n",
    "print(results)"
   ]
  },
  {
   "cell_type": "code",
   "execution_count": 57,
   "metadata": {},
   "outputs": [
    {
     "data": {
      "text/plain": [
       "Rolling Correlation    597\n",
       "dtype: int64"
      ]
     },
     "execution_count": 57,
     "metadata": {},
     "output_type": "execute_result"
    }
   ],
   "source": [
    "(results > 0).sum()"
   ]
  },
  {
   "cell_type": "code",
   "execution_count": 58,
   "metadata": {},
   "outputs": [
    {
     "data": {
      "text/plain": [
       "Rolling Correlation    200\n",
       "dtype: int64"
      ]
     },
     "execution_count": 58,
     "metadata": {},
     "output_type": "execute_result"
    }
   ],
   "source": [
    "(results < 0).sum()"
   ]
  },
  {
   "cell_type": "markdown",
   "metadata": {},
   "source": [
    "We have 1033 positive correlations and 318 negative correlations, the positive correlations do outnumber the negative correlations. This suggests that, overall, the assets tend to move ***in the same direction more frequently than in opposite directions***."
   ]
  },
  {
   "cell_type": "markdown",
   "metadata": {},
   "source": [
    "#### Trading strategy"
   ]
  },
  {
   "cell_type": "code",
   "execution_count": 59,
   "metadata": {},
   "outputs": [],
   "source": [
    "def momentum_hsi(df):\n",
    "    positions = []\n",
    "\n",
    "    for i in range(2, len(df)):\n",
    "        if df['HSI'].iloc[i - 1] > df['HSI'].iloc[i - 2]:\n",
    "            positions.append(1)\n",
    "        elif df['HSI'].iloc[i - 1] <= df['HSI'].iloc[i - 2]:\n",
    "            positions.append(-1)\n",
    "    \n",
    "    positions.insert(0, 0)\n",
    "    positions.insert(1, 0)\n",
    "    df['Pos'] = positions\n",
    "    return df"
   ]
  },
  {
   "cell_type": "markdown",
   "metadata": {},
   "source": [
    "- If the current day's price is higher than the previous day's price, it suggests upward momentum, and the function appends 1 to the positions list.\n",
    "\n",
    "- If the current day's price is lower than or equal to the previous day's price, it suggests downward or neutral momentum, and the function appends -1 to the positions list."
   ]
  },
  {
   "cell_type": "code",
   "execution_count": 60,
   "metadata": {},
   "outputs": [
    {
     "data": {
      "text/html": [
       "<div>\n",
       "<style scoped>\n",
       "    .dataframe tbody tr th:only-of-type {\n",
       "        vertical-align: middle;\n",
       "    }\n",
       "\n",
       "    .dataframe tbody tr th {\n",
       "        vertical-align: top;\n",
       "    }\n",
       "\n",
       "    .dataframe thead th {\n",
       "        text-align: right;\n",
       "    }\n",
       "</style>\n",
       "<table border=\"1\" class=\"dataframe\">\n",
       "  <thead>\n",
       "    <tr style=\"text-align: right;\">\n",
       "      <th></th>\n",
       "      <th>VN30F1M</th>\n",
       "      <th>HSI</th>\n",
       "      <th>Pos</th>\n",
       "    </tr>\n",
       "    <tr>\n",
       "      <th>Date</th>\n",
       "      <th></th>\n",
       "      <th></th>\n",
       "      <th></th>\n",
       "    </tr>\n",
       "  </thead>\n",
       "  <tbody>\n",
       "    <tr>\n",
       "      <th>2018-08-13</th>\n",
       "      <td>948.9</td>\n",
       "      <td>27936.570312</td>\n",
       "      <td>0</td>\n",
       "    </tr>\n",
       "    <tr>\n",
       "      <th>2018-08-14</th>\n",
       "      <td>959.1</td>\n",
       "      <td>27752.929688</td>\n",
       "      <td>0</td>\n",
       "    </tr>\n",
       "    <tr>\n",
       "      <th>2018-08-15</th>\n",
       "      <td>958.6</td>\n",
       "      <td>27323.589844</td>\n",
       "      <td>-1</td>\n",
       "    </tr>\n",
       "    <tr>\n",
       "      <th>2018-08-16</th>\n",
       "      <td>943.1</td>\n",
       "      <td>27100.060547</td>\n",
       "      <td>-1</td>\n",
       "    </tr>\n",
       "    <tr>\n",
       "      <th>2018-08-17</th>\n",
       "      <td>946.8</td>\n",
       "      <td>27213.410156</td>\n",
       "      <td>-1</td>\n",
       "    </tr>\n",
       "    <tr>\n",
       "      <th>...</th>\n",
       "      <td>...</td>\n",
       "      <td>...</td>\n",
       "      <td>...</td>\n",
       "    </tr>\n",
       "    <tr>\n",
       "      <th>2022-01-18</th>\n",
       "      <td>1478.8</td>\n",
       "      <td>24112.779297</td>\n",
       "      <td>-1</td>\n",
       "    </tr>\n",
       "    <tr>\n",
       "      <th>2022-01-19</th>\n",
       "      <td>1479.1</td>\n",
       "      <td>24127.849609</td>\n",
       "      <td>-1</td>\n",
       "    </tr>\n",
       "    <tr>\n",
       "      <th>2022-01-20</th>\n",
       "      <td>1489.3</td>\n",
       "      <td>24952.349609</td>\n",
       "      <td>1</td>\n",
       "    </tr>\n",
       "    <tr>\n",
       "      <th>2022-01-21</th>\n",
       "      <td>1496.6</td>\n",
       "      <td>24965.550781</td>\n",
       "      <td>1</td>\n",
       "    </tr>\n",
       "    <tr>\n",
       "      <th>2022-01-24</th>\n",
       "      <td>1476.0</td>\n",
       "      <td>24656.460938</td>\n",
       "      <td>1</td>\n",
       "    </tr>\n",
       "  </tbody>\n",
       "</table>\n",
       "<p>826 rows × 3 columns</p>\n",
       "</div>"
      ],
      "text/plain": [
       "            VN30F1M           HSI  Pos\n",
       "Date                                  \n",
       "2018-08-13    948.9  27936.570312    0\n",
       "2018-08-14    959.1  27752.929688    0\n",
       "2018-08-15    958.6  27323.589844   -1\n",
       "2018-08-16    943.1  27100.060547   -1\n",
       "2018-08-17    946.8  27213.410156   -1\n",
       "...             ...           ...  ...\n",
       "2022-01-18   1478.8  24112.779297   -1\n",
       "2022-01-19   1479.1  24127.849609   -1\n",
       "2022-01-20   1489.3  24952.349609    1\n",
       "2022-01-21   1496.6  24965.550781    1\n",
       "2022-01-24   1476.0  24656.460938    1\n",
       "\n",
       "[826 rows x 3 columns]"
      ]
     },
     "execution_count": 60,
     "metadata": {},
     "output_type": "execute_result"
    }
   ],
   "source": [
    "prices = momentum_hsi(prices)\n",
    "prices"
   ]
  },
  {
   "cell_type": "markdown",
   "metadata": {},
   "source": [
    "#### Vectorized PnL Backtest"
   ]
  },
  {
   "cell_type": "code",
   "execution_count": 61,
   "metadata": {},
   "outputs": [],
   "source": [
    "def pnl(df):\n",
    "    df['pnl'] = df['Pos'].shift() * (df['VN30F1M'] - df['VN30F1M'].shift())\n",
    "    df['pnl'].iloc[0] = 0\n",
    "    return df"
   ]
  },
  {
   "cell_type": "code",
   "execution_count": 62,
   "metadata": {},
   "outputs": [
    {
     "name": "stderr",
     "output_type": "stream",
     "text": [
      "<ipython-input-61-7cd7760709ec>:3: SettingWithCopyWarning: \n",
      "A value is trying to be set on a copy of a slice from a DataFrame\n",
      "\n",
      "See the caveats in the documentation: https://pandas.pydata.org/pandas-docs/stable/user_guide/indexing.html#returning-a-view-versus-a-copy\n",
      "  df['pnl'].iloc[0] = 0\n"
     ]
    },
    {
     "data": {
      "text/html": [
       "<div>\n",
       "<style scoped>\n",
       "    .dataframe tbody tr th:only-of-type {\n",
       "        vertical-align: middle;\n",
       "    }\n",
       "\n",
       "    .dataframe tbody tr th {\n",
       "        vertical-align: top;\n",
       "    }\n",
       "\n",
       "    .dataframe thead th {\n",
       "        text-align: right;\n",
       "    }\n",
       "</style>\n",
       "<table border=\"1\" class=\"dataframe\">\n",
       "  <thead>\n",
       "    <tr style=\"text-align: right;\">\n",
       "      <th></th>\n",
       "      <th>VN30F1M</th>\n",
       "      <th>HSI</th>\n",
       "      <th>Pos</th>\n",
       "      <th>pnl</th>\n",
       "    </tr>\n",
       "    <tr>\n",
       "      <th>Date</th>\n",
       "      <th></th>\n",
       "      <th></th>\n",
       "      <th></th>\n",
       "      <th></th>\n",
       "    </tr>\n",
       "  </thead>\n",
       "  <tbody>\n",
       "    <tr>\n",
       "      <th>2018-08-13</th>\n",
       "      <td>948.9</td>\n",
       "      <td>27936.570312</td>\n",
       "      <td>0</td>\n",
       "      <td>0.0</td>\n",
       "    </tr>\n",
       "    <tr>\n",
       "      <th>2018-08-14</th>\n",
       "      <td>959.1</td>\n",
       "      <td>27752.929688</td>\n",
       "      <td>0</td>\n",
       "      <td>0.0</td>\n",
       "    </tr>\n",
       "    <tr>\n",
       "      <th>2018-08-15</th>\n",
       "      <td>958.6</td>\n",
       "      <td>27323.589844</td>\n",
       "      <td>-1</td>\n",
       "      <td>-0.0</td>\n",
       "    </tr>\n",
       "    <tr>\n",
       "      <th>2018-08-16</th>\n",
       "      <td>943.1</td>\n",
       "      <td>27100.060547</td>\n",
       "      <td>-1</td>\n",
       "      <td>15.5</td>\n",
       "    </tr>\n",
       "    <tr>\n",
       "      <th>2018-08-17</th>\n",
       "      <td>946.8</td>\n",
       "      <td>27213.410156</td>\n",
       "      <td>-1</td>\n",
       "      <td>-3.7</td>\n",
       "    </tr>\n",
       "    <tr>\n",
       "      <th>...</th>\n",
       "      <td>...</td>\n",
       "      <td>...</td>\n",
       "      <td>...</td>\n",
       "      <td>...</td>\n",
       "    </tr>\n",
       "    <tr>\n",
       "      <th>2022-01-18</th>\n",
       "      <td>1478.8</td>\n",
       "      <td>24112.779297</td>\n",
       "      <td>-1</td>\n",
       "      <td>15.5</td>\n",
       "    </tr>\n",
       "    <tr>\n",
       "      <th>2022-01-19</th>\n",
       "      <td>1479.1</td>\n",
       "      <td>24127.849609</td>\n",
       "      <td>-1</td>\n",
       "      <td>-0.3</td>\n",
       "    </tr>\n",
       "    <tr>\n",
       "      <th>2022-01-20</th>\n",
       "      <td>1489.3</td>\n",
       "      <td>24952.349609</td>\n",
       "      <td>1</td>\n",
       "      <td>-10.2</td>\n",
       "    </tr>\n",
       "    <tr>\n",
       "      <th>2022-01-21</th>\n",
       "      <td>1496.6</td>\n",
       "      <td>24965.550781</td>\n",
       "      <td>1</td>\n",
       "      <td>7.3</td>\n",
       "    </tr>\n",
       "    <tr>\n",
       "      <th>2022-01-24</th>\n",
       "      <td>1476.0</td>\n",
       "      <td>24656.460938</td>\n",
       "      <td>1</td>\n",
       "      <td>-20.6</td>\n",
       "    </tr>\n",
       "  </tbody>\n",
       "</table>\n",
       "<p>826 rows × 4 columns</p>\n",
       "</div>"
      ],
      "text/plain": [
       "            VN30F1M           HSI  Pos   pnl\n",
       "Date                                        \n",
       "2018-08-13    948.9  27936.570312    0   0.0\n",
       "2018-08-14    959.1  27752.929688    0   0.0\n",
       "2018-08-15    958.6  27323.589844   -1  -0.0\n",
       "2018-08-16    943.1  27100.060547   -1  15.5\n",
       "2018-08-17    946.8  27213.410156   -1  -3.7\n",
       "...             ...           ...  ...   ...\n",
       "2022-01-18   1478.8  24112.779297   -1  15.5\n",
       "2022-01-19   1479.1  24127.849609   -1  -0.3\n",
       "2022-01-20   1489.3  24952.349609    1 -10.2\n",
       "2022-01-21   1496.6  24965.550781    1   7.3\n",
       "2022-01-24   1476.0  24656.460938    1 -20.6\n",
       "\n",
       "[826 rows x 4 columns]"
      ]
     },
     "execution_count": 62,
     "metadata": {},
     "output_type": "execute_result"
    }
   ],
   "source": [
    "prices = pnl(prices)\n",
    "prices"
   ]
  },
  {
   "cell_type": "markdown",
   "metadata": {},
   "source": [
    "#### Performance metrics"
   ]
  },
  {
   "cell_type": "code",
   "execution_count": 63,
   "metadata": {},
   "outputs": [],
   "source": [
    "def perf_metrics(daily_pnl_series):\n",
    "    sharpe = daily_pnl_series.mean() / daily_pnl_series.std() * np.sqrt(252)\n",
    "    cum_ret = daily_pnl_series.cumsum()\n",
    "    running_max = cum_ret.cummax()\n",
    "    drawdown = running_max - cum_ret\n",
    "    max_dd = (drawdown.max() / cum_ret.max()) * 100\n",
    "    return sharpe, max_dd"
   ]
  },
  {
   "cell_type": "code",
   "execution_count": 64,
   "metadata": {},
   "outputs": [
    {
     "name": "stdout",
     "output_type": "stream",
     "text": [
      "Sharpe ratio: 1.13\n",
      "Max drawdown: 29.65%\n"
     ]
    }
   ],
   "source": [
    "sharpe, max_dd = perf_metrics(prices['pnl'])\n",
    "print(f\"Sharpe ratio: {sharpe:.2f}\")\n",
    "print(f\"Max drawdown: {max_dd:.2f}%\")"
   ]
  },
  {
   "cell_type": "markdown",
   "metadata": {},
   "source": [
    "## OOS backtest"
   ]
  },
  {
   "cell_type": "code",
   "execution_count": 65,
   "metadata": {},
   "outputs": [
    {
     "data": {
      "text/html": [
       "<div>\n",
       "<style scoped>\n",
       "    .dataframe tbody tr th:only-of-type {\n",
       "        vertical-align: middle;\n",
       "    }\n",
       "\n",
       "    .dataframe tbody tr th {\n",
       "        vertical-align: top;\n",
       "    }\n",
       "\n",
       "    .dataframe thead th {\n",
       "        text-align: right;\n",
       "    }\n",
       "</style>\n",
       "<table border=\"1\" class=\"dataframe\">\n",
       "  <thead>\n",
       "    <tr style=\"text-align: right;\">\n",
       "      <th></th>\n",
       "      <th>VN30F1M</th>\n",
       "      <th>HSI</th>\n",
       "    </tr>\n",
       "  </thead>\n",
       "  <tbody>\n",
       "    <tr>\n",
       "      <th>2022-07-20</th>\n",
       "      <td>1226.9</td>\n",
       "      <td>20890.220703</td>\n",
       "    </tr>\n",
       "    <tr>\n",
       "      <th>2022-07-21</th>\n",
       "      <td>1239.7</td>\n",
       "      <td>20574.630859</td>\n",
       "    </tr>\n",
       "    <tr>\n",
       "      <th>2022-07-22</th>\n",
       "      <td>1224.9</td>\n",
       "      <td>20609.140625</td>\n",
       "    </tr>\n",
       "    <tr>\n",
       "      <th>2022-07-25</th>\n",
       "      <td>1221.8</td>\n",
       "      <td>20562.939453</td>\n",
       "    </tr>\n",
       "    <tr>\n",
       "      <th>2022-07-26</th>\n",
       "      <td>1222.2</td>\n",
       "      <td>20905.880859</td>\n",
       "    </tr>\n",
       "    <tr>\n",
       "      <th>...</th>\n",
       "      <td>...</td>\n",
       "      <td>...</td>\n",
       "    </tr>\n",
       "    <tr>\n",
       "      <th>2024-07-31</th>\n",
       "      <td>1298.2</td>\n",
       "      <td>17344.599609</td>\n",
       "    </tr>\n",
       "    <tr>\n",
       "      <th>2024-08-01</th>\n",
       "      <td>1285.9</td>\n",
       "      <td>17304.960938</td>\n",
       "    </tr>\n",
       "    <tr>\n",
       "      <th>2024-08-02</th>\n",
       "      <td>1266.1</td>\n",
       "      <td>16945.509766</td>\n",
       "    </tr>\n",
       "    <tr>\n",
       "      <th>2024-08-05</th>\n",
       "      <td>1243.9</td>\n",
       "      <td>16698.359375</td>\n",
       "    </tr>\n",
       "    <tr>\n",
       "      <th>2024-08-06</th>\n",
       "      <td>1251.1</td>\n",
       "      <td>16647.339844</td>\n",
       "    </tr>\n",
       "  </tbody>\n",
       "</table>\n",
       "<p>372 rows × 2 columns</p>\n",
       "</div>"
      ],
      "text/plain": [
       "            VN30F1M           HSI\n",
       "2022-07-20   1226.9  20890.220703\n",
       "2022-07-21   1239.7  20574.630859\n",
       "2022-07-22   1224.9  20609.140625\n",
       "2022-07-25   1221.8  20562.939453\n",
       "2022-07-26   1222.2  20905.880859\n",
       "...             ...           ...\n",
       "2024-07-31   1298.2  17344.599609\n",
       "2024-08-01   1285.9  17304.960938\n",
       "2024-08-02   1266.1  16945.509766\n",
       "2024-08-05   1243.9  16698.359375\n",
       "2024-08-06   1251.1  16647.339844\n",
       "\n",
       "[372 rows x 2 columns]"
      ]
     },
     "execution_count": 65,
     "metadata": {},
     "output_type": "execute_result"
    }
   ],
   "source": [
    "prices = pd.merge(vn30f1m_test, hsi_test, left_index=True, right_index=True, how = 'inner')\n",
    "prices.rename(columns={'close': 'VN30F1M', 'Close': 'HSI'}, inplace=True)\n",
    "prices"
   ]
  },
  {
   "cell_type": "code",
   "execution_count": 66,
   "metadata": {},
   "outputs": [
    {
     "data": {
      "text/html": [
       "<div>\n",
       "<style scoped>\n",
       "    .dataframe tbody tr th:only-of-type {\n",
       "        vertical-align: middle;\n",
       "    }\n",
       "\n",
       "    .dataframe tbody tr th {\n",
       "        vertical-align: top;\n",
       "    }\n",
       "\n",
       "    .dataframe thead th {\n",
       "        text-align: right;\n",
       "    }\n",
       "</style>\n",
       "<table border=\"1\" class=\"dataframe\">\n",
       "  <thead>\n",
       "    <tr style=\"text-align: right;\">\n",
       "      <th></th>\n",
       "      <th>VN30F1M</th>\n",
       "      <th>HSI</th>\n",
       "      <th>Pos</th>\n",
       "    </tr>\n",
       "  </thead>\n",
       "  <tbody>\n",
       "    <tr>\n",
       "      <th>2022-07-20</th>\n",
       "      <td>1226.9</td>\n",
       "      <td>20890.220703</td>\n",
       "      <td>0</td>\n",
       "    </tr>\n",
       "    <tr>\n",
       "      <th>2022-07-21</th>\n",
       "      <td>1239.7</td>\n",
       "      <td>20574.630859</td>\n",
       "      <td>0</td>\n",
       "    </tr>\n",
       "    <tr>\n",
       "      <th>2022-07-22</th>\n",
       "      <td>1224.9</td>\n",
       "      <td>20609.140625</td>\n",
       "      <td>-1</td>\n",
       "    </tr>\n",
       "    <tr>\n",
       "      <th>2022-07-25</th>\n",
       "      <td>1221.8</td>\n",
       "      <td>20562.939453</td>\n",
       "      <td>1</td>\n",
       "    </tr>\n",
       "    <tr>\n",
       "      <th>2022-07-26</th>\n",
       "      <td>1222.2</td>\n",
       "      <td>20905.880859</td>\n",
       "      <td>-1</td>\n",
       "    </tr>\n",
       "    <tr>\n",
       "      <th>...</th>\n",
       "      <td>...</td>\n",
       "      <td>...</td>\n",
       "      <td>...</td>\n",
       "    </tr>\n",
       "    <tr>\n",
       "      <th>2024-07-31</th>\n",
       "      <td>1298.2</td>\n",
       "      <td>17344.599609</td>\n",
       "      <td>-1</td>\n",
       "    </tr>\n",
       "    <tr>\n",
       "      <th>2024-08-01</th>\n",
       "      <td>1285.9</td>\n",
       "      <td>17304.960938</td>\n",
       "      <td>1</td>\n",
       "    </tr>\n",
       "    <tr>\n",
       "      <th>2024-08-02</th>\n",
       "      <td>1266.1</td>\n",
       "      <td>16945.509766</td>\n",
       "      <td>-1</td>\n",
       "    </tr>\n",
       "    <tr>\n",
       "      <th>2024-08-05</th>\n",
       "      <td>1243.9</td>\n",
       "      <td>16698.359375</td>\n",
       "      <td>-1</td>\n",
       "    </tr>\n",
       "    <tr>\n",
       "      <th>2024-08-06</th>\n",
       "      <td>1251.1</td>\n",
       "      <td>16647.339844</td>\n",
       "      <td>-1</td>\n",
       "    </tr>\n",
       "  </tbody>\n",
       "</table>\n",
       "<p>372 rows × 3 columns</p>\n",
       "</div>"
      ],
      "text/plain": [
       "            VN30F1M           HSI  Pos\n",
       "2022-07-20   1226.9  20890.220703    0\n",
       "2022-07-21   1239.7  20574.630859    0\n",
       "2022-07-22   1224.9  20609.140625   -1\n",
       "2022-07-25   1221.8  20562.939453    1\n",
       "2022-07-26   1222.2  20905.880859   -1\n",
       "...             ...           ...  ...\n",
       "2024-07-31   1298.2  17344.599609   -1\n",
       "2024-08-01   1285.9  17304.960938    1\n",
       "2024-08-02   1266.1  16945.509766   -1\n",
       "2024-08-05   1243.9  16698.359375   -1\n",
       "2024-08-06   1251.1  16647.339844   -1\n",
       "\n",
       "[372 rows x 3 columns]"
      ]
     },
     "execution_count": 66,
     "metadata": {},
     "output_type": "execute_result"
    }
   ],
   "source": [
    "prices = momentum_hsi(prices)\n",
    "prices"
   ]
  },
  {
   "cell_type": "code",
   "execution_count": 67,
   "metadata": {},
   "outputs": [
    {
     "name": "stderr",
     "output_type": "stream",
     "text": [
      "<ipython-input-61-7cd7760709ec>:3: SettingWithCopyWarning: \n",
      "A value is trying to be set on a copy of a slice from a DataFrame\n",
      "\n",
      "See the caveats in the documentation: https://pandas.pydata.org/pandas-docs/stable/user_guide/indexing.html#returning-a-view-versus-a-copy\n",
      "  df['pnl'].iloc[0] = 0\n"
     ]
    },
    {
     "data": {
      "text/html": [
       "<div>\n",
       "<style scoped>\n",
       "    .dataframe tbody tr th:only-of-type {\n",
       "        vertical-align: middle;\n",
       "    }\n",
       "\n",
       "    .dataframe tbody tr th {\n",
       "        vertical-align: top;\n",
       "    }\n",
       "\n",
       "    .dataframe thead th {\n",
       "        text-align: right;\n",
       "    }\n",
       "</style>\n",
       "<table border=\"1\" class=\"dataframe\">\n",
       "  <thead>\n",
       "    <tr style=\"text-align: right;\">\n",
       "      <th></th>\n",
       "      <th>VN30F1M</th>\n",
       "      <th>HSI</th>\n",
       "      <th>Pos</th>\n",
       "      <th>pnl</th>\n",
       "    </tr>\n",
       "  </thead>\n",
       "  <tbody>\n",
       "    <tr>\n",
       "      <th>2022-07-20</th>\n",
       "      <td>1226.9</td>\n",
       "      <td>20890.220703</td>\n",
       "      <td>0</td>\n",
       "      <td>0.0</td>\n",
       "    </tr>\n",
       "    <tr>\n",
       "      <th>2022-07-21</th>\n",
       "      <td>1239.7</td>\n",
       "      <td>20574.630859</td>\n",
       "      <td>0</td>\n",
       "      <td>0.0</td>\n",
       "    </tr>\n",
       "    <tr>\n",
       "      <th>2022-07-22</th>\n",
       "      <td>1224.9</td>\n",
       "      <td>20609.140625</td>\n",
       "      <td>-1</td>\n",
       "      <td>-0.0</td>\n",
       "    </tr>\n",
       "    <tr>\n",
       "      <th>2022-07-25</th>\n",
       "      <td>1221.8</td>\n",
       "      <td>20562.939453</td>\n",
       "      <td>1</td>\n",
       "      <td>3.1</td>\n",
       "    </tr>\n",
       "    <tr>\n",
       "      <th>2022-07-26</th>\n",
       "      <td>1222.2</td>\n",
       "      <td>20905.880859</td>\n",
       "      <td>-1</td>\n",
       "      <td>0.4</td>\n",
       "    </tr>\n",
       "    <tr>\n",
       "      <th>...</th>\n",
       "      <td>...</td>\n",
       "      <td>...</td>\n",
       "      <td>...</td>\n",
       "      <td>...</td>\n",
       "    </tr>\n",
       "    <tr>\n",
       "      <th>2024-07-31</th>\n",
       "      <td>1298.2</td>\n",
       "      <td>17344.599609</td>\n",
       "      <td>-1</td>\n",
       "      <td>12.1</td>\n",
       "    </tr>\n",
       "    <tr>\n",
       "      <th>2024-08-01</th>\n",
       "      <td>1285.9</td>\n",
       "      <td>17304.960938</td>\n",
       "      <td>1</td>\n",
       "      <td>12.3</td>\n",
       "    </tr>\n",
       "    <tr>\n",
       "      <th>2024-08-02</th>\n",
       "      <td>1266.1</td>\n",
       "      <td>16945.509766</td>\n",
       "      <td>-1</td>\n",
       "      <td>-19.8</td>\n",
       "    </tr>\n",
       "    <tr>\n",
       "      <th>2024-08-05</th>\n",
       "      <td>1243.9</td>\n",
       "      <td>16698.359375</td>\n",
       "      <td>-1</td>\n",
       "      <td>22.2</td>\n",
       "    </tr>\n",
       "    <tr>\n",
       "      <th>2024-08-06</th>\n",
       "      <td>1251.1</td>\n",
       "      <td>16647.339844</td>\n",
       "      <td>-1</td>\n",
       "      <td>-7.2</td>\n",
       "    </tr>\n",
       "  </tbody>\n",
       "</table>\n",
       "<p>372 rows × 4 columns</p>\n",
       "</div>"
      ],
      "text/plain": [
       "            VN30F1M           HSI  Pos   pnl\n",
       "2022-07-20   1226.9  20890.220703    0   0.0\n",
       "2022-07-21   1239.7  20574.630859    0   0.0\n",
       "2022-07-22   1224.9  20609.140625   -1  -0.0\n",
       "2022-07-25   1221.8  20562.939453    1   3.1\n",
       "2022-07-26   1222.2  20905.880859   -1   0.4\n",
       "...             ...           ...  ...   ...\n",
       "2024-07-31   1298.2  17344.599609   -1  12.1\n",
       "2024-08-01   1285.9  17304.960938    1  12.3\n",
       "2024-08-02   1266.1  16945.509766   -1 -19.8\n",
       "2024-08-05   1243.9  16698.359375   -1  22.2\n",
       "2024-08-06   1251.1  16647.339844   -1  -7.2\n",
       "\n",
       "[372 rows x 4 columns]"
      ]
     },
     "execution_count": 67,
     "metadata": {},
     "output_type": "execute_result"
    }
   ],
   "source": [
    "prices = pnl(prices)\n",
    "prices"
   ]
  },
  {
   "cell_type": "code",
   "execution_count": 68,
   "metadata": {},
   "outputs": [
    {
     "data": {
      "text/plain": [
       "<Axes: >"
      ]
     },
     "execution_count": 68,
     "metadata": {},
     "output_type": "execute_result"
    },
    {
     "data": {
      "image/png": "[encoded data removed]",
      "text/plain": [
       "<Figure size 432x288 with 1 Axes>"
      ]
     },
     "metadata": {
      "needs_background": "light"
     },
     "output_type": "display_data"
    }
   ],
   "source": [
    "prices['pnl'].cumsum().plot()"
   ]
  },
  {
   "cell_type": "code",
   "execution_count": 69,
   "metadata": {},
   "outputs": [
    {
     "name": "stdout",
     "output_type": "stream",
     "text": [
      "Sharpe ratio: 1.4932854731878902\n",
      "Max drawdown: 27.108433734939624\n"
     ]
    }
   ],
   "source": [
    "sharpe, max_dd = perf_metrics(prices['pnl'])\n",
    "print(f\"Sharpe ratio: {sharpe}\")\n",
    "print(f\"Max drawdown: {max_dd}\")"
   ]
  },
  {
   "cell_type": "code",
   "execution_count": null,
   "metadata": {},
   "outputs": [],
   "source": []
  }
 ],
 "metadata": {
  "kernelspec": {
   "display_name": "min_ds-env",
   "language": "python",
   "name": "python3"
  },
  "language_info": {
   "codemirror_mode": {
    "name": "ipython",
    "version": 3
   },
   "file_extension": ".py",
   "mimetype": "text/x-python",
   "name": "python",
   "nbconvert_exporter": "python",
   "pygments_lexer": "ipython3",
   "version": "3.8.19"
  }
 },
 "nbformat": 4,
 "nbformat_minor": 2
}
