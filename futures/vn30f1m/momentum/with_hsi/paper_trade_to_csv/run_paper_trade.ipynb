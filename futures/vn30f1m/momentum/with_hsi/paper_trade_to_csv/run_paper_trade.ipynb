{
 "cells": [
  {
   "cell_type": "code",
   "execution_count": 6,
   "metadata": {},
   "outputs": [
    {
     "name": "stdout",
     "output_type": "stream",
     "text": [
      "                 Date    Open    High     Low   Close  Volume  basis  Position\n",
      "0 2024-07-10 14:00:00  1316.4  1317.0  1316.2  1316.8   631.0   0.54        -1\n"
     ]
    }
   ],
   "source": [
    "from Trung_Chien_datamodel import TradingData\n",
    "from Trung_Chien_MomentumHSI_posgen import GeneratePosition\n",
    "import telegram\n",
    "import asyncio\n",
    "\n",
    "trading_data = TradingData(\n",
    "    symbol='vn30f1m',\n",
    "    host='192.168.1.35',\n",
    "    port='5432',\n",
    "    dbname='postgres',\n",
    "    user='postgres',\n",
    "    password='postgres',\n",
    "    schema='public',\n",
    "    csv_file='vn30f1m_paper_trade.csv'\n",
    ")\n",
    "\n",
    "pos_gen = GeneratePosition()\n",
    "bot = telegram.Bot(token='7117934389:AAFvk_lHb-kKg8Z75z2gZ4NwSjIleetHjdQ')\n",
    "\n",
    "async def main():\n",
    "    df = trading_data.get_vn30f1m()\n",
    "    df = trading_data.get_vn30f1m_trading(df)\n",
    "    trading_data.update_data(df)\n",
    "    \n",
    "    feature = pos_gen.get_feature()\n",
    "    position = pos_gen.posgen(feature)\n",
    "    \n",
    "    if position is not None:\n",
    "        updated_df = trading_data.update_position(position)\n",
    "        message = updated_df[['Date', 'Close', 'Position']].tail(1).to_string(index=False)\n",
    "        bot.send_message(chat_id='-4270845760', text=f'<pre>{message}</pre>', parse_mode='HTML')\n",
    "        print(updated_df)\n",
    "    else:\n",
    "        print(\"Failed to update the position\")\n",
    "\n",
    "await main()"
   ]
  },
  {
   "cell_type": "code",
   "execution_count": null,
   "metadata": {},
   "outputs": [],
   "source": []
  }
 ],
 "metadata": {
  "kernelspec": {
   "display_name": "min_ds-env",
   "language": "python",
   "name": "python3"
  },
  "language_info": {
   "codemirror_mode": {
    "name": "ipython",
    "version": 3
   },
   "file_extension": ".py",
   "mimetype": "text/x-python",
   "name": "python",
   "nbconvert_exporter": "python",
   "pygments_lexer": "ipython3",
   "version": "3.8.19"
  }
 },
 "nbformat": 4,
 "nbformat_minor": 2
}
