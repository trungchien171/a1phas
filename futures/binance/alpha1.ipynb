{
 "cells": [
  {
   "cell_type": "code",
   "execution_count": 1,
   "metadata": {},
   "outputs": [
    {
     "data": {
      "text/html": [
       "<div>\n",
       "<style scoped>\n",
       "    .dataframe tbody tr th:only-of-type {\n",
       "        vertical-align: middle;\n",
       "    }\n",
       "\n",
       "    .dataframe tbody tr th {\n",
       "        vertical-align: top;\n",
       "    }\n",
       "\n",
       "    .dataframe thead th {\n",
       "        text-align: right;\n",
       "    }\n",
       "</style>\n",
       "<table border=\"1\" class=\"dataframe\">\n",
       "  <thead>\n",
       "    <tr style=\"text-align: right;\">\n",
       "      <th></th>\n",
       "      <th>date</th>\n",
       "      <th>open</th>\n",
       "      <th>high</th>\n",
       "      <th>low</th>\n",
       "      <th>close</th>\n",
       "      <th>volume</th>\n",
       "      <th>ticker</th>\n",
       "    </tr>\n",
       "  </thead>\n",
       "  <tbody>\n",
       "    <tr>\n",
       "      <th>0</th>\n",
       "      <td>2023-12-12 21:00:00</td>\n",
       "      <td>0.0005260</td>\n",
       "      <td>0.0005530</td>\n",
       "      <td>0.0005120</td>\n",
       "      <td>0.0005460</td>\n",
       "      <td>9248759734</td>\n",
       "      <td>1000SATSUSDT</td>\n",
       "    </tr>\n",
       "    <tr>\n",
       "      <th>1</th>\n",
       "      <td>2024-01-02 20:45:00</td>\n",
       "      <td>0.0008307</td>\n",
       "      <td>0.0008334</td>\n",
       "      <td>0.0008018</td>\n",
       "      <td>0.0008029</td>\n",
       "      <td>13673827586</td>\n",
       "      <td>1000SATSUSDT</td>\n",
       "    </tr>\n",
       "    <tr>\n",
       "      <th>2</th>\n",
       "      <td>2024-01-02 20:50:00</td>\n",
       "      <td>0.0008027</td>\n",
       "      <td>0.0008118</td>\n",
       "      <td>0.0008000</td>\n",
       "      <td>0.0008104</td>\n",
       "      <td>9361220475</td>\n",
       "      <td>1000SATSUSDT</td>\n",
       "    </tr>\n",
       "    <tr>\n",
       "      <th>3</th>\n",
       "      <td>2024-01-02 20:55:00</td>\n",
       "      <td>0.0008105</td>\n",
       "      <td>0.0008126</td>\n",
       "      <td>0.0008090</td>\n",
       "      <td>0.0008113</td>\n",
       "      <td>2216248995</td>\n",
       "      <td>1000SATSUSDT</td>\n",
       "    </tr>\n",
       "    <tr>\n",
       "      <th>4</th>\n",
       "      <td>2024-01-02 21:00:00</td>\n",
       "      <td>0.0008112</td>\n",
       "      <td>0.0008166</td>\n",
       "      <td>0.0008108</td>\n",
       "      <td>0.0008131</td>\n",
       "      <td>1968858202</td>\n",
       "      <td>1000SATSUSDT</td>\n",
       "    </tr>\n",
       "  </tbody>\n",
       "</table>\n",
       "</div>"
      ],
      "text/plain": [
       "                 date       open       high        low      close  \\\n",
       "0 2023-12-12 21:00:00  0.0005260  0.0005530  0.0005120  0.0005460   \n",
       "1 2024-01-02 20:45:00  0.0008307  0.0008334  0.0008018  0.0008029   \n",
       "2 2024-01-02 20:50:00  0.0008027  0.0008118  0.0008000  0.0008104   \n",
       "3 2024-01-02 20:55:00  0.0008105  0.0008126  0.0008090  0.0008113   \n",
       "4 2024-01-02 21:00:00  0.0008112  0.0008166  0.0008108  0.0008131   \n",
       "\n",
       "        volume        ticker  \n",
       "0   9248759734  1000SATSUSDT  \n",
       "1  13673827586  1000SATSUSDT  \n",
       "2   9361220475  1000SATSUSDT  \n",
       "3   2216248995  1000SATSUSDT  \n",
       "4   1968858202  1000SATSUSDT  "
      ]
     },
     "execution_count": 1,
     "metadata": {},
     "output_type": "execute_result"
    }
   ],
   "source": [
    "import pandas as pd\n",
    "import numpy as np\n",
    "from sqlalchemy import create_engine\n",
    "\n",
    "user = 'postgres'\n",
    "password = '1711'\n",
    "host = 'localhost'\n",
    "port = '5432'\n",
    "database = 'Full_Data'\n",
    "schema = 'crypto'\n",
    "table = 'binance_futures'\n",
    "conn = f'postgresql+psycopg2://{user}:{password}@{host}:{port}/{database}'                                           \n",
    "engine = create_engine(conn)\n",
    "\n",
    "query = f\"SELECT * FROM {schema}.{table} WHERE ticker = '1000SATSUSDT'\"\n",
    "df = pd.read_sql(query, engine)\n",
    "df.head()"
   ]
  },
  {
   "cell_type": "code",
   "execution_count": 18,
   "metadata": {},
   "outputs": [],
   "source": [
    "df.set_index('date', inplace=True)"
   ]
  },
  {
   "cell_type": "code",
   "execution_count": 19,
   "metadata": {},
   "outputs": [
    {
     "name": "stdout",
     "output_type": "stream",
     "text": [
      "Train shape: (55732, 6)\n",
      "Test shape: (13933, 6)\n"
     ]
    }
   ],
   "source": [
    "split = int(len(df) * 0.2)\n",
    "train = df.iloc[:-split]\n",
    "test = df.iloc[-split:]\n",
    "print(f\"Train shape: {train.shape}\")\n",
    "print(f\"Test shape: {test.shape}\")"
   ]
  },
  {
   "cell_type": "code",
   "execution_count": 20,
   "metadata": {},
   "outputs": [
    {
     "data": {
      "text/html": [
       "<div>\n",
       "<style scoped>\n",
       "    .dataframe tbody tr th:only-of-type {\n",
       "        vertical-align: middle;\n",
       "    }\n",
       "\n",
       "    .dataframe tbody tr th {\n",
       "        vertical-align: top;\n",
       "    }\n",
       "\n",
       "    .dataframe thead th {\n",
       "        text-align: right;\n",
       "    }\n",
       "</style>\n",
       "<table border=\"1\" class=\"dataframe\">\n",
       "  <thead>\n",
       "    <tr style=\"text-align: right;\">\n",
       "      <th></th>\n",
       "      <th>open</th>\n",
       "      <th>high</th>\n",
       "      <th>low</th>\n",
       "      <th>close</th>\n",
       "      <th>volume</th>\n",
       "      <th>ticker</th>\n",
       "    </tr>\n",
       "    <tr>\n",
       "      <th>date</th>\n",
       "      <th></th>\n",
       "      <th></th>\n",
       "      <th></th>\n",
       "      <th></th>\n",
       "      <th></th>\n",
       "      <th></th>\n",
       "    </tr>\n",
       "  </thead>\n",
       "  <tbody>\n",
       "    <tr>\n",
       "      <th>2023-12-12 21:00:00</th>\n",
       "      <td>0.0005260</td>\n",
       "      <td>0.0005530</td>\n",
       "      <td>0.0005120</td>\n",
       "      <td>0.0005460</td>\n",
       "      <td>9248759734</td>\n",
       "      <td>1000SATSUSDT</td>\n",
       "    </tr>\n",
       "    <tr>\n",
       "      <th>2024-01-02 20:45:00</th>\n",
       "      <td>0.0008307</td>\n",
       "      <td>0.0008334</td>\n",
       "      <td>0.0008018</td>\n",
       "      <td>0.0008029</td>\n",
       "      <td>13673827586</td>\n",
       "      <td>1000SATSUSDT</td>\n",
       "    </tr>\n",
       "    <tr>\n",
       "      <th>2024-01-02 20:50:00</th>\n",
       "      <td>0.0008027</td>\n",
       "      <td>0.0008118</td>\n",
       "      <td>0.0008000</td>\n",
       "      <td>0.0008104</td>\n",
       "      <td>9361220475</td>\n",
       "      <td>1000SATSUSDT</td>\n",
       "    </tr>\n",
       "    <tr>\n",
       "      <th>2024-01-02 20:55:00</th>\n",
       "      <td>0.0008105</td>\n",
       "      <td>0.0008126</td>\n",
       "      <td>0.0008090</td>\n",
       "      <td>0.0008113</td>\n",
       "      <td>2216248995</td>\n",
       "      <td>1000SATSUSDT</td>\n",
       "    </tr>\n",
       "    <tr>\n",
       "      <th>2024-01-02 21:00:00</th>\n",
       "      <td>0.0008112</td>\n",
       "      <td>0.0008166</td>\n",
       "      <td>0.0008108</td>\n",
       "      <td>0.0008131</td>\n",
       "      <td>1968858202</td>\n",
       "      <td>1000SATSUSDT</td>\n",
       "    </tr>\n",
       "  </tbody>\n",
       "</table>\n",
       "</div>"
      ],
      "text/plain": [
       "                          open       high        low      close       volume  \\\n",
       "date                                                                           \n",
       "2023-12-12 21:00:00  0.0005260  0.0005530  0.0005120  0.0005460   9248759734   \n",
       "2024-01-02 20:45:00  0.0008307  0.0008334  0.0008018  0.0008029  13673827586   \n",
       "2024-01-02 20:50:00  0.0008027  0.0008118  0.0008000  0.0008104   9361220475   \n",
       "2024-01-02 20:55:00  0.0008105  0.0008126  0.0008090  0.0008113   2216248995   \n",
       "2024-01-02 21:00:00  0.0008112  0.0008166  0.0008108  0.0008131   1968858202   \n",
       "\n",
       "                           ticker  \n",
       "date                               \n",
       "2023-12-12 21:00:00  1000SATSUSDT  \n",
       "2024-01-02 20:45:00  1000SATSUSDT  \n",
       "2024-01-02 20:50:00  1000SATSUSDT  \n",
       "2024-01-02 20:55:00  1000SATSUSDT  \n",
       "2024-01-02 21:00:00  1000SATSUSDT  "
      ]
     },
     "execution_count": 20,
     "metadata": {},
     "output_type": "execute_result"
    }
   ],
   "source": [
    "train.head()"
   ]
  },
  {
   "cell_type": "code",
   "execution_count": 35,
   "metadata": {},
   "outputs": [],
   "source": [
    "def calculate_alpha(df: pd.DataFrame, correlation_window: int = 10) -> pd.DataFrame:\n",
    "    \"\"\"\n",
    "    Calculate the alpha using the formula:\n",
    "    (-1 * correlation(rank(open), rank(volume), 10))\n",
    "    \n",
    "    Parameters:\n",
    "    -----------\n",
    "    df : pd.DataFrame\n",
    "        DataFrame containing 'open' and 'volume' columns.\n",
    "    correlation_window : int\n",
    "        The window size for the rolling correlation. Default is 10.\n",
    "        \n",
    "    Returns:\n",
    "    --------\n",
    "    pd.DataFrame\n",
    "        DataFrame with the calculated alpha values.\n",
    "    \"\"\"\n",
    "\n",
    "    # Convert necessary columns to numeric (if not already) and handle any non-numeric data\n",
    "    df['open'] = pd.to_numeric(df['open'], errors='coerce')\n",
    "    df['volume'] = pd.to_numeric(df['volume'], errors='coerce')\n",
    "\n",
    "    # 1. Rank the open prices\n",
    "    df['rank_open'] = df['open'].rank()\n",
    "\n",
    "    # 2. Rank the volume values\n",
    "    df['rank_volume'] = df['volume'].rank()\n",
    "\n",
    "    # 3. Calculate the 10-period rolling correlation\n",
    "    df['correlation'] = df['rank_open'].rolling(window=correlation_window).corr(df['rank_volume'])\n",
    "\n",
    "    # 4. Multiply the correlation by -1 to get the alpha\n",
    "    df['alpha'] = -1 * df['correlation']\n",
    "\n",
    "    # Clean up intermediate columns if needed\n",
    "    df = df.drop(columns=['rank_open', 'rank_volume', 'correlation'])\n",
    "\n",
    "    return df"
   ]
  },
  {
   "cell_type": "code",
   "execution_count": 36,
   "metadata": {},
   "outputs": [
    {
     "name": "stderr",
     "output_type": "stream",
     "text": [
      "<ipython-input-35-3e8086b631cd>:20: SettingWithCopyWarning: \n",
      "A value is trying to be set on a copy of a slice from a DataFrame.\n",
      "Try using .loc[row_indexer,col_indexer] = value instead\n",
      "\n",
      "See the caveats in the documentation: https://pandas.pydata.org/pandas-docs/stable/user_guide/indexing.html#returning-a-view-versus-a-copy\n",
      "  df['open'] = pd.to_numeric(df['open'], errors='coerce')\n",
      "<ipython-input-35-3e8086b631cd>:21: SettingWithCopyWarning: \n",
      "A value is trying to be set on a copy of a slice from a DataFrame.\n",
      "Try using .loc[row_indexer,col_indexer] = value instead\n",
      "\n",
      "See the caveats in the documentation: https://pandas.pydata.org/pandas-docs/stable/user_guide/indexing.html#returning-a-view-versus-a-copy\n",
      "  df['volume'] = pd.to_numeric(df['volume'], errors='coerce')\n",
      "<ipython-input-35-3e8086b631cd>:24: SettingWithCopyWarning: \n",
      "A value is trying to be set on a copy of a slice from a DataFrame.\n",
      "Try using .loc[row_indexer,col_indexer] = value instead\n",
      "\n",
      "See the caveats in the documentation: https://pandas.pydata.org/pandas-docs/stable/user_guide/indexing.html#returning-a-view-versus-a-copy\n",
      "  df['rank_open'] = df['open'].rank()\n",
      "<ipython-input-35-3e8086b631cd>:27: SettingWithCopyWarning: \n",
      "A value is trying to be set on a copy of a slice from a DataFrame.\n",
      "Try using .loc[row_indexer,col_indexer] = value instead\n",
      "\n",
      "See the caveats in the documentation: https://pandas.pydata.org/pandas-docs/stable/user_guide/indexing.html#returning-a-view-versus-a-copy\n",
      "  df['rank_volume'] = df['volume'].rank()\n",
      "<ipython-input-35-3e8086b631cd>:30: SettingWithCopyWarning: \n",
      "A value is trying to be set on a copy of a slice from a DataFrame.\n",
      "Try using .loc[row_indexer,col_indexer] = value instead\n",
      "\n",
      "See the caveats in the documentation: https://pandas.pydata.org/pandas-docs/stable/user_guide/indexing.html#returning-a-view-versus-a-copy\n",
      "  df['correlation'] = df['rank_open'].rolling(window=correlation_window).corr(df['rank_volume'])\n",
      "<ipython-input-35-3e8086b631cd>:33: SettingWithCopyWarning: \n",
      "A value is trying to be set on a copy of a slice from a DataFrame.\n",
      "Try using .loc[row_indexer,col_indexer] = value instead\n",
      "\n",
      "See the caveats in the documentation: https://pandas.pydata.org/pandas-docs/stable/user_guide/indexing.html#returning-a-view-versus-a-copy\n",
      "  df['alpha'] = -1 * df['correlation']\n"
     ]
    },
    {
     "data": {
      "text/plain": [
       "<Axes: xlabel='date'>"
      ]
     },
     "execution_count": 36,
     "metadata": {},
     "output_type": "execute_result"
    },
    {
     "data": {
      "image/png": "[encoded data removed]",
      "text/plain": [
       "<Figure size 432x288 with 1 Axes>"
      ]
     },
     "metadata": {
      "needs_background": "light"
     },
     "output_type": "display_data"
    }
   ],
   "source": [
    "is_backtest = calculate_alpha(train)\n",
    "is_backtest['pnl'] = is_backtest['close'].diff() * is_backtest['signal'].shift()\n",
    "is_backtest.dropna(inplace=True)\n",
    "is_backtest['pnl'].cumsum().plot()    "
   ]
  },
  {
   "cell_type": "code",
   "execution_count": 37,
   "metadata": {},
   "outputs": [
    {
     "name": "stderr",
     "output_type": "stream",
     "text": [
      "<ipython-input-35-3e8086b631cd>:20: SettingWithCopyWarning: \n",
      "A value is trying to be set on a copy of a slice from a DataFrame.\n",
      "Try using .loc[row_indexer,col_indexer] = value instead\n",
      "\n",
      "See the caveats in the documentation: https://pandas.pydata.org/pandas-docs/stable/user_guide/indexing.html#returning-a-view-versus-a-copy\n",
      "  df['open'] = pd.to_numeric(df['open'], errors='coerce')\n",
      "<ipython-input-35-3e8086b631cd>:21: SettingWithCopyWarning: \n",
      "A value is trying to be set on a copy of a slice from a DataFrame.\n",
      "Try using .loc[row_indexer,col_indexer] = value instead\n",
      "\n",
      "See the caveats in the documentation: https://pandas.pydata.org/pandas-docs/stable/user_guide/indexing.html#returning-a-view-versus-a-copy\n",
      "  df['volume'] = pd.to_numeric(df['volume'], errors='coerce')\n",
      "<ipython-input-35-3e8086b631cd>:24: SettingWithCopyWarning: \n",
      "A value is trying to be set on a copy of a slice from a DataFrame.\n",
      "Try using .loc[row_indexer,col_indexer] = value instead\n",
      "\n",
      "See the caveats in the documentation: https://pandas.pydata.org/pandas-docs/stable/user_guide/indexing.html#returning-a-view-versus-a-copy\n",
      "  df['rank_open'] = df['open'].rank()\n",
      "<ipython-input-35-3e8086b631cd>:27: SettingWithCopyWarning: \n",
      "A value is trying to be set on a copy of a slice from a DataFrame.\n",
      "Try using .loc[row_indexer,col_indexer] = value instead\n",
      "\n",
      "See the caveats in the documentation: https://pandas.pydata.org/pandas-docs/stable/user_guide/indexing.html#returning-a-view-versus-a-copy\n",
      "  df['rank_volume'] = df['volume'].rank()\n",
      "<ipython-input-35-3e8086b631cd>:30: SettingWithCopyWarning: \n",
      "A value is trying to be set on a copy of a slice from a DataFrame.\n",
      "Try using .loc[row_indexer,col_indexer] = value instead\n",
      "\n",
      "See the caveats in the documentation: https://pandas.pydata.org/pandas-docs/stable/user_guide/indexing.html#returning-a-view-versus-a-copy\n",
      "  df['correlation'] = df['rank_open'].rolling(window=correlation_window).corr(df['rank_volume'])\n",
      "<ipython-input-35-3e8086b631cd>:33: SettingWithCopyWarning: \n",
      "A value is trying to be set on a copy of a slice from a DataFrame.\n",
      "Try using .loc[row_indexer,col_indexer] = value instead\n",
      "\n",
      "See the caveats in the documentation: https://pandas.pydata.org/pandas-docs/stable/user_guide/indexing.html#returning-a-view-versus-a-copy\n",
      "  df['alpha'] = -1 * df['correlation']\n"
     ]
    },
    {
     "data": {
      "text/plain": [
       "<Axes: xlabel='date'>"
      ]
     },
     "execution_count": 37,
     "metadata": {},
     "output_type": "execute_result"
    },
    {
     "data": {
      "image/png": "[encoded data removed]",
      "text/plain": [
       "<Figure size 432x288 with 1 Axes>"
      ]
     },
     "metadata": {
      "needs_background": "light"
     },
     "output_type": "display_data"
    }
   ],
   "source": [
    "is_backtest = calculate_alpha(test)\n",
    "is_backtest['pnl'] = is_backtest['close'].diff() * is_backtest['signal'].shift()\n",
    "is_backtest.dropna(inplace=True)\n",
    "is_backtest['pnl'].cumsum().plot()    "
   ]
  }
 ],
 "metadata": {
  "kernelspec": {
   "display_name": "min_ds-env",
   "language": "python",
   "name": "python3"
  },
  "language_info": {
   "codemirror_mode": {
    "name": "ipython",
    "version": 3
   },
   "file_extension": ".py",
   "mimetype": "text/x-python",
   "name": "python",
   "nbconvert_exporter": "python",
   "pygments_lexer": "ipython3",
   "version": "3.8.19"
  }
 },
 "nbformat": 4,
 "nbformat_minor": 2
}
