{
 "cells": [
  {
   "cell_type": "markdown",
   "metadata": {},
   "source": [
    "## GET DATA & TO CSV"
   ]
  },
  {
   "cell_type": "code",
   "execution_count": 28,
   "metadata": {},
   "outputs": [
    {
     "data": {
      "text/html": [
       "<div>\n",
       "<style scoped>\n",
       "    .dataframe tbody tr th:only-of-type {\n",
       "        vertical-align: middle;\n",
       "    }\n",
       "\n",
       "    .dataframe tbody tr th {\n",
       "        vertical-align: top;\n",
       "    }\n",
       "\n",
       "    .dataframe thead th {\n",
       "        text-align: right;\n",
       "    }\n",
       "</style>\n",
       "<table border=\"1\" class=\"dataframe\">\n",
       "  <thead>\n",
       "    <tr style=\"text-align: right;\">\n",
       "      <th></th>\n",
       "      <th>open</th>\n",
       "      <th>high</th>\n",
       "      <th>low</th>\n",
       "      <th>close</th>\n",
       "      <th>adjusted_close</th>\n",
       "      <th>volume</th>\n",
       "      <th>ticker</th>\n",
       "    </tr>\n",
       "    <tr>\n",
       "      <th>date</th>\n",
       "      <th></th>\n",
       "      <th></th>\n",
       "      <th></th>\n",
       "      <th></th>\n",
       "      <th></th>\n",
       "      <th></th>\n",
       "      <th></th>\n",
       "    </tr>\n",
       "  </thead>\n",
       "  <tbody>\n",
       "    <tr>\n",
       "      <th>2000-01-03</th>\n",
       "      <td>0.936384</td>\n",
       "      <td>1.004464</td>\n",
       "      <td>0.907924</td>\n",
       "      <td>0.999442</td>\n",
       "      <td>0.844981</td>\n",
       "      <td>535796800</td>\n",
       "      <td>AAPL</td>\n",
       "    </tr>\n",
       "    <tr>\n",
       "      <th>2000-01-04</th>\n",
       "      <td>0.966518</td>\n",
       "      <td>0.987723</td>\n",
       "      <td>0.903460</td>\n",
       "      <td>0.915179</td>\n",
       "      <td>0.773741</td>\n",
       "      <td>512377600</td>\n",
       "      <td>AAPL</td>\n",
       "    </tr>\n",
       "    <tr>\n",
       "      <th>2000-01-05</th>\n",
       "      <td>0.926339</td>\n",
       "      <td>0.987165</td>\n",
       "      <td>0.919643</td>\n",
       "      <td>0.928571</td>\n",
       "      <td>0.785063</td>\n",
       "      <td>778321600</td>\n",
       "      <td>AAPL</td>\n",
       "    </tr>\n",
       "    <tr>\n",
       "      <th>2000-01-06</th>\n",
       "      <td>0.947545</td>\n",
       "      <td>0.955357</td>\n",
       "      <td>0.848214</td>\n",
       "      <td>0.848214</td>\n",
       "      <td>0.717125</td>\n",
       "      <td>767972800</td>\n",
       "      <td>AAPL</td>\n",
       "    </tr>\n",
       "    <tr>\n",
       "      <th>2000-01-07</th>\n",
       "      <td>0.861607</td>\n",
       "      <td>0.901786</td>\n",
       "      <td>0.852679</td>\n",
       "      <td>0.888393</td>\n",
       "      <td>0.751094</td>\n",
       "      <td>460734400</td>\n",
       "      <td>AAPL</td>\n",
       "    </tr>\n",
       "  </tbody>\n",
       "</table>\n",
       "</div>"
      ],
      "text/plain": [
       "                open      high       low     close  adjusted_close     volume  \\\n",
       "date                                                                            \n",
       "2000-01-03  0.936384  1.004464  0.907924  0.999442        0.844981  535796800   \n",
       "2000-01-04  0.966518  0.987723  0.903460  0.915179        0.773741  512377600   \n",
       "2000-01-05  0.926339  0.987165  0.919643  0.928571        0.785063  778321600   \n",
       "2000-01-06  0.947545  0.955357  0.848214  0.848214        0.717125  767972800   \n",
       "2000-01-07  0.861607  0.901786  0.852679  0.888393        0.751094  460734400   \n",
       "\n",
       "           ticker  \n",
       "date               \n",
       "2000-01-03   AAPL  \n",
       "2000-01-04   AAPL  \n",
       "2000-01-05   AAPL  \n",
       "2000-01-06   AAPL  \n",
       "2000-01-07   AAPL  "
      ]
     },
     "execution_count": 28,
     "metadata": {},
     "output_type": "execute_result"
    }
   ],
   "source": [
    "import pandas as pd\n",
    "import numpy as np\n",
    "from sqlalchemy import create_engine\n",
    "\n",
    "user = 'postgres'\n",
    "password = '1711'\n",
    "host = 'localhost'\n",
    "port = '5432'\n",
    "database = 'Full_Data'\n",
    "schema = 'us_stock'\n",
    "table = 'nasdaq100'\n",
    "conn = f'postgresql+psycopg2://{user}:{password}@{host}:{port}/{database}'                                           \n",
    "engine = create_engine(conn)\n",
    "\n",
    "query = f\"SELECT * FROM {schema}.{table}\"\n",
    "df = pd.read_sql(query, engine)\n",
    "df['date'] = pd.to_datetime(df['date']).dt.date\n",
    "df.set_index('date', inplace=True)\n",
    "df.head()"
   ]
  },
  {
   "cell_type": "code",
   "execution_count": 29,
   "metadata": {},
   "outputs": [
    {
     "name": "stdout",
     "output_type": "stream",
     "text": [
      "<class 'pandas.core.frame.DataFrame'>\n",
      "Index: 501350 entries, 2000-01-03 to 2024-07-31\n",
      "Data columns (total 7 columns):\n",
      " #   Column          Non-Null Count   Dtype  \n",
      "---  ------          --------------   -----  \n",
      " 0   open            501350 non-null  float64\n",
      " 1   high            501350 non-null  float64\n",
      " 2   low             501350 non-null  float64\n",
      " 3   close           501350 non-null  float64\n",
      " 4   adjusted_close  501350 non-null  float64\n",
      " 5   volume          501350 non-null  int64  \n",
      " 6   ticker          501350 non-null  object \n",
      "dtypes: float64(5), int64(1), object(1)\n",
      "memory usage: 30.6+ MB\n"
     ]
    }
   ],
   "source": [
    "df.info()"
   ]
  },
  {
   "cell_type": "code",
   "execution_count": 30,
   "metadata": {},
   "outputs": [],
   "source": [
    "metrics = ['open', 'high', 'low', 'close', 'adjusted_close', 'volume']\n",
    "matrices = {metric: df.pivot_table(index=df.index, columns='ticker', values=metric) for metric in metrics}\n",
    "\n",
    "open_matrix = matrices['open'].fillna(0)\n",
    "high_matrix = matrices['high'].fillna(0)\n",
    "low_matrix = matrices['low'].fillna(0)\n",
    "close_matrix = matrices['close'].fillna(0)\n",
    "adjusted_close_matrix = matrices['adjusted_close'].fillna(0)\n",
    "volume_matrix = matrices['volume'].fillna(0)"
   ]
  },
  {
   "cell_type": "code",
   "execution_count": 34,
   "metadata": {},
   "outputs": [],
   "source": [
    "open_matrix.to_csv('open.csv')\n",
    "high_matrix.to_csv('high.csv')\n",
    "low_matrix.to_csv('low.csv')\n",
    "close_matrix.to_csv('close.csv')\n",
    "adjusted_close_matrix.to_csv('adjusted_close.csv')\n",
    "volume_matrix.to_csv('volume.csv')"
   ]
  },
  {
   "cell_type": "markdown",
   "metadata": {},
   "source": [
    "## IMPORT DATA"
   ]
  },
  {
   "cell_type": "code",
   "execution_count": 1,
   "metadata": {},
   "outputs": [],
   "source": [
    "import glob\n",
    "import os\n",
    "import pandas as pd\n",
    "import numpy as np"
   ]
  },
  {
   "cell_type": "code",
   "execution_count": 2,
   "metadata": {},
   "outputs": [],
   "source": [
    "folder_path = r'D:\\github\\a1phas\\stock\\nasdaq\\data'\n",
    "csv_files = glob.glob(os.path.join(folder_path, '*.csv'))\n",
    "dataframes = {}\n",
    "\n",
    "for file in csv_files:\n",
    "    df_name = os.path.splitext(os.path.basename(file))[0]\n",
    "    dataframes[df_name] = pd.read_csv(file)\n",
    "                                   "
   ]
  },
  {
   "cell_type": "code",
   "execution_count": 3,
   "metadata": {},
   "outputs": [],
   "source": [
    "matrices = ['open', 'high', 'low', 'close', 'adjusted_close', 'volume']\n",
    "for i in matrices:\n",
    "    df = dataframes[i]\n",
    "    df['date'] = pd.to_datetime(df['date'])\n",
    "    df.set_index('date', inplace=True)\n",
    "    globals()[i] = df"
   ]
  },
  {
   "cell_type": "code",
   "execution_count": 5,
   "metadata": {},
   "outputs": [],
   "source": [
    "for i in matrices:\n",
    "    df = globals()[i]\n",
    "    \n",
    "    train_df = df.iloc[:-756]\n",
    "    test_df = df.iloc[-756:]\n",
    "    \n",
    "    globals()[f'{i}_train'] = train_df\n",
    "    globals()[f'{i}_test'] = test_df\n"
   ]
  },
  {
   "cell_type": "code",
   "execution_count": 8,
   "metadata": {},
   "outputs": [],
   "source": [
    "def alpha_signal(close_df, delta_window=5):\n",
    "    alpha_df = pd.DataFrame(index=close_df.index, columns=close_df.columns)\n",
    "    \n",
    "    for col in close_df.columns:\n",
    "        delta_close = close_df[col].diff()\n",
    "        ts_min = delta_close.rolling(window=delta_window).min()\n",
    "        ts_max = delta_close.rolling(window=delta_window).max()\n",
    "        \n",
    "        alpha_df[col] = np.where(\n",
    "            ts_min > 0, \n",
    "            delta_close, \n",
    "            np.where(ts_max < 0, delta_close, -delta_close)\n",
    "        )\n",
    "    \n",
    "    return alpha_df"
   ]
  },
  {
   "cell_type": "code",
   "execution_count": 115,
   "metadata": {},
   "outputs": [],
   "source": [
    "def orders(df, delta_window=5):\n",
    "    ords = pd.DataFrame(0, index=df.index, columns=df.columns)\n",
    "    alpha_df = alpha_signal(df, delta_window=delta_window)\n",
    "    for col in df.columns:\n",
    "        last_order = 0\n",
    "        holding_period = 0\n",
    "        days_since_last_sell = 0\n",
    "        for i in range(1, len(df)):\n",
    "            if df[col].iloc[i - 1] > 0 and df[col].iloc[i] > 0:\n",
    "                bull = alpha_df[col].iloc[i - 1] > 0\n",
    "                bear = alpha_df[col].iloc[i - 1] < 0\n",
    "                \n",
    "                # print(f\"Index {i}, Col {col}, Bull {bull}, Bear {bear}, Last Order {last_order}, Holding Period {holding_period}, Days Since Last Sell {days_since_last_sell}\")\n",
    "                \n",
    "                if bull:\n",
    "                    ords[col].iloc[i] = 1\n",
    "                elif bear:\n",
    "                    ords[col].iloc[i] = -1\n",
    "                else:\n",
    "                        ords[col].iloc[i] = 0\n",
    "                     \n",
    "\n",
    "    return ords"
   ]
  },
  {
   "cell_type": "code",
   "execution_count": 116,
   "metadata": {},
   "outputs": [],
   "source": [
    "def perf_metrics(daily_pnl_series):\n",
    "    sharpe = daily_pnl_series.mean() / daily_pnl_series.std() * np.sqrt(252)\n",
    "    cum_ret = daily_pnl_series.cumsum()\n",
    "    running_max = cum_ret.cummax()\n",
    "    drawdown = running_max - cum_ret\n",
    "    max_dd = (drawdown.max() / cum_ret.max()) * 100\n",
    "    return sharpe, max_dd"
   ]
  },
  {
   "cell_type": "code",
   "execution_count": 117,
   "metadata": {},
   "outputs": [
    {
     "name": "stdout",
     "output_type": "stream",
     "text": [
      "Sharpe ratio: -0.17\n",
      "Max drawdown: 200.33%\n"
     ]
    },
    {
     "data": {
      "image/png": "[encoded data removed]",
      "text/plain": [
       "<Figure size 432x288 with 1 Axes>"
      ]
     },
     "metadata": {
      "needs_background": "light"
     },
     "output_type": "display_data"
    }
   ],
   "source": [
    "order_matrix = orders(close_train)\n",
    "pnl_matrix = order_matrix.shift() * close_train.diff()\n",
    "universe_pnl = pnl_matrix.sum(axis=1)\n",
    "universe_pnl.cumsum().plot()\n",
    "sharpe, max_dd = perf_metrics(universe_pnl)\n",
    "print(f\"Sharpe ratio: {sharpe:.2f}\")\n",
    "print(f\"Max drawdown: {max_dd:.2f}%\")"
   ]
  },
  {
   "cell_type": "code",
   "execution_count": 5,
   "metadata": {},
   "outputs": [
    {
     "name": "stdout",
     "output_type": "stream",
     "text": [
      "   country         name        full_name\n",
      "0  vietnam  Vietnam 10Y  Vietnam 10-Year\n",
      "1  vietnam  Vietnam 15Y  Vietnam 15 Year\n",
      "2  vietnam   Vietnam 7Y   Vietnam 7-Year\n",
      "3  vietnam  Vietnam 20Y  Vietnam 20 Year\n",
      "4  vietnam   Vietnam 3Y   Vietnam 3-Year\n",
      "5  vietnam   Vietnam 2Y   Vietnam 2-Year\n",
      "6  vietnam   Vietnam 1Y   Vietnam 1-Year\n",
      "7  vietnam   Vietnam 5Y   Vietnam 5-Year\n",
      "8  vietnam  Vietnam 25Y  Vietnam 25 Year\n"
     ]
    }
   ],
   "source": [
    "import investpy\n",
    "\n",
    "# List all available bonds for Vietnam\n",
    "bonds = investpy.get_bonds(country='Vietnam')\n",
    "print(bonds)"
   ]
  },
  {
   "cell_type": "code",
   "execution_count": 9,
   "metadata": {},
   "outputs": [
    {
     "data": {
      "text/html": [
       "<div>\n",
       "<style scoped>\n",
       "    .dataframe tbody tr th:only-of-type {\n",
       "        vertical-align: middle;\n",
       "    }\n",
       "\n",
       "    .dataframe tbody tr th {\n",
       "        vertical-align: top;\n",
       "    }\n",
       "\n",
       "    .dataframe thead th {\n",
       "        text-align: right;\n",
       "    }\n",
       "</style>\n",
       "<table border=\"1\" class=\"dataframe\">\n",
       "  <thead>\n",
       "    <tr style=\"text-align: right;\">\n",
       "      <th></th>\n",
       "      <th>Open</th>\n",
       "      <th>High</th>\n",
       "      <th>Low</th>\n",
       "      <th>Close</th>\n",
       "    </tr>\n",
       "    <tr>\n",
       "      <th>Date</th>\n",
       "      <th></th>\n",
       "      <th></th>\n",
       "      <th></th>\n",
       "      <th></th>\n",
       "    </tr>\n",
       "  </thead>\n",
       "  <tbody>\n",
       "    <tr>\n",
       "      <th>2007-07-04</th>\n",
       "      <td>7.100</td>\n",
       "      <td>7.100</td>\n",
       "      <td>7.100</td>\n",
       "      <td>7.100</td>\n",
       "    </tr>\n",
       "    <tr>\n",
       "      <th>2007-07-09</th>\n",
       "      <td>7.100</td>\n",
       "      <td>7.100</td>\n",
       "      <td>7.100</td>\n",
       "      <td>7.100</td>\n",
       "    </tr>\n",
       "    <tr>\n",
       "      <th>2007-07-10</th>\n",
       "      <td>7.150</td>\n",
       "      <td>7.150</td>\n",
       "      <td>7.150</td>\n",
       "      <td>7.150</td>\n",
       "    </tr>\n",
       "    <tr>\n",
       "      <th>2007-07-11</th>\n",
       "      <td>7.150</td>\n",
       "      <td>7.150</td>\n",
       "      <td>7.150</td>\n",
       "      <td>7.150</td>\n",
       "    </tr>\n",
       "    <tr>\n",
       "      <th>2007-07-12</th>\n",
       "      <td>7.100</td>\n",
       "      <td>7.100</td>\n",
       "      <td>7.100</td>\n",
       "      <td>7.100</td>\n",
       "    </tr>\n",
       "    <tr>\n",
       "      <th>...</th>\n",
       "      <td>...</td>\n",
       "      <td>...</td>\n",
       "      <td>...</td>\n",
       "      <td>...</td>\n",
       "    </tr>\n",
       "    <tr>\n",
       "      <th>2024-07-26</th>\n",
       "      <td>2.033</td>\n",
       "      <td>2.033</td>\n",
       "      <td>2.033</td>\n",
       "      <td>2.033</td>\n",
       "    </tr>\n",
       "    <tr>\n",
       "      <th>2024-07-29</th>\n",
       "      <td>2.033</td>\n",
       "      <td>2.033</td>\n",
       "      <td>2.033</td>\n",
       "      <td>2.033</td>\n",
       "    </tr>\n",
       "    <tr>\n",
       "      <th>2024-07-30</th>\n",
       "      <td>2.033</td>\n",
       "      <td>2.033</td>\n",
       "      <td>2.033</td>\n",
       "      <td>2.033</td>\n",
       "    </tr>\n",
       "    <tr>\n",
       "      <th>2024-07-31</th>\n",
       "      <td>2.033</td>\n",
       "      <td>2.033</td>\n",
       "      <td>2.033</td>\n",
       "      <td>2.033</td>\n",
       "    </tr>\n",
       "    <tr>\n",
       "      <th>2024-08-01</th>\n",
       "      <td>2.037</td>\n",
       "      <td>2.037</td>\n",
       "      <td>2.037</td>\n",
       "      <td>2.037</td>\n",
       "    </tr>\n",
       "  </tbody>\n",
       "</table>\n",
       "<p>4237 rows × 4 columns</p>\n",
       "</div>"
      ],
      "text/plain": [
       "             Open   High    Low  Close\n",
       "Date                                  \n",
       "2007-07-04  7.100  7.100  7.100  7.100\n",
       "2007-07-09  7.100  7.100  7.100  7.100\n",
       "2007-07-10  7.150  7.150  7.150  7.150\n",
       "2007-07-11  7.150  7.150  7.150  7.150\n",
       "2007-07-12  7.100  7.100  7.100  7.100\n",
       "...           ...    ...    ...    ...\n",
       "2024-07-26  2.033  2.033  2.033  2.033\n",
       "2024-07-29  2.033  2.033  2.033  2.033\n",
       "2024-07-30  2.033  2.033  2.033  2.033\n",
       "2024-07-31  2.033  2.033  2.033  2.033\n",
       "2024-08-01  2.037  2.037  2.037  2.037\n",
       "\n",
       "[4237 rows x 4 columns]"
      ]
     },
     "execution_count": 9,
     "metadata": {},
     "output_type": "execute_result"
    }
   ],
   "source": [
    "import investpy\n",
    "\n",
    "# Define the correct bond name\n",
    "bond = 'Vietnam 2Y'  # Example name; adjust based on the list\n",
    "\n",
    "# Fetch historical data\n",
    "data = investpy.get_bond_historical_data(bond=bond,\n",
    "                                         from_date='01/01/2000',\n",
    "                                         to_date='01/08/2024')\n",
    "\n",
    "# # Save to a CSV file\n",
    "# data.to_csv('vietnam_2_year_bond_yield_investpy.csv', index=False)\n",
    "\n",
    "# print('Data saved to vietnam_2_year_bond_yield_investpy.csv')\n",
    "data"
   ]
  }
 ],
 "metadata": {
  "kernelspec": {
   "display_name": "min_ds-env",
   "language": "python",
   "name": "python3"
  },
  "language_info": {
   "codemirror_mode": {
    "name": "ipython",
    "version": 3
   },
   "file_extension": ".py",
   "mimetype": "text/x-python",
   "name": "python",
   "nbconvert_exporter": "python",
   "pygments_lexer": "ipython3",
   "version": "3.8.19"
  }
 },
 "nbformat": 4,
 "nbformat_minor": 2
}
