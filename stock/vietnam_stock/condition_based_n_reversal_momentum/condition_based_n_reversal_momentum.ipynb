{
 "cells": [
  {
   "cell_type": "markdown",
   "metadata": {},
   "source": [
    "## Get data"
   ]
  },
  {
   "cell_type": "code",
   "execution_count": 1,
   "metadata": {},
   "outputs": [],
   "source": [
    "import glob\n",
    "import pandas as pd\n",
    "import os\n",
    "import numpy as np\n",
    "import matplotlib.pyplot as plt\n",
    "from datetime import timedelta, datetime, timezone\n",
    "from vnstock3 import Vnstock\n",
    "import requests"
   ]
  },
  {
   "cell_type": "code",
   "execution_count": 2,
   "metadata": {},
   "outputs": [],
   "source": [
    "stock_list = []\n",
    "volume_list = []\n",
    "\n",
    "for i in glob.glob(r'D:\\Quantitative_Research\\H-Tech\\vnstock_data\\*.csv'):\n",
    "    stocks = pd.read_csv(i).set_index('time')['close'].reset_index()\n",
    "    volume = pd.read_csv(i).set_index('time')['volume'].reset_index()\n",
    "    stocks.columns = ['time', i[-7:-3]]\n",
    "    volume.columns = ['time', i[-7:-3]]\n",
    "    stock_list.append(stocks.set_index('time'))\n",
    "    volume_list.append(volume.set_index('time'))\n",
    "\n",
    "stock_universe_price = pd.concat(stock_list, axis = 1).sort_index()\n",
    "stock_universe_vol = pd.concat(volume_list, axis = 1).sort_index()"
   ]
  },
  {
   "cell_type": "markdown",
   "metadata": {},
   "source": [
    "## Data handling"
   ]
  },
  {
   "cell_type": "code",
   "execution_count": 3,
   "metadata": {},
   "outputs": [],
   "source": [
    "stock_universe_price.rename(columns=lambda x: x[:-1] if x != 'time' else x, inplace=True)\n",
    "stock_universe_price.index = pd.to_datetime(stock_universe_price.index)\n",
    "stock_universe_vol.rename(columns=lambda x: x[:-1] if x != 'time' else x, inplace=True)\n",
    "stock_universe_vol.index = pd.to_datetime(stock_universe_vol.index)"
   ]
  },
  {
   "cell_type": "markdown",
   "metadata": {},
   "source": [
    "## Get industry"
   ]
  },
  {
   "cell_type": "markdown",
   "metadata": {},
   "source": [
    "Get all valid industries from VN stock market that have more than 3 companies"
   ]
  },
  {
   "cell_type": "code",
   "execution_count": 4,
   "metadata": {},
   "outputs": [
    {
     "name": "stderr",
     "output_type": "stream",
     "text": [
      "2024-08-08 16:20:29,902 - vnstock3.common.vnstock - INFO - Mã chứng khoán không được chỉ định, chương trình mặc định sử dụng VN30F1M\n",
      "2024-08-08 16:20:29,935 - vnstock3.common.data.data_explorer - WARNING - Thông tin niêm yết & giao dịch sẽ được truy xuất từ TCBS\n"
     ]
    },
    {
     "name": "stdout",
     "output_type": "stream",
     "text": [
      "Valid industries: ['Construction & Materials', 'Real Estate Investment & Services', 'Industrial Transportation', 'Food Producers', 'Gas, Water & Multi-utilities', 'Chemicals', 'Personal Goods', 'Support Services', 'Electricity', 'Travel & Leisure', 'Pharmaceuticals & Biotechnology', 'Industrial Metals & Mining', 'Mining', 'Beverages', 'Financial Services', 'Media', 'Industrial Engineering', 'General Industrials', 'Banks', 'General Retailers', 'Electronic & Electrical Equipment', 'Forestry & Paper', 'Automobiles & Parts', 'Technology Hardware & Equipment', 'Software & Computer Services', 'Nonlife Insurance', 'Health Care Equipment & Services', 'Oil Equipment, Services & Distribution', 'Household Goods & Home Construction', 'Fixed Line Telecommunications', 'Food & Drug Retailers', 'Tobacco', 'Leisure Goods', 'Mobile Telecommunications', 'Oil & Gas Producers']\n"
     ]
    }
   ],
   "source": [
    "stock = Vnstock().stock()\n",
    "industries = stock.listing.symbols_by_industries()\n",
    "industry_counts = industries['en_icb_name3'].value_counts()\n",
    "valid_industries = industry_counts[industry_counts >= 3].index.tolist()\n",
    "\n",
    "print(f\"Valid industries: {valid_industries}\")\n",
    "\n",
    "valid_industries = list(set(valid_industries))"
   ]
  },
  {
   "cell_type": "markdown",
   "metadata": {},
   "source": [
    "## Specify universe by Industry"
   ]
  },
  {
   "cell_type": "markdown",
   "metadata": {},
   "source": [
    "Nonlife Insurance sector (Bảo hiểm phi nhân thọ)"
   ]
  },
  {
   "cell_type": "code",
   "execution_count": 49,
   "metadata": {},
   "outputs": [
    {
     "data": {
      "text/html": [
       "<div>\n",
       "<style scoped>\n",
       "    .dataframe tbody tr th:only-of-type {\n",
       "        vertical-align: middle;\n",
       "    }\n",
       "\n",
       "    .dataframe tbody tr th {\n",
       "        vertical-align: top;\n",
       "    }\n",
       "\n",
       "    .dataframe thead th {\n",
       "        text-align: right;\n",
       "    }\n",
       "</style>\n",
       "<table border=\"1\" class=\"dataframe\">\n",
       "  <thead>\n",
       "    <tr style=\"text-align: right;\">\n",
       "      <th></th>\n",
       "      <th>BHI</th>\n",
       "      <th>PTI</th>\n",
       "      <th>PVI</th>\n",
       "      <th>PGI</th>\n",
       "      <th>PRE</th>\n",
       "      <th>MIG</th>\n",
       "      <th>BIC</th>\n",
       "      <th>BMI</th>\n",
       "      <th>ABI</th>\n",
       "      <th>BLI</th>\n",
       "      <th>AIC</th>\n",
       "      <th>VNR</th>\n",
       "    </tr>\n",
       "    <tr>\n",
       "      <th>date</th>\n",
       "      <th></th>\n",
       "      <th></th>\n",
       "      <th></th>\n",
       "      <th></th>\n",
       "      <th></th>\n",
       "      <th></th>\n",
       "      <th></th>\n",
       "      <th></th>\n",
       "      <th></th>\n",
       "      <th></th>\n",
       "      <th></th>\n",
       "      <th></th>\n",
       "    </tr>\n",
       "  </thead>\n",
       "  <tbody>\n",
       "    <tr>\n",
       "      <th>2013-01-02</th>\n",
       "      <td>0.0</td>\n",
       "      <td>6.03</td>\n",
       "      <td>7.94</td>\n",
       "      <td>3.48</td>\n",
       "      <td>0.0</td>\n",
       "      <td>0.00</td>\n",
       "      <td>4.36</td>\n",
       "      <td>2.75</td>\n",
       "      <td>1.77</td>\n",
       "      <td>0.0</td>\n",
       "      <td>0.0</td>\n",
       "      <td>4.34</td>\n",
       "    </tr>\n",
       "    <tr>\n",
       "      <th>2013-01-03</th>\n",
       "      <td>0.0</td>\n",
       "      <td>5.45</td>\n",
       "      <td>7.84</td>\n",
       "      <td>3.33</td>\n",
       "      <td>0.0</td>\n",
       "      <td>0.00</td>\n",
       "      <td>4.19</td>\n",
       "      <td>2.79</td>\n",
       "      <td>1.77</td>\n",
       "      <td>0.0</td>\n",
       "      <td>0.0</td>\n",
       "      <td>4.24</td>\n",
       "    </tr>\n",
       "    <tr>\n",
       "      <th>2013-01-04</th>\n",
       "      <td>0.0</td>\n",
       "      <td>5.45</td>\n",
       "      <td>7.84</td>\n",
       "      <td>3.48</td>\n",
       "      <td>0.0</td>\n",
       "      <td>0.00</td>\n",
       "      <td>4.30</td>\n",
       "      <td>2.75</td>\n",
       "      <td>1.84</td>\n",
       "      <td>0.0</td>\n",
       "      <td>0.0</td>\n",
       "      <td>4.46</td>\n",
       "    </tr>\n",
       "    <tr>\n",
       "      <th>2013-01-07</th>\n",
       "      <td>0.0</td>\n",
       "      <td>5.45</td>\n",
       "      <td>7.89</td>\n",
       "      <td>3.33</td>\n",
       "      <td>0.0</td>\n",
       "      <td>0.00</td>\n",
       "      <td>4.24</td>\n",
       "      <td>2.86</td>\n",
       "      <td>1.91</td>\n",
       "      <td>0.0</td>\n",
       "      <td>0.0</td>\n",
       "      <td>4.27</td>\n",
       "    </tr>\n",
       "    <tr>\n",
       "      <th>2013-01-08</th>\n",
       "      <td>0.0</td>\n",
       "      <td>5.74</td>\n",
       "      <td>7.99</td>\n",
       "      <td>3.37</td>\n",
       "      <td>0.0</td>\n",
       "      <td>0.00</td>\n",
       "      <td>4.36</td>\n",
       "      <td>2.89</td>\n",
       "      <td>1.80</td>\n",
       "      <td>0.0</td>\n",
       "      <td>0.0</td>\n",
       "      <td>4.34</td>\n",
       "    </tr>\n",
       "    <tr>\n",
       "      <th>...</th>\n",
       "      <td>...</td>\n",
       "      <td>...</td>\n",
       "      <td>...</td>\n",
       "      <td>...</td>\n",
       "      <td>...</td>\n",
       "      <td>...</td>\n",
       "      <td>...</td>\n",
       "      <td>...</td>\n",
       "      <td>...</td>\n",
       "      <td>...</td>\n",
       "      <td>...</td>\n",
       "      <td>...</td>\n",
       "    </tr>\n",
       "    <tr>\n",
       "      <th>2024-07-18</th>\n",
       "      <td>12.5</td>\n",
       "      <td>30.10</td>\n",
       "      <td>55.40</td>\n",
       "      <td>23.80</td>\n",
       "      <td>19.0</td>\n",
       "      <td>21.50</td>\n",
       "      <td>37.90</td>\n",
       "      <td>25.95</td>\n",
       "      <td>26.47</td>\n",
       "      <td>11.8</td>\n",
       "      <td>12.2</td>\n",
       "      <td>25.80</td>\n",
       "    </tr>\n",
       "    <tr>\n",
       "      <th>2024-07-19</th>\n",
       "      <td>12.5</td>\n",
       "      <td>30.10</td>\n",
       "      <td>56.00</td>\n",
       "      <td>23.80</td>\n",
       "      <td>19.0</td>\n",
       "      <td>20.95</td>\n",
       "      <td>38.65</td>\n",
       "      <td>25.20</td>\n",
       "      <td>26.28</td>\n",
       "      <td>11.7</td>\n",
       "      <td>12.2</td>\n",
       "      <td>25.80</td>\n",
       "    </tr>\n",
       "    <tr>\n",
       "      <th>2024-07-22</th>\n",
       "      <td>12.5</td>\n",
       "      <td>30.20</td>\n",
       "      <td>54.70</td>\n",
       "      <td>23.80</td>\n",
       "      <td>19.0</td>\n",
       "      <td>19.50</td>\n",
       "      <td>36.10</td>\n",
       "      <td>24.10</td>\n",
       "      <td>26.09</td>\n",
       "      <td>11.8</td>\n",
       "      <td>12.0</td>\n",
       "      <td>25.80</td>\n",
       "    </tr>\n",
       "    <tr>\n",
       "      <th>2024-07-23</th>\n",
       "      <td>12.5</td>\n",
       "      <td>29.70</td>\n",
       "      <td>53.70</td>\n",
       "      <td>24.50</td>\n",
       "      <td>19.0</td>\n",
       "      <td>18.65</td>\n",
       "      <td>35.50</td>\n",
       "      <td>24.05</td>\n",
       "      <td>25.80</td>\n",
       "      <td>11.6</td>\n",
       "      <td>12.0</td>\n",
       "      <td>25.70</td>\n",
       "    </tr>\n",
       "    <tr>\n",
       "      <th>2024-07-24</th>\n",
       "      <td>12.5</td>\n",
       "      <td>29.70</td>\n",
       "      <td>53.70</td>\n",
       "      <td>24.50</td>\n",
       "      <td>19.0</td>\n",
       "      <td>19.95</td>\n",
       "      <td>37.30</td>\n",
       "      <td>24.20</td>\n",
       "      <td>26.00</td>\n",
       "      <td>11.8</td>\n",
       "      <td>11.4</td>\n",
       "      <td>25.70</td>\n",
       "    </tr>\n",
       "  </tbody>\n",
       "</table>\n",
       "<p>2884 rows × 12 columns</p>\n",
       "</div>"
      ],
      "text/plain": [
       "             BHI    PTI    PVI    PGI   PRE    MIG    BIC    BMI    ABI   BLI  \\\n",
       "date                                                                            \n",
       "2013-01-02   0.0   6.03   7.94   3.48   0.0   0.00   4.36   2.75   1.77   0.0   \n",
       "2013-01-03   0.0   5.45   7.84   3.33   0.0   0.00   4.19   2.79   1.77   0.0   \n",
       "2013-01-04   0.0   5.45   7.84   3.48   0.0   0.00   4.30   2.75   1.84   0.0   \n",
       "2013-01-07   0.0   5.45   7.89   3.33   0.0   0.00   4.24   2.86   1.91   0.0   \n",
       "2013-01-08   0.0   5.74   7.99   3.37   0.0   0.00   4.36   2.89   1.80   0.0   \n",
       "...          ...    ...    ...    ...   ...    ...    ...    ...    ...   ...   \n",
       "2024-07-18  12.5  30.10  55.40  23.80  19.0  21.50  37.90  25.95  26.47  11.8   \n",
       "2024-07-19  12.5  30.10  56.00  23.80  19.0  20.95  38.65  25.20  26.28  11.7   \n",
       "2024-07-22  12.5  30.20  54.70  23.80  19.0  19.50  36.10  24.10  26.09  11.8   \n",
       "2024-07-23  12.5  29.70  53.70  24.50  19.0  18.65  35.50  24.05  25.80  11.6   \n",
       "2024-07-24  12.5  29.70  53.70  24.50  19.0  19.95  37.30  24.20  26.00  11.8   \n",
       "\n",
       "             AIC    VNR  \n",
       "date                     \n",
       "2013-01-02   0.0   4.34  \n",
       "2013-01-03   0.0   4.24  \n",
       "2013-01-04   0.0   4.46  \n",
       "2013-01-07   0.0   4.27  \n",
       "2013-01-08   0.0   4.34  \n",
       "...          ...    ...  \n",
       "2024-07-18  12.2  25.80  \n",
       "2024-07-19  12.2  25.80  \n",
       "2024-07-22  12.0  25.80  \n",
       "2024-07-23  12.0  25.70  \n",
       "2024-07-24  11.4  25.70  \n",
       "\n",
       "[2884 rows x 12 columns]"
      ]
     },
     "execution_count": 49,
     "metadata": {},
     "output_type": "execute_result"
    }
   ],
   "source": [
    "ticker_list = industries[industries['en_icb_name3'] == 'Nonlife Insurance']['symbol'].tolist()\n",
    "available_tickers = [ticker for ticker in ticker_list if ticker in stock_universe_price.columns]\n",
    "stock_universe = stock_universe_price[available_tickers]\n",
    "stock_universe = stock_universe.ffill().fillna(0)\n",
    "stock_universe.index = pd.to_datetime(stock_universe.index)\n",
    "stock_universe.index = stock_universe.index.date\n",
    "stock_universe.index.name = 'date'\n",
    "stock_universe"
   ]
  },
  {
   "cell_type": "code",
   "execution_count": 50,
   "metadata": {},
   "outputs": [],
   "source": [
    "ticker_list = industries[industries['en_icb_name3'] == 'Nonlife Insurance']['symbol'].tolist()\n",
    "available_tickers = [ticker for ticker in ticker_list if ticker in stock_universe_vol.columns]\n",
    "vol = stock_universe_vol[available_tickers]\n",
    "vol = vol.fillna(0)\n",
    "vol.index = pd.to_datetime(vol.index)\n",
    "vol.index = vol.index.date\n",
    "vol.index.name = 'date'"
   ]
  },
  {
   "cell_type": "markdown",
   "metadata": {},
   "source": [
    "## Most liquid tickers"
   ]
  },
  {
   "cell_type": "markdown",
   "metadata": {},
   "source": [
    "Get top 5 most liquid tickers. Already checked for valid companies info, survivorship bias,..."
   ]
  },
  {
   "cell_type": "code",
   "execution_count": 51,
   "metadata": {},
   "outputs": [
    {
     "data": {
      "text/html": [
       "<div>\n",
       "<style scoped>\n",
       "    .dataframe tbody tr th:only-of-type {\n",
       "        vertical-align: middle;\n",
       "    }\n",
       "\n",
       "    .dataframe tbody tr th {\n",
       "        vertical-align: top;\n",
       "    }\n",
       "\n",
       "    .dataframe thead th {\n",
       "        text-align: right;\n",
       "    }\n",
       "</style>\n",
       "<table border=\"1\" class=\"dataframe\">\n",
       "  <thead>\n",
       "    <tr style=\"text-align: right;\">\n",
       "      <th></th>\n",
       "      <th>MIG</th>\n",
       "      <th>BMI</th>\n",
       "      <th>PVI</th>\n",
       "      <th>BIC</th>\n",
       "      <th>VNR</th>\n",
       "    </tr>\n",
       "    <tr>\n",
       "      <th>date</th>\n",
       "      <th></th>\n",
       "      <th></th>\n",
       "      <th></th>\n",
       "      <th></th>\n",
       "      <th></th>\n",
       "    </tr>\n",
       "  </thead>\n",
       "  <tbody>\n",
       "    <tr>\n",
       "      <th>2013-01-02</th>\n",
       "      <td>0.00</td>\n",
       "      <td>2.75</td>\n",
       "      <td>7.94</td>\n",
       "      <td>4.36</td>\n",
       "      <td>4.34</td>\n",
       "    </tr>\n",
       "    <tr>\n",
       "      <th>2013-01-03</th>\n",
       "      <td>0.00</td>\n",
       "      <td>2.79</td>\n",
       "      <td>7.84</td>\n",
       "      <td>4.19</td>\n",
       "      <td>4.24</td>\n",
       "    </tr>\n",
       "    <tr>\n",
       "      <th>2013-01-04</th>\n",
       "      <td>0.00</td>\n",
       "      <td>2.75</td>\n",
       "      <td>7.84</td>\n",
       "      <td>4.30</td>\n",
       "      <td>4.46</td>\n",
       "    </tr>\n",
       "    <tr>\n",
       "      <th>2013-01-07</th>\n",
       "      <td>0.00</td>\n",
       "      <td>2.86</td>\n",
       "      <td>7.89</td>\n",
       "      <td>4.24</td>\n",
       "      <td>4.27</td>\n",
       "    </tr>\n",
       "    <tr>\n",
       "      <th>2013-01-08</th>\n",
       "      <td>0.00</td>\n",
       "      <td>2.89</td>\n",
       "      <td>7.99</td>\n",
       "      <td>4.36</td>\n",
       "      <td>4.34</td>\n",
       "    </tr>\n",
       "    <tr>\n",
       "      <th>...</th>\n",
       "      <td>...</td>\n",
       "      <td>...</td>\n",
       "      <td>...</td>\n",
       "      <td>...</td>\n",
       "      <td>...</td>\n",
       "    </tr>\n",
       "    <tr>\n",
       "      <th>2024-07-18</th>\n",
       "      <td>21.50</td>\n",
       "      <td>25.95</td>\n",
       "      <td>55.40</td>\n",
       "      <td>37.90</td>\n",
       "      <td>25.80</td>\n",
       "    </tr>\n",
       "    <tr>\n",
       "      <th>2024-07-19</th>\n",
       "      <td>20.95</td>\n",
       "      <td>25.20</td>\n",
       "      <td>56.00</td>\n",
       "      <td>38.65</td>\n",
       "      <td>25.80</td>\n",
       "    </tr>\n",
       "    <tr>\n",
       "      <th>2024-07-22</th>\n",
       "      <td>19.50</td>\n",
       "      <td>24.10</td>\n",
       "      <td>54.70</td>\n",
       "      <td>36.10</td>\n",
       "      <td>25.80</td>\n",
       "    </tr>\n",
       "    <tr>\n",
       "      <th>2024-07-23</th>\n",
       "      <td>18.65</td>\n",
       "      <td>24.05</td>\n",
       "      <td>53.70</td>\n",
       "      <td>35.50</td>\n",
       "      <td>25.70</td>\n",
       "    </tr>\n",
       "    <tr>\n",
       "      <th>2024-07-24</th>\n",
       "      <td>19.95</td>\n",
       "      <td>24.20</td>\n",
       "      <td>53.70</td>\n",
       "      <td>37.30</td>\n",
       "      <td>25.70</td>\n",
       "    </tr>\n",
       "  </tbody>\n",
       "</table>\n",
       "<p>2884 rows × 5 columns</p>\n",
       "</div>"
      ],
      "text/plain": [
       "              MIG    BMI    PVI    BIC    VNR\n",
       "date                                         \n",
       "2013-01-02   0.00   2.75   7.94   4.36   4.34\n",
       "2013-01-03   0.00   2.79   7.84   4.19   4.24\n",
       "2013-01-04   0.00   2.75   7.84   4.30   4.46\n",
       "2013-01-07   0.00   2.86   7.89   4.24   4.27\n",
       "2013-01-08   0.00   2.89   7.99   4.36   4.34\n",
       "...           ...    ...    ...    ...    ...\n",
       "2024-07-18  21.50  25.95  55.40  37.90  25.80\n",
       "2024-07-19  20.95  25.20  56.00  38.65  25.80\n",
       "2024-07-22  19.50  24.10  54.70  36.10  25.80\n",
       "2024-07-23  18.65  24.05  53.70  35.50  25.70\n",
       "2024-07-24  19.95  24.20  53.70  37.30  25.70\n",
       "\n",
       "[2884 rows x 5 columns]"
      ]
     },
     "execution_count": 51,
     "metadata": {},
     "output_type": "execute_result"
    }
   ],
   "source": [
    "average_volume = vol.mean()\n",
    "sorted_tickers = average_volume.sort_values(ascending=False)\n",
    "top_3_tickers = sorted_tickers.head(5).index.tolist()\n",
    "# top_3_tickers = [ticker for ticker in top_3_tickers if ticker != 'GEE']\n",
    "stock_universe = stock_universe[top_3_tickers]\n",
    "stock_universe"
   ]
  },
  {
   "cell_type": "markdown",
   "metadata": {},
   "source": [
    "## Train-test split"
   ]
  },
  {
   "cell_type": "code",
   "execution_count": 52,
   "metadata": {},
   "outputs": [],
   "source": [
    "stock_universe_train = stock_universe.iloc[:-504]\n",
    "stock_universe_test = stock_universe.iloc[-504:]"
   ]
  },
  {
   "cell_type": "markdown",
   "metadata": {},
   "source": [
    "## Condition-Based and Reversal Momentum"
   ]
  },
  {
   "cell_type": "markdown",
   "metadata": {},
   "source": [
    "Strategy explanation:\n",
    "- Calculates the rolling average of prices over the specified window\n",
    "- Calculates the difference between the rolling average at the current time and the rolling average from \"window\" days ago\n",
    "- Shifts the price series by \"window\" days\n",
    "- Checks whether the relative change in the rolling average (delta_avg_100 / delay_close_100) is less than or equal to the specified condition threshold (e.g., 0.05 or 5%).\n",
    "- Calculates the minimum price over the \"window\" period\n",
    "- Calculates the difference in price from 3 days ago to capture short-term trends\n",
    "\n",
    "Signal generation:\n",
    "- If the condition (slow increase in the rolling average) is met, the signal is generated as the negative difference between the current price and the minimum price over the window period. This suggests that if the price is near a recent minimum, the strategy may predict a further decline.\n",
    "- If the condition is not met, the signal is the negative value of the price change over the last 3 days. This suggests that if the condition is not met, the strategy focuses on short-term price movements and anticipates a continuation of the recent trend.\n",
    "\n",
    "More interpretation:\n",
    "- The strategy generates negative signals, indicating a bearish outlook.\n",
    "- The signal changes based on whether the rolling average has been relatively stable (indicating potential price support) or whether the price has been declining in the short term."
   ]
  },
  {
   "cell_type": "code",
   "execution_count": 53,
   "metadata": {},
   "outputs": [],
   "source": [
    "def alpha_signal(df, window=100, condition=0.05):\n",
    "    alpha_df = pd.DataFrame(0, index=df.index, columns=df.columns)\n",
    "    \n",
    "    for col in df.columns:\n",
    "        rolling_avg_100 = df[col].rolling(window=window).mean()\n",
    "        delta_avg_100 = rolling_avg_100.diff(window)\n",
    "        delay_close_100 = df[col].shift(window)\n",
    "        \n",
    "        condition = (delta_avg_100 / delay_close_100) <= condition\n",
    "        ts_min_100 = df[col].rolling(window=window).min()\n",
    "        delta_3 = df[col].diff(3)\n",
    "        \n",
    "        alpha_df[col] = np.where(condition, -1 * (df[col] - ts_min_100), -1 * delta_3)\n",
    "\n",
    "    return alpha_df"
   ]
  },
  {
   "cell_type": "markdown",
   "metadata": {},
   "source": [
    "## Order matrix (adjust T + 3)"
   ]
  },
  {
   "cell_type": "markdown",
   "metadata": {},
   "source": [
    "Order placing logic:\n",
    "\n",
    "**Buy signal**: If the alpha_signal is greater than the threshold\n",
    "- If the last order == -1 and the stock is sold less than 3 days, do not place a new order.\n",
    "- If the last order == 1, continue holding\n",
    "- If no previous order, place a buy order\n",
    "- If the last order == -1 and the stock is sold 3 or more days, place a buy order\n",
    "\n",
    "**Sell signal**:  If the alpha_signal is less than the threshold and the stock holding period is 3 days or more, place a sell order\n",
    "\n",
    "**Neutral**: \n",
    "- If the last order == 1 but the signal is not buy, hold the position (0). \n",
    "- If the last order == -1 but the signal is not sell, hold the position (0)."
   ]
  },
  {
   "cell_type": "code",
   "execution_count": 56,
   "metadata": {},
   "outputs": [],
   "source": [
    "def orders(df, window=105, condition = 0.08):\n",
    "    ords = pd.DataFrame(0, index=df.index, columns=df.columns)\n",
    "    alpha_df = alpha_signal(df, window=window, condition=condition)\n",
    "    for col in df.columns:\n",
    "        last_order = 0\n",
    "        holding_period = 0\n",
    "        days_since_last_sell = 0\n",
    "        for i in range(1, len(df)):\n",
    "            if df[col].iloc[i - 1] > 0 and df[col].iloc[i] > 0:\n",
    "                bull = alpha_df[col].iloc[i - 1] > 0\n",
    "                bear = alpha_df[col].iloc[i - 1] < 0\n",
    "                \n",
    "                # print(f\"Index {i}, Col {col}, Bull {bull}, Bear {bear}, Last Order {last_order}, Holding Period {holding_period}, Days Since Last Sell {days_since_last_sell}\")\n",
    "                \n",
    "                if bull:\n",
    "                    if last_order == -1 and days_since_last_sell < 3:\n",
    "                        ords[col].iloc[i] = 0\n",
    "                        days_since_last_sell += 1\n",
    "                    elif last_order == 1:\n",
    "                        ords[col].iloc[i] = 0\n",
    "                        holding_period += 1\n",
    "                    elif last_order == 0:\n",
    "                        ords[col].iloc[i] = 1\n",
    "                        last_order = 1\n",
    "                        days_since_last_sell = 0\n",
    "                        holding_period += 1\n",
    "                    else:\n",
    "                        ords[col].iloc[i] = 1\n",
    "                        last_order = 1\n",
    "                        days_since_last_sell = 0\n",
    "                        holding_period += 1\n",
    "                elif bear and holding_period >= 3:\n",
    "                    ords[col].iloc[i] = -1\n",
    "                    last_order = -1\n",
    "                    holding_period = 0\n",
    "                    days_since_last_sell += 1\n",
    "                elif last_order == 1 and not bull:\n",
    "                    ords[col].iloc[i] = 0\n",
    "                    last_order = 1\n",
    "                    holding_period += 1\n",
    "                elif last_order == -1 and not bear:\n",
    "                    ords[col].iloc[i] = 0\n",
    "                    last_order = -1\n",
    "                    days_since_last_sell += 1\n",
    "\n",
    "    return ords"
   ]
  },
  {
   "cell_type": "markdown",
   "metadata": {},
   "source": [
    "## PnL calculation (equal-weight portfolio)"
   ]
  },
  {
   "cell_type": "code",
   "execution_count": 11,
   "metadata": {},
   "outputs": [],
   "source": [
    "def calculate_pnl(order_matrix, stock_universe, capital=1000000000):\n",
    "    num_stocks = len(order_matrix.columns)\n",
    "    capital_per_stock = capital / num_stocks\n",
    "    pnl_matrix = pd.DataFrame(np.zeros_like(order_matrix.values), index=order_matrix.index, columns=order_matrix.columns)\n",
    "    \n",
    "    for stock in order_matrix.columns:\n",
    "        buy_prices = []\n",
    "        holding_days = []\n",
    "\n",
    "        for i in range(len(order_matrix)):\n",
    "            order_signal = order_matrix.iloc[i, order_matrix.columns.get_loc(stock)]\n",
    "            price = stock_universe.iloc[i, stock_universe.columns.get_loc(stock)]\n",
    "            \n",
    "            if order_signal == 1:\n",
    "                # Buy with capital allocation\n",
    "                buy_price = price\n",
    "                shares_to_buy = capital_per_stock / buy_price\n",
    "                buy_prices.append(buy_price)\n",
    "                holding_days.append(1)\n",
    "                      \n",
    "            elif order_signal == -1:\n",
    "                sell_indices = [idx for idx, days in enumerate(holding_days) if days >= 3]\n",
    "                if sell_indices:\n",
    "                    pnl = round(sum((price - buy_prices[idx]) * (capital_per_stock / buy_prices[idx]) for idx in sell_indices), 2)\n",
    "                    pnl_matrix.iloc[i, pnl_matrix.columns.get_loc(stock)] += pnl\n",
    "                    buy_prices = [buy_prices[idx] for idx in range(len(buy_prices)) if idx not in sell_indices]\n",
    "                    holding_days = [days for idx, days in enumerate(holding_days) if idx not in sell_indices]\n",
    "            else:\n",
    "                if len(holding_days) >= 1:\n",
    "                    holding_days = [x + 1 for x in holding_days]\n",
    "                    \n",
    "    return pnl_matrix\n"
   ]
  },
  {
   "cell_type": "markdown",
   "metadata": {},
   "source": [
    "## Performance matrix"
   ]
  },
  {
   "cell_type": "code",
   "execution_count": 12,
   "metadata": {},
   "outputs": [],
   "source": [
    "def perf_metrics(daily_pnl_series):\n",
    "    sharpe = daily_pnl_series.mean() / daily_pnl_series.std() * np.sqrt(252)\n",
    "    cum_ret = daily_pnl_series.cumsum()\n",
    "    running_max = cum_ret.cummax()\n",
    "    drawdown = running_max - cum_ret\n",
    "    if cum_ret.max() == 0:\n",
    "        max_dd = np.nan\n",
    "    else:\n",
    "        max_dd = (drawdown.max() / cum_ret.max()) * 100\n",
    "    return sharpe, max_dd"
   ]
  },
  {
   "cell_type": "markdown",
   "metadata": {},
   "source": [
    "## IS backtest"
   ]
  },
  {
   "cell_type": "code",
   "execution_count": 57,
   "metadata": {},
   "outputs": [
    {
     "name": "stdout",
     "output_type": "stream",
     "text": [
      "Sharpe ratio: 1.05\n",
      "Max drawdown: 11.49%\n"
     ]
    },
    {
     "data": {
      "image/png": "[encoded data removed]",
      "text/plain": [
       "<Figure size 640x480 with 1 Axes>"
      ]
     },
     "metadata": {},
     "output_type": "display_data"
    }
   ],
   "source": [
    "order_matrix = orders(stock_universe_train)\n",
    "pnl_matrix = calculate_pnl(order_matrix, stock_universe_train)\n",
    "universe_pnl = pnl_matrix.sum(axis=1)\n",
    "universe_pnl.cumsum().plot()\n",
    "sharpe, max_dd = perf_metrics(universe_pnl) \n",
    "print(f\"Sharpe ratio: {sharpe:.2f}\")\n",
    "print(f\"Max drawdown: {max_dd:.2f}%\")"
   ]
  },
  {
   "cell_type": "markdown",
   "metadata": {},
   "source": [
    "## Hyperparameters tuning"
   ]
  },
  {
   "cell_type": "code",
   "execution_count": 58,
   "metadata": {},
   "outputs": [
    {
     "name": "stderr",
     "output_type": "stream",
     "text": [
      "[I 2024-08-08 16:39:04,758] A new study created in memory with name: no-name-a80a283a-b48d-45df-9b06-da295d13b4ad\n",
      "[I 2024-08-08 16:39:06,564] Trial 0 finished with value: 1.1202560914083375 and parameters: {'window': 112, 'condition': 0.07447104515490051}. Best is trial 0 with value: 1.1202560914083375.\n",
      "[I 2024-08-08 16:39:08,645] Trial 1 finished with value: 1.1985011751036956 and parameters: {'window': 122, 'condition': 0.0873165077260074}. Best is trial 1 with value: 1.1985011751036956.\n",
      "[I 2024-08-08 16:39:10,658] Trial 2 finished with value: 1.4062744756546741 and parameters: {'window': 197, 'condition': 0.025177865595498217}. Best is trial 2 with value: 1.4062744756546741.\n",
      "[I 2024-08-08 16:39:12,680] Trial 3 finished with value: 1.295187647063068 and parameters: {'window': 172, 'condition': 0.02817170566521563}. Best is trial 2 with value: 1.4062744756546741.\n",
      "[I 2024-08-08 16:39:14,690] Trial 4 finished with value: 1.2823714437189424 and parameters: {'window': 244, 'condition': 0.03707384634639787}. Best is trial 2 with value: 1.4062744756546741.\n",
      "[I 2024-08-08 16:39:16,598] Trial 5 finished with value: 1.211221270513645 and parameters: {'window': 147, 'condition': 0.09530603405720846}. Best is trial 2 with value: 1.4062744756546741.\n",
      "[I 2024-08-08 16:39:18,920] Trial 6 finished with value: 1.2569809519740445 and parameters: {'window': 146, 'condition': 0.08059193575657073}. Best is trial 2 with value: 1.4062744756546741.\n",
      "[I 2024-08-08 16:39:21,310] Trial 7 finished with value: 1.3879117438147692 and parameters: {'window': 190, 'condition': 0.08567163479491832}. Best is trial 2 with value: 1.4062744756546741.\n",
      "[I 2024-08-08 16:39:23,650] Trial 8 finished with value: 1.4117896713898543 and parameters: {'window': 190, 'condition': 0.08032058835381235}. Best is trial 8 with value: 1.4117896713898543.\n",
      "[I 2024-08-08 16:39:25,913] Trial 9 finished with value: 1.1022098045533408 and parameters: {'window': 231, 'condition': 0.0562538070714276}. Best is trial 8 with value: 1.4117896713898543.\n",
      "[I 2024-08-08 16:39:27,894] Trial 10 finished with value: 1.3582614346671475 and parameters: {'window': 214, 'condition': 0.06004322272311785}. Best is trial 8 with value: 1.4117896713898543.\n",
      "[I 2024-08-08 16:39:29,775] Trial 11 finished with value: 1.290449035282381 and parameters: {'window': 199, 'condition': 0.011627155225525633}. Best is trial 8 with value: 1.4117896713898543.\n",
      "[I 2024-08-08 16:39:31,751] Trial 12 finished with value: 1.2345029122202613 and parameters: {'window': 173, 'condition': 0.03676531672440349}. Best is trial 8 with value: 1.4117896713898543.\n",
      "[I 2024-08-08 16:39:33,566] Trial 13 finished with value: 1.3816994320220521 and parameters: {'window': 213, 'condition': 0.06902674166552106}. Best is trial 8 with value: 1.4117896713898543.\n",
      "[I 2024-08-08 16:39:35,380] Trial 14 finished with value: 1.1562749973568787 and parameters: {'window': 150, 'condition': 0.011046663242642231}. Best is trial 8 with value: 1.4117896713898543.\n",
      "[I 2024-08-08 16:39:37,305] Trial 15 finished with value: 1.3696705224872323 and parameters: {'window': 188, 'condition': 0.046007019606514384}. Best is trial 8 with value: 1.4117896713898543.\n",
      "[I 2024-08-08 16:39:39,787] Trial 16 finished with value: 1.3400011442428361 and parameters: {'window': 216, 'condition': 0.02528459077142124}. Best is trial 8 with value: 1.4117896713898543.\n",
      "[I 2024-08-08 16:39:41,902] Trial 17 finished with value: 1.214344004366079 and parameters: {'window': 163, 'condition': 0.06740782883935255}. Best is trial 8 with value: 1.4117896713898543.\n",
      "[I 2024-08-08 16:39:43,781] Trial 18 finished with value: 1.414546634058688 and parameters: {'window': 199, 'condition': 0.0988838523916917}. Best is trial 18 with value: 1.414546634058688.\n",
      "[I 2024-08-08 16:39:45,660] Trial 19 finished with value: 1.3189945346147274 and parameters: {'window': 234, 'condition': 0.09799833266100237}. Best is trial 18 with value: 1.414546634058688.\n",
      "[I 2024-08-08 16:39:47,477] Trial 20 finished with value: 1.3161149827529102 and parameters: {'window': 131, 'condition': 0.09968511257210068}. Best is trial 18 with value: 1.414546634058688.\n",
      "[I 2024-08-08 16:39:49,370] Trial 21 finished with value: 1.3364664909928943 and parameters: {'window': 198, 'condition': 0.0893052821219498}. Best is trial 18 with value: 1.414546634058688.\n",
      "[I 2024-08-08 16:39:51,867] Trial 22 finished with value: 1.2919142307490699 and parameters: {'window': 186, 'condition': 0.04685042670592123}. Best is trial 18 with value: 1.414546634058688.\n",
      "[I 2024-08-08 16:39:53,953] Trial 23 finished with value: 1.3333277271324326 and parameters: {'window': 206, 'condition': 0.07483807328743725}. Best is trial 18 with value: 1.414546634058688.\n",
      "[I 2024-08-08 16:39:55,968] Trial 24 finished with value: 1.2420040448036826 and parameters: {'window': 224, 'condition': 0.020307285090396157}. Best is trial 18 with value: 1.414546634058688.\n",
      "[I 2024-08-08 16:39:57,961] Trial 25 finished with value: 1.2248460500664708 and parameters: {'window': 252, 'condition': 0.0916430735247128}. Best is trial 18 with value: 1.414546634058688.\n",
      "[I 2024-08-08 16:39:59,943] Trial 26 finished with value: 1.1749658873842717 and parameters: {'window': 165, 'condition': 0.08077502807980474}. Best is trial 18 with value: 1.414546634058688.\n",
      "[I 2024-08-08 16:40:02,380] Trial 27 finished with value: 1.3106629886272791 and parameters: {'window': 180, 'condition': 0.06526123506932581}. Best is trial 18 with value: 1.414546634058688.\n",
      "[I 2024-08-08 16:40:04,387] Trial 28 finished with value: 1.3639397942144076 and parameters: {'window': 200, 'condition': 0.047733802944659315}. Best is trial 18 with value: 1.414546634058688.\n",
      "[I 2024-08-08 16:40:06,164] Trial 29 finished with value: 1.2106235043871336 and parameters: {'window': 164, 'condition': 0.07494772107384251}. Best is trial 18 with value: 1.414546634058688.\n",
      "[I 2024-08-08 16:40:07,935] Trial 30 finished with value: 1.4249052124023196 and parameters: {'window': 192, 'condition': 0.0787786599902682}. Best is trial 30 with value: 1.4249052124023196.\n",
      "[I 2024-08-08 16:40:09,710] Trial 31 finished with value: 1.4249052124023196 and parameters: {'window': 192, 'condition': 0.08093857728901349}. Best is trial 30 with value: 1.4249052124023196.\n",
      "[I 2024-08-08 16:40:11,994] Trial 32 finished with value: 0.9956429639419808 and parameters: {'window': 100, 'condition': 0.08504619320181817}. Best is trial 30 with value: 1.4249052124023196.\n",
      "[I 2024-08-08 16:40:13,902] Trial 33 finished with value: 1.3416253607179827 and parameters: {'window': 185, 'condition': 0.07911376773082222}. Best is trial 30 with value: 1.4249052124023196.\n",
      "[I 2024-08-08 16:40:15,676] Trial 34 finished with value: 1.3102929143824356 and parameters: {'window': 208, 'condition': 0.09224297878630287}. Best is trial 30 with value: 1.4249052124023196.\n",
      "[I 2024-08-08 16:40:17,702] Trial 35 finished with value: 1.277310309922099 and parameters: {'window': 178, 'condition': 0.0711848935469969}. Best is trial 30 with value: 1.4249052124023196.\n",
      "[I 2024-08-08 16:40:20,065] Trial 36 finished with value: 1.398729857497117 and parameters: {'window': 193, 'condition': 0.08431535557685621}. Best is trial 30 with value: 1.4249052124023196.\n",
      "[I 2024-08-08 16:40:22,445] Trial 37 finished with value: 1.3398746139089486 and parameters: {'window': 223, 'condition': 0.09505238989422489}. Best is trial 30 with value: 1.4249052124023196.\n",
      "[I 2024-08-08 16:40:24,443] Trial 38 finished with value: 1.3508988984806303 and parameters: {'window': 207, 'condition': 0.06285690663169537}. Best is trial 30 with value: 1.4249052124023196.\n",
      "[I 2024-08-08 16:40:26,539] Trial 39 finished with value: 1.2164868763142354 and parameters: {'window': 171, 'condition': 0.07801047012128574}. Best is trial 30 with value: 1.4249052124023196.\n",
      "[I 2024-08-08 16:40:28,610] Trial 40 finished with value: 1.2190424112464244 and parameters: {'window': 155, 'condition': 0.08923108935867909}. Best is trial 30 with value: 1.4249052124023196.\n",
      "[I 2024-08-08 16:40:30,956] Trial 41 finished with value: 1.4172615322482085 and parameters: {'window': 196, 'condition': 0.03596224371737359}. Best is trial 30 with value: 1.4249052124023196.\n",
      "[I 2024-08-08 16:40:33,144] Trial 42 finished with value: 1.351431270732891 and parameters: {'window': 181, 'condition': 0.03825490983180812}. Best is trial 30 with value: 1.4249052124023196.\n",
      "[I 2024-08-08 16:40:35,604] Trial 43 finished with value: 1.3769259838547907 and parameters: {'window': 194, 'condition': 0.05585050934161402}. Best is trial 30 with value: 1.4249052124023196.\n",
      "[I 2024-08-08 16:40:37,642] Trial 44 finished with value: 1.3308778759529596 and parameters: {'window': 203, 'condition': 0.07210642780894576}. Best is trial 30 with value: 1.4249052124023196.\n",
      "[I 2024-08-08 16:40:39,591] Trial 45 finished with value: 1.431989580404416 and parameters: {'window': 192, 'condition': 0.03260107639257891}. Best is trial 45 with value: 1.431989580404416.\n",
      "[I 2024-08-08 16:40:42,041] Trial 46 finished with value: 1.1974654528117046 and parameters: {'window': 220, 'condition': 0.03232902097977785}. Best is trial 45 with value: 1.431989580404416.\n",
      "[I 2024-08-08 16:40:44,538] Trial 47 finished with value: 1.451823324464438 and parameters: {'window': 193, 'condition': 0.019886369169448644}. Best is trial 47 with value: 1.451823324464438.\n",
      "[I 2024-08-08 16:40:46,719] Trial 48 finished with value: 1.2305261015137405 and parameters: {'window': 170, 'condition': 0.017181205309920025}. Best is trial 47 with value: 1.451823324464438.\n",
      "[I 2024-08-08 16:40:48,686] Trial 49 finished with value: 1.431989580404416 and parameters: {'window': 192, 'condition': 0.03227736827456398}. Best is trial 47 with value: 1.451823324464438.\n",
      "[I 2024-08-08 16:40:50,753] Trial 50 finished with value: 1.3396755679007204 and parameters: {'window': 185, 'condition': 0.027983666209191783}. Best is trial 47 with value: 1.451823324464438.\n",
      "[I 2024-08-08 16:40:52,915] Trial 51 finished with value: 1.404028719900301 and parameters: {'window': 190, 'condition': 0.04074677083870521}. Best is trial 47 with value: 1.451823324464438.\n",
      "[I 2024-08-08 16:40:55,454] Trial 52 finished with value: 1.1608341870930725 and parameters: {'window': 212, 'condition': 0.033411531672730345}. Best is trial 47 with value: 1.451823324464438.\n",
      "[I 2024-08-08 16:40:57,883] Trial 53 finished with value: 1.4198362670520444 and parameters: {'window': 193, 'condition': 0.02145554665947249}. Best is trial 47 with value: 1.451823324464438.\n",
      "[I 2024-08-08 16:41:00,550] Trial 54 finished with value: 1.312833114281948 and parameters: {'window': 179, 'condition': 0.022882912808644622}. Best is trial 47 with value: 1.451823324464438.\n",
      "[I 2024-08-08 16:41:03,041] Trial 55 finished with value: 1.4603381919593246 and parameters: {'window': 192, 'condition': 0.015381203214647199}. Best is trial 55 with value: 1.4603381919593246.\n",
      "[I 2024-08-08 16:41:05,785] Trial 56 finished with value: 1.2376284366926953 and parameters: {'window': 203, 'condition': 0.01691682437284845}. Best is trial 55 with value: 1.4603381919593246.\n",
      "[I 2024-08-08 16:41:08,358] Trial 57 finished with value: 1.3018080428397436 and parameters: {'window': 175, 'condition': 0.014767433223921987}. Best is trial 55 with value: 1.4603381919593246.\n",
      "[I 2024-08-08 16:41:10,700] Trial 58 finished with value: 1.242161496191184 and parameters: {'window': 137, 'condition': 0.028526168239612203}. Best is trial 55 with value: 1.4603381919593246.\n",
      "[I 2024-08-08 16:41:13,088] Trial 59 finished with value: 1.36790015885538 and parameters: {'window': 186, 'condition': 0.0106465590621264}. Best is trial 55 with value: 1.4603381919593246.\n",
      "[I 2024-08-08 16:41:16,932] Trial 60 finished with value: 1.0843014796232058 and parameters: {'window': 231, 'condition': 0.05266309211904358}. Best is trial 55 with value: 1.4603381919593246.\n",
      "[I 2024-08-08 16:41:19,646] Trial 61 finished with value: 1.4348579063437452 and parameters: {'window': 192, 'condition': 0.021721331293995123}. Best is trial 55 with value: 1.4603381919593246.\n",
      "[I 2024-08-08 16:41:21,771] Trial 62 finished with value: 1.1918073878317856 and parameters: {'window': 210, 'condition': 0.026274820057398056}. Best is trial 55 with value: 1.4603381919593246.\n",
      "[I 2024-08-08 16:41:24,169] Trial 63 finished with value: 1.4763025444248126 and parameters: {'window': 191, 'condition': 0.014625777411950425}. Best is trial 63 with value: 1.4763025444248126.\n",
      "[I 2024-08-08 16:41:26,776] Trial 64 finished with value: 1.2999511215647237 and parameters: {'window': 201, 'condition': 0.01339960213587519}. Best is trial 63 with value: 1.4763025444248126.\n",
      "[I 2024-08-08 16:41:28,941] Trial 65 finished with value: 1.4127960851713275 and parameters: {'window': 189, 'condition': 0.016564645315736443}. Best is trial 63 with value: 1.4763025444248126.\n",
      "[I 2024-08-08 16:41:31,150] Trial 66 finished with value: 1.2910085336778065 and parameters: {'window': 182, 'condition': 0.020953102792766742}. Best is trial 63 with value: 1.4763025444248126.\n",
      "[I 2024-08-08 16:41:33,105] Trial 67 finished with value: 1.3992078367558314 and parameters: {'window': 197, 'condition': 0.030888409627485593}. Best is trial 63 with value: 1.4763025444248126.\n",
      "[I 2024-08-08 16:41:36,407] Trial 68 finished with value: 1.181008287027158 and parameters: {'window': 205, 'condition': 0.022730795688955488}. Best is trial 63 with value: 1.4763025444248126.\n",
      "[I 2024-08-08 16:41:40,435] Trial 69 finished with value: 1.2209478788718924 and parameters: {'window': 169, 'condition': 0.019551588958083975}. Best is trial 63 with value: 1.4763025444248126.\n",
      "[I 2024-08-08 16:41:43,131] Trial 70 finished with value: 1.2663640982993312 and parameters: {'window': 218, 'condition': 0.024114070338190616}. Best is trial 63 with value: 1.4763025444248126.\n",
      "[I 2024-08-08 16:41:46,025] Trial 71 finished with value: 1.4568072267452972 and parameters: {'window': 193, 'condition': 0.01377540624973602}. Best is trial 63 with value: 1.4763025444248126.\n",
      "[I 2024-08-08 16:41:48,586] Trial 72 finished with value: 1.3297869018443575 and parameters: {'window': 183, 'condition': 0.013873363639800207}. Best is trial 63 with value: 1.4763025444248126.\n",
      "[I 2024-08-08 16:41:51,865] Trial 73 finished with value: 1.263760188726356 and parameters: {'window': 176, 'condition': 0.018566159851358705}. Best is trial 63 with value: 1.4763025444248126.\n",
      "[I 2024-08-08 16:41:54,784] Trial 74 finished with value: 1.4136811977521548 and parameters: {'window': 189, 'condition': 0.010450038994543692}. Best is trial 63 with value: 1.4763025444248126.\n",
      "[I 2024-08-08 16:41:57,298] Trial 75 finished with value: 1.4277751972945876 and parameters: {'window': 197, 'condition': 0.014085225326841661}. Best is trial 63 with value: 1.4763025444248126.\n",
      "[I 2024-08-08 16:41:59,648] Trial 76 finished with value: 1.3605996898528523 and parameters: {'window': 198, 'condition': 0.012958902760795935}. Best is trial 63 with value: 1.4763025444248126.\n",
      "[I 2024-08-08 16:42:01,789] Trial 77 finished with value: 1.361886489372754 and parameters: {'window': 201, 'condition': 0.042868983109234496}. Best is trial 63 with value: 1.4763025444248126.\n",
      "[I 2024-08-08 16:42:04,013] Trial 78 finished with value: 1.180325330616121 and parameters: {'window': 208, 'condition': 0.025365899879683698}. Best is trial 63 with value: 1.4763025444248126.\n",
      "[I 2024-08-08 16:42:06,333] Trial 79 finished with value: 1.2787733008278235 and parameters: {'window': 214, 'condition': 0.01643041451148558}. Best is trial 63 with value: 1.4763025444248126.\n",
      "[I 2024-08-08 16:42:09,220] Trial 80 finished with value: 1.3496312309555452 and parameters: {'window': 195, 'condition': 0.029496799735708432}. Best is trial 63 with value: 1.4763025444248126.\n",
      "[I 2024-08-08 16:42:11,421] Trial 81 finished with value: 1.4382587998063414 and parameters: {'window': 190, 'condition': 0.015078806221170606}. Best is trial 63 with value: 1.4763025444248126.\n",
      "[I 2024-08-08 16:42:13,703] Trial 82 finished with value: 1.4076000124212318 and parameters: {'window': 187, 'condition': 0.014923903714365748}. Best is trial 63 with value: 1.4763025444248126.\n",
      "[I 2024-08-08 16:42:15,946] Trial 83 finished with value: 1.4194084097434092 and parameters: {'window': 196, 'condition': 0.01869334438639241}. Best is trial 63 with value: 1.4763025444248126.\n",
      "[I 2024-08-08 16:42:18,112] Trial 84 finished with value: 1.4736216214854116 and parameters: {'window': 191, 'condition': 0.012980160070085591}. Best is trial 63 with value: 1.4763025444248126.\n",
      "[I 2024-08-08 16:42:20,063] Trial 85 finished with value: 1.3339334271198326 and parameters: {'window': 183, 'condition': 0.01210496424452881}. Best is trial 63 with value: 1.4763025444248126.\n",
      "[I 2024-08-08 16:42:22,138] Trial 86 finished with value: 1.1880576663368194 and parameters: {'window': 158, 'condition': 0.02160739886220793}. Best is trial 63 with value: 1.4763025444248126.\n",
      "[I 2024-08-08 16:42:24,394] Trial 87 finished with value: 1.4577720600100548 and parameters: {'window': 191, 'condition': 0.02564742837118278}. Best is trial 63 with value: 1.4763025444248126.\n",
      "[I 2024-08-08 16:42:26,527] Trial 88 finished with value: 1.2570096863931528 and parameters: {'window': 178, 'condition': 0.026221302538394206}. Best is trial 63 with value: 1.4763025444248126.\n",
      "[I 2024-08-08 16:42:28,455] Trial 89 finished with value: 1.2376284366926953 and parameters: {'window': 203, 'condition': 0.017717327001706282}. Best is trial 63 with value: 1.4763025444248126.\n",
      "[I 2024-08-08 16:42:30,403] Trial 90 finished with value: 1.23675158433029 and parameters: {'window': 174, 'condition': 0.020110135240383565}. Best is trial 63 with value: 1.4763025444248126.\n",
      "[I 2024-08-08 16:42:32,448] Trial 91 finished with value: 1.4829907101138375 and parameters: {'window': 191, 'condition': 0.010046511629468253}. Best is trial 91 with value: 1.4829907101138375.\n",
      "[I 2024-08-08 16:42:34,365] Trial 92 finished with value: 1.4382587998063414 and parameters: {'window': 190, 'condition': 0.015233492459150533}. Best is trial 91 with value: 1.4829907101138375.\n",
      "[I 2024-08-08 16:42:36,205] Trial 93 finished with value: 1.4136811977521548 and parameters: {'window': 189, 'condition': 0.010539650257191302}. Best is trial 91 with value: 1.4829907101138375.\n",
      "[I 2024-08-08 16:42:38,093] Trial 94 finished with value: 1.318541551876216 and parameters: {'window': 184, 'condition': 0.015441262816823634}. Best is trial 91 with value: 1.4829907101138375.\n",
      "[I 2024-08-08 16:42:39,966] Trial 95 finished with value: 1.3414086326456887 and parameters: {'window': 180, 'condition': 0.012367766743149693}. Best is trial 91 with value: 1.4829907101138375.\n",
      "[I 2024-08-08 16:42:42,223] Trial 96 finished with value: 1.3869967246540724 and parameters: {'window': 187, 'condition': 0.018180875670548484}. Best is trial 91 with value: 1.4829907101138375.\n",
      "[I 2024-08-08 16:42:44,177] Trial 97 finished with value: 1.385148912208999 and parameters: {'window': 200, 'condition': 0.02386634955924361}. Best is trial 91 with value: 1.4829907101138375.\n",
      "[I 2024-08-08 16:42:46,262] Trial 98 finished with value: 1.4763025444248126 and parameters: {'window': 191, 'condition': 0.015451431245616052}. Best is trial 91 with value: 1.4829907101138375.\n",
      "[I 2024-08-08 16:42:48,142] Trial 99 finished with value: 1.199962104821532 and parameters: {'window': 205, 'condition': 0.01530438767994298}. Best is trial 91 with value: 1.4829907101138375.\n"
     ]
    },
    {
     "name": "stdout",
     "output_type": "stream",
     "text": [
      "Best params: {'window': 191, 'condition': 0.010046511629468253}\n",
      "Best Sharpe ratio: 1.48\n"
     ]
    }
   ],
   "source": [
    "import optuna\n",
    "\n",
    "def objective(trial):\n",
    "    window = trial.suggest_int('window', 100, 252)\n",
    "    # rolling_window = trial.suggest_int('rolling_window', 2, 30)\n",
    "    condition = trial.suggest_float('condition', 0.01, 0.1)\n",
    "    order_matrix = orders(stock_universe_train, window=window, condition=condition)\n",
    "    pnl_matrix = calculate_pnl(order_matrix, stock_universe_train)\n",
    "    universe_pnl = pnl_matrix.sum(axis=1)\n",
    "    sharpe, max_dd = perf_metrics(universe_pnl)\n",
    "    return sharpe\n",
    "\n",
    "study = optuna.create_study(direction='maximize')\n",
    "study.optimize(objective, n_trials=100)\n",
    "\n",
    "print(f'Best params: {study.best_params}')\n",
    "print(f'Best Sharpe ratio: {study.best_value:.2f}')"
   ]
  },
  {
   "cell_type": "code",
   "execution_count": 59,
   "metadata": {},
   "outputs": [
    {
     "name": "stdout",
     "output_type": "stream",
     "text": [
      "Sharpe ratio: 1.48\n",
      "Max drawdown: 7.81%\n"
     ]
    },
    {
     "data": {
      "image/png": "[encoded data removed]",
      "text/plain": [
       "<Figure size 640x480 with 1 Axes>"
      ]
     },
     "metadata": {},
     "output_type": "display_data"
    }
   ],
   "source": [
    "order_matrix = orders(stock_universe_train, window=study.best_params[\"window\"], condition=study.best_params[\"condition\"])\n",
    "pnl_matrix = calculate_pnl(order_matrix, stock_universe_train)\n",
    "universe_pnl = pnl_matrix.sum(axis=1)\n",
    "universe_pnl.cumsum().plot()\n",
    "sharpe, max_dd = perf_metrics(universe_pnl) \n",
    "print(f\"Sharpe ratio: {sharpe:.2f}\")\n",
    "print(f\"Max drawdown: {max_dd:.2f}%\")"
   ]
  },
  {
   "cell_type": "markdown",
   "metadata": {},
   "source": [
    "## OS backtest"
   ]
  },
  {
   "cell_type": "code",
   "execution_count": 60,
   "metadata": {},
   "outputs": [
    {
     "name": "stdout",
     "output_type": "stream",
     "text": [
      "Sharpe ratio: 1.16\n",
      "Max drawdown: 37.13%\n"
     ]
    },
    {
     "data": {
      "image/png": "[encoded data removed]",
      "text/plain": [
       "<Figure size 640x480 with 1 Axes>"
      ]
     },
     "metadata": {},
     "output_type": "display_data"
    }
   ],
   "source": [
    "order_matrix = orders(stock_universe_test, window=study.best_params[\"window\"], condition=study.best_params[\"condition\"])\n",
    "pnl_matrix = calculate_pnl(order_matrix, stock_universe_test)\n",
    "universe_pnl = pnl_matrix.sum(axis=1)\n",
    "universe_pnl.cumsum().plot()\n",
    "sharpe, max_dd = perf_metrics(universe_pnl) \n",
    "print(f\"Sharpe ratio: {sharpe:.2f}\") \n",
    "print(f\"Max drawdown: {max_dd:.2f}%\")"
   ]
  },
  {
   "cell_type": "code",
   "execution_count": null,
   "metadata": {},
   "outputs": [],
   "source": []
  }
 ],
 "metadata": {
  "kernelspec": {
   "display_name": "qntdev",
   "language": "python",
   "name": "python3"
  },
  "language_info": {
   "codemirror_mode": {
    "name": "ipython",
    "version": 3
   },
   "file_extension": ".py",
   "mimetype": "text/x-python",
   "name": "python",
   "nbconvert_exporter": "python",
   "pygments_lexer": "ipython3",
   "version": "3.10.14"
  }
 },
 "nbformat": 4,
 "nbformat_minor": 2
}
