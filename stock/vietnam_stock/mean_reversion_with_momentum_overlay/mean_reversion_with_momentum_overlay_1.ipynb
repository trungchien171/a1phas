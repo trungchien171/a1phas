{
 "cells": [
  {
   "cell_type": "markdown",
   "metadata": {},
   "source": [
    "## Get data"
   ]
  },
  {
   "cell_type": "code",
   "execution_count": 1,
   "metadata": {},
   "outputs": [],
   "source": [
    "import glob\n",
    "import pandas as pd\n",
    "import os\n",
    "import numpy as np\n",
    "import matplotlib.pyplot as plt\n",
    "from datetime import timedelta, datetime, timezone\n",
    "from vnstock3 import Vnstock\n",
    "import requests"
   ]
  },
  {
   "cell_type": "code",
   "execution_count": 2,
   "metadata": {},
   "outputs": [],
   "source": [
    "stock_list = []\n",
    "volume_list = []\n",
    "\n",
    "for i in glob.glob(r'D:\\Quantitative_Research\\H-Tech\\vnstock_data\\*.csv'):\n",
    "    stocks = pd.read_csv(i).set_index('time')['close'].reset_index()\n",
    "    volume = pd.read_csv(i).set_index('time')['volume'].reset_index()\n",
    "    stocks.columns = ['time', i[-7:-3]]\n",
    "    volume.columns = ['time', i[-7:-3]]\n",
    "    stock_list.append(stocks.set_index('time'))\n",
    "    volume_list.append(volume.set_index('time'))\n",
    "\n",
    "stock_universe_price = pd.concat(stock_list, axis = 1).sort_index()\n",
    "stock_universe_vol = pd.concat(volume_list, axis = 1).sort_index()"
   ]
  },
  {
   "cell_type": "markdown",
   "metadata": {},
   "source": [
    "## Data handling"
   ]
  },
  {
   "cell_type": "code",
   "execution_count": 3,
   "metadata": {},
   "outputs": [],
   "source": [
    "stock_universe_price.rename(columns=lambda x: x[:-1] if x != 'time' else x, inplace=True)\n",
    "stock_universe_price.index = pd.to_datetime(stock_universe_price.index)\n",
    "stock_universe_vol.rename(columns=lambda x: x[:-1] if x != 'time' else x, inplace=True)\n",
    "stock_universe_vol.index = pd.to_datetime(stock_universe_vol.index)"
   ]
  },
  {
   "cell_type": "markdown",
   "metadata": {},
   "source": [
    "## Get industry"
   ]
  },
  {
   "cell_type": "markdown",
   "metadata": {},
   "source": [
    "Get all valid industries from VN stock market that have more than 3 companies"
   ]
  },
  {
   "cell_type": "code",
   "execution_count": 4,
   "metadata": {},
   "outputs": [
    {
     "name": "stderr",
     "output_type": "stream",
     "text": [
      "2024-08-08 15:19:31,267 - vnstock3.common.vnstock - INFO - Mã chứng khoán không được chỉ định, chương trình mặc định sử dụng VN30F1M\n",
      "2024-08-08 15:19:31,294 - vnstock3.common.data.data_explorer - WARNING - Thông tin niêm yết & giao dịch sẽ được truy xuất từ TCBS\n"
     ]
    },
    {
     "name": "stdout",
     "output_type": "stream",
     "text": [
      "Valid industries: ['Construction & Materials', 'Real Estate Investment & Services', 'Industrial Transportation', 'Food Producers', 'Gas, Water & Multi-utilities', 'Chemicals', 'Personal Goods', 'Support Services', 'Electricity', 'Travel & Leisure', 'Pharmaceuticals & Biotechnology', 'Industrial Metals & Mining', 'Mining', 'Beverages', 'Financial Services', 'Media', 'Industrial Engineering', 'General Industrials', 'Banks', 'General Retailers', 'Electronic & Electrical Equipment', 'Forestry & Paper', 'Automobiles & Parts', 'Technology Hardware & Equipment', 'Software & Computer Services', 'Nonlife Insurance', 'Health Care Equipment & Services', 'Oil Equipment, Services & Distribution', 'Household Goods & Home Construction', 'Fixed Line Telecommunications', 'Food & Drug Retailers', 'Tobacco', 'Leisure Goods', 'Mobile Telecommunications', 'Oil & Gas Producers']\n"
     ]
    }
   ],
   "source": [
    "stock = Vnstock().stock()\n",
    "industries = stock.listing.symbols_by_industries()\n",
    "industry_counts = industries['en_icb_name3'].value_counts()\n",
    "valid_industries = industry_counts[industry_counts >= 3].index.tolist()\n",
    "\n",
    "print(f\"Valid industries: {valid_industries}\")\n",
    "\n",
    "valid_industries = list(set(valid_industries))"
   ]
  },
  {
   "cell_type": "markdown",
   "metadata": {},
   "source": [
    "## Specify universe by Industry"
   ]
  },
  {
   "cell_type": "markdown",
   "metadata": {},
   "source": [
    "Nonlife Insurance sector (Bảo hiểm phi nhân thọ)"
   ]
  },
  {
   "cell_type": "code",
   "execution_count": 5,
   "metadata": {},
   "outputs": [
    {
     "data": {
      "text/html": [
       "<div>\n",
       "<style scoped>\n",
       "    .dataframe tbody tr th:only-of-type {\n",
       "        vertical-align: middle;\n",
       "    }\n",
       "\n",
       "    .dataframe tbody tr th {\n",
       "        vertical-align: top;\n",
       "    }\n",
       "\n",
       "    .dataframe thead th {\n",
       "        text-align: right;\n",
       "    }\n",
       "</style>\n",
       "<table border=\"1\" class=\"dataframe\">\n",
       "  <thead>\n",
       "    <tr style=\"text-align: right;\">\n",
       "      <th></th>\n",
       "      <th>BHI</th>\n",
       "      <th>PTI</th>\n",
       "      <th>PVI</th>\n",
       "      <th>PGI</th>\n",
       "      <th>PRE</th>\n",
       "      <th>MIG</th>\n",
       "      <th>BIC</th>\n",
       "      <th>BMI</th>\n",
       "      <th>ABI</th>\n",
       "      <th>BLI</th>\n",
       "      <th>AIC</th>\n",
       "      <th>VNR</th>\n",
       "    </tr>\n",
       "    <tr>\n",
       "      <th>date</th>\n",
       "      <th></th>\n",
       "      <th></th>\n",
       "      <th></th>\n",
       "      <th></th>\n",
       "      <th></th>\n",
       "      <th></th>\n",
       "      <th></th>\n",
       "      <th></th>\n",
       "      <th></th>\n",
       "      <th></th>\n",
       "      <th></th>\n",
       "      <th></th>\n",
       "    </tr>\n",
       "  </thead>\n",
       "  <tbody>\n",
       "    <tr>\n",
       "      <th>2013-01-02</th>\n",
       "      <td>0.0</td>\n",
       "      <td>6.03</td>\n",
       "      <td>7.94</td>\n",
       "      <td>3.48</td>\n",
       "      <td>0.0</td>\n",
       "      <td>0.00</td>\n",
       "      <td>4.36</td>\n",
       "      <td>2.75</td>\n",
       "      <td>1.77</td>\n",
       "      <td>0.0</td>\n",
       "      <td>0.0</td>\n",
       "      <td>4.34</td>\n",
       "    </tr>\n",
       "    <tr>\n",
       "      <th>2013-01-03</th>\n",
       "      <td>0.0</td>\n",
       "      <td>5.45</td>\n",
       "      <td>7.84</td>\n",
       "      <td>3.33</td>\n",
       "      <td>0.0</td>\n",
       "      <td>0.00</td>\n",
       "      <td>4.19</td>\n",
       "      <td>2.79</td>\n",
       "      <td>1.77</td>\n",
       "      <td>0.0</td>\n",
       "      <td>0.0</td>\n",
       "      <td>4.24</td>\n",
       "    </tr>\n",
       "    <tr>\n",
       "      <th>2013-01-04</th>\n",
       "      <td>0.0</td>\n",
       "      <td>5.45</td>\n",
       "      <td>7.84</td>\n",
       "      <td>3.48</td>\n",
       "      <td>0.0</td>\n",
       "      <td>0.00</td>\n",
       "      <td>4.30</td>\n",
       "      <td>2.75</td>\n",
       "      <td>1.84</td>\n",
       "      <td>0.0</td>\n",
       "      <td>0.0</td>\n",
       "      <td>4.46</td>\n",
       "    </tr>\n",
       "    <tr>\n",
       "      <th>2013-01-07</th>\n",
       "      <td>0.0</td>\n",
       "      <td>5.45</td>\n",
       "      <td>7.89</td>\n",
       "      <td>3.33</td>\n",
       "      <td>0.0</td>\n",
       "      <td>0.00</td>\n",
       "      <td>4.24</td>\n",
       "      <td>2.86</td>\n",
       "      <td>1.91</td>\n",
       "      <td>0.0</td>\n",
       "      <td>0.0</td>\n",
       "      <td>4.27</td>\n",
       "    </tr>\n",
       "    <tr>\n",
       "      <th>2013-01-08</th>\n",
       "      <td>0.0</td>\n",
       "      <td>5.74</td>\n",
       "      <td>7.99</td>\n",
       "      <td>3.37</td>\n",
       "      <td>0.0</td>\n",
       "      <td>0.00</td>\n",
       "      <td>4.36</td>\n",
       "      <td>2.89</td>\n",
       "      <td>1.80</td>\n",
       "      <td>0.0</td>\n",
       "      <td>0.0</td>\n",
       "      <td>4.34</td>\n",
       "    </tr>\n",
       "    <tr>\n",
       "      <th>...</th>\n",
       "      <td>...</td>\n",
       "      <td>...</td>\n",
       "      <td>...</td>\n",
       "      <td>...</td>\n",
       "      <td>...</td>\n",
       "      <td>...</td>\n",
       "      <td>...</td>\n",
       "      <td>...</td>\n",
       "      <td>...</td>\n",
       "      <td>...</td>\n",
       "      <td>...</td>\n",
       "      <td>...</td>\n",
       "    </tr>\n",
       "    <tr>\n",
       "      <th>2024-07-18</th>\n",
       "      <td>12.5</td>\n",
       "      <td>30.10</td>\n",
       "      <td>55.40</td>\n",
       "      <td>23.80</td>\n",
       "      <td>19.0</td>\n",
       "      <td>21.50</td>\n",
       "      <td>37.90</td>\n",
       "      <td>25.95</td>\n",
       "      <td>26.47</td>\n",
       "      <td>11.8</td>\n",
       "      <td>12.2</td>\n",
       "      <td>25.80</td>\n",
       "    </tr>\n",
       "    <tr>\n",
       "      <th>2024-07-19</th>\n",
       "      <td>12.5</td>\n",
       "      <td>30.10</td>\n",
       "      <td>56.00</td>\n",
       "      <td>23.80</td>\n",
       "      <td>19.0</td>\n",
       "      <td>20.95</td>\n",
       "      <td>38.65</td>\n",
       "      <td>25.20</td>\n",
       "      <td>26.28</td>\n",
       "      <td>11.7</td>\n",
       "      <td>12.2</td>\n",
       "      <td>25.80</td>\n",
       "    </tr>\n",
       "    <tr>\n",
       "      <th>2024-07-22</th>\n",
       "      <td>12.5</td>\n",
       "      <td>30.20</td>\n",
       "      <td>54.70</td>\n",
       "      <td>23.80</td>\n",
       "      <td>19.0</td>\n",
       "      <td>19.50</td>\n",
       "      <td>36.10</td>\n",
       "      <td>24.10</td>\n",
       "      <td>26.09</td>\n",
       "      <td>11.8</td>\n",
       "      <td>12.0</td>\n",
       "      <td>25.80</td>\n",
       "    </tr>\n",
       "    <tr>\n",
       "      <th>2024-07-23</th>\n",
       "      <td>12.5</td>\n",
       "      <td>29.70</td>\n",
       "      <td>53.70</td>\n",
       "      <td>24.50</td>\n",
       "      <td>19.0</td>\n",
       "      <td>18.65</td>\n",
       "      <td>35.50</td>\n",
       "      <td>24.05</td>\n",
       "      <td>25.80</td>\n",
       "      <td>11.6</td>\n",
       "      <td>12.0</td>\n",
       "      <td>25.70</td>\n",
       "    </tr>\n",
       "    <tr>\n",
       "      <th>2024-07-24</th>\n",
       "      <td>12.5</td>\n",
       "      <td>29.70</td>\n",
       "      <td>53.70</td>\n",
       "      <td>24.50</td>\n",
       "      <td>19.0</td>\n",
       "      <td>19.95</td>\n",
       "      <td>37.30</td>\n",
       "      <td>24.20</td>\n",
       "      <td>26.00</td>\n",
       "      <td>11.8</td>\n",
       "      <td>11.4</td>\n",
       "      <td>25.70</td>\n",
       "    </tr>\n",
       "  </tbody>\n",
       "</table>\n",
       "<p>2884 rows × 12 columns</p>\n",
       "</div>"
      ],
      "text/plain": [
       "             BHI    PTI    PVI    PGI   PRE    MIG    BIC    BMI    ABI   BLI  \\\n",
       "date                                                                            \n",
       "2013-01-02   0.0   6.03   7.94   3.48   0.0   0.00   4.36   2.75   1.77   0.0   \n",
       "2013-01-03   0.0   5.45   7.84   3.33   0.0   0.00   4.19   2.79   1.77   0.0   \n",
       "2013-01-04   0.0   5.45   7.84   3.48   0.0   0.00   4.30   2.75   1.84   0.0   \n",
       "2013-01-07   0.0   5.45   7.89   3.33   0.0   0.00   4.24   2.86   1.91   0.0   \n",
       "2013-01-08   0.0   5.74   7.99   3.37   0.0   0.00   4.36   2.89   1.80   0.0   \n",
       "...          ...    ...    ...    ...   ...    ...    ...    ...    ...   ...   \n",
       "2024-07-18  12.5  30.10  55.40  23.80  19.0  21.50  37.90  25.95  26.47  11.8   \n",
       "2024-07-19  12.5  30.10  56.00  23.80  19.0  20.95  38.65  25.20  26.28  11.7   \n",
       "2024-07-22  12.5  30.20  54.70  23.80  19.0  19.50  36.10  24.10  26.09  11.8   \n",
       "2024-07-23  12.5  29.70  53.70  24.50  19.0  18.65  35.50  24.05  25.80  11.6   \n",
       "2024-07-24  12.5  29.70  53.70  24.50  19.0  19.95  37.30  24.20  26.00  11.8   \n",
       "\n",
       "             AIC    VNR  \n",
       "date                     \n",
       "2013-01-02   0.0   4.34  \n",
       "2013-01-03   0.0   4.24  \n",
       "2013-01-04   0.0   4.46  \n",
       "2013-01-07   0.0   4.27  \n",
       "2013-01-08   0.0   4.34  \n",
       "...          ...    ...  \n",
       "2024-07-18  12.2  25.80  \n",
       "2024-07-19  12.2  25.80  \n",
       "2024-07-22  12.0  25.80  \n",
       "2024-07-23  12.0  25.70  \n",
       "2024-07-24  11.4  25.70  \n",
       "\n",
       "[2884 rows x 12 columns]"
      ]
     },
     "execution_count": 5,
     "metadata": {},
     "output_type": "execute_result"
    }
   ],
   "source": [
    "ticker_list = industries[industries['en_icb_name3'] == 'Nonlife Insurance']['symbol'].tolist()\n",
    "available_tickers = [ticker for ticker in ticker_list if ticker in stock_universe_price.columns]\n",
    "stock_universe = stock_universe_price[available_tickers]\n",
    "stock_universe = stock_universe.ffill().fillna(0)\n",
    "stock_universe.index = pd.to_datetime(stock_universe.index)\n",
    "stock_universe.index = stock_universe.index.date\n",
    "stock_universe.index.name = 'date'\n",
    "stock_universe"
   ]
  },
  {
   "cell_type": "code",
   "execution_count": 6,
   "metadata": {},
   "outputs": [],
   "source": [
    "ticker_list = industries[industries['en_icb_name3'] == 'Nonlife Insurance']['symbol'].tolist()\n",
    "available_tickers = [ticker for ticker in ticker_list if ticker in stock_universe_vol.columns]\n",
    "vol = stock_universe_vol[available_tickers]\n",
    "vol = vol.fillna(0)\n",
    "vol.index = pd.to_datetime(vol.index)\n",
    "vol.index = vol.index.date\n",
    "vol.index.name = 'date'"
   ]
  },
  {
   "cell_type": "markdown",
   "metadata": {},
   "source": [
    "## Most liquid tickers"
   ]
  },
  {
   "cell_type": "markdown",
   "metadata": {},
   "source": [
    "Get top 5 most liquid tickers. Already checked for valid companies info, survivorship bias,..."
   ]
  },
  {
   "cell_type": "code",
   "execution_count": 7,
   "metadata": {},
   "outputs": [
    {
     "data": {
      "text/html": [
       "<div>\n",
       "<style scoped>\n",
       "    .dataframe tbody tr th:only-of-type {\n",
       "        vertical-align: middle;\n",
       "    }\n",
       "\n",
       "    .dataframe tbody tr th {\n",
       "        vertical-align: top;\n",
       "    }\n",
       "\n",
       "    .dataframe thead th {\n",
       "        text-align: right;\n",
       "    }\n",
       "</style>\n",
       "<table border=\"1\" class=\"dataframe\">\n",
       "  <thead>\n",
       "    <tr style=\"text-align: right;\">\n",
       "      <th></th>\n",
       "      <th>MIG</th>\n",
       "      <th>BMI</th>\n",
       "      <th>PVI</th>\n",
       "      <th>BIC</th>\n",
       "      <th>VNR</th>\n",
       "    </tr>\n",
       "    <tr>\n",
       "      <th>date</th>\n",
       "      <th></th>\n",
       "      <th></th>\n",
       "      <th></th>\n",
       "      <th></th>\n",
       "      <th></th>\n",
       "    </tr>\n",
       "  </thead>\n",
       "  <tbody>\n",
       "    <tr>\n",
       "      <th>2013-01-02</th>\n",
       "      <td>0.00</td>\n",
       "      <td>2.75</td>\n",
       "      <td>7.94</td>\n",
       "      <td>4.36</td>\n",
       "      <td>4.34</td>\n",
       "    </tr>\n",
       "    <tr>\n",
       "      <th>2013-01-03</th>\n",
       "      <td>0.00</td>\n",
       "      <td>2.79</td>\n",
       "      <td>7.84</td>\n",
       "      <td>4.19</td>\n",
       "      <td>4.24</td>\n",
       "    </tr>\n",
       "    <tr>\n",
       "      <th>2013-01-04</th>\n",
       "      <td>0.00</td>\n",
       "      <td>2.75</td>\n",
       "      <td>7.84</td>\n",
       "      <td>4.30</td>\n",
       "      <td>4.46</td>\n",
       "    </tr>\n",
       "    <tr>\n",
       "      <th>2013-01-07</th>\n",
       "      <td>0.00</td>\n",
       "      <td>2.86</td>\n",
       "      <td>7.89</td>\n",
       "      <td>4.24</td>\n",
       "      <td>4.27</td>\n",
       "    </tr>\n",
       "    <tr>\n",
       "      <th>2013-01-08</th>\n",
       "      <td>0.00</td>\n",
       "      <td>2.89</td>\n",
       "      <td>7.99</td>\n",
       "      <td>4.36</td>\n",
       "      <td>4.34</td>\n",
       "    </tr>\n",
       "    <tr>\n",
       "      <th>...</th>\n",
       "      <td>...</td>\n",
       "      <td>...</td>\n",
       "      <td>...</td>\n",
       "      <td>...</td>\n",
       "      <td>...</td>\n",
       "    </tr>\n",
       "    <tr>\n",
       "      <th>2024-07-18</th>\n",
       "      <td>21.50</td>\n",
       "      <td>25.95</td>\n",
       "      <td>55.40</td>\n",
       "      <td>37.90</td>\n",
       "      <td>25.80</td>\n",
       "    </tr>\n",
       "    <tr>\n",
       "      <th>2024-07-19</th>\n",
       "      <td>20.95</td>\n",
       "      <td>25.20</td>\n",
       "      <td>56.00</td>\n",
       "      <td>38.65</td>\n",
       "      <td>25.80</td>\n",
       "    </tr>\n",
       "    <tr>\n",
       "      <th>2024-07-22</th>\n",
       "      <td>19.50</td>\n",
       "      <td>24.10</td>\n",
       "      <td>54.70</td>\n",
       "      <td>36.10</td>\n",
       "      <td>25.80</td>\n",
       "    </tr>\n",
       "    <tr>\n",
       "      <th>2024-07-23</th>\n",
       "      <td>18.65</td>\n",
       "      <td>24.05</td>\n",
       "      <td>53.70</td>\n",
       "      <td>35.50</td>\n",
       "      <td>25.70</td>\n",
       "    </tr>\n",
       "    <tr>\n",
       "      <th>2024-07-24</th>\n",
       "      <td>19.95</td>\n",
       "      <td>24.20</td>\n",
       "      <td>53.70</td>\n",
       "      <td>37.30</td>\n",
       "      <td>25.70</td>\n",
       "    </tr>\n",
       "  </tbody>\n",
       "</table>\n",
       "<p>2884 rows × 5 columns</p>\n",
       "</div>"
      ],
      "text/plain": [
       "              MIG    BMI    PVI    BIC    VNR\n",
       "date                                         \n",
       "2013-01-02   0.00   2.75   7.94   4.36   4.34\n",
       "2013-01-03   0.00   2.79   7.84   4.19   4.24\n",
       "2013-01-04   0.00   2.75   7.84   4.30   4.46\n",
       "2013-01-07   0.00   2.86   7.89   4.24   4.27\n",
       "2013-01-08   0.00   2.89   7.99   4.36   4.34\n",
       "...           ...    ...    ...    ...    ...\n",
       "2024-07-18  21.50  25.95  55.40  37.90  25.80\n",
       "2024-07-19  20.95  25.20  56.00  38.65  25.80\n",
       "2024-07-22  19.50  24.10  54.70  36.10  25.80\n",
       "2024-07-23  18.65  24.05  53.70  35.50  25.70\n",
       "2024-07-24  19.95  24.20  53.70  37.30  25.70\n",
       "\n",
       "[2884 rows x 5 columns]"
      ]
     },
     "execution_count": 7,
     "metadata": {},
     "output_type": "execute_result"
    }
   ],
   "source": [
    "average_volume = vol.mean()\n",
    "sorted_tickers = average_volume.sort_values(ascending=False)\n",
    "top_3_tickers = sorted_tickers.head(5).index.tolist()\n",
    "# top_3_tickers = [ticker for ticker in top_3_tickers if ticker != 'ITS' and ticker != 'SRF']\n",
    "stock_universe = stock_universe[top_3_tickers]\n",
    "stock_universe"
   ]
  },
  {
   "cell_type": "markdown",
   "metadata": {},
   "source": [
    "## Train-test split"
   ]
  },
  {
   "cell_type": "code",
   "execution_count": 8,
   "metadata": {},
   "outputs": [],
   "source": [
    "stock_universe_train = stock_universe.iloc[:-504]\n",
    "stock_universe_test = stock_universe.iloc[-504:]"
   ]
  },
  {
   "cell_type": "markdown",
   "metadata": {},
   "source": [
    "## Mean-Reversion with Momentum Overlay"
   ]
  },
  {
   "cell_type": "markdown",
   "metadata": {},
   "source": [
    "Strategy explanation:\n",
    "- Calculates day-to-day price change in percentage\n",
    "- Calculates the price difference over delta_window and also shifts the price data to compare the current price with the price from delta days\n",
    "\n",
    "Signal generation:\n",
    "- Part 1: The first part of the signal is based on the idea of mean reversion, where the strategy anticipates that if a price has moved significantly in one direction, it might reverse in the short term. This is captured by the negative sign applied to the price difference.\n",
    "- Part 2: The second part involves summing up the returns over a longer period (252 days) and ranking these returns. This introduces a momentum factor, where the strategy considers the overall trend of the asset's returns over a year. Assets with higher cumulative returns are given a higher rank, and this rank influences the signal.\n",
    "- Final signals: The signal from Part 1 is multiplied by the ranked value from Part 2, creating a final alpha signal."
   ]
  },
  {
   "cell_type": "code",
   "execution_count": 9,
   "metadata": {},
   "outputs": [],
   "source": [
    "def alpha_signal(df, delta_window=7):\n",
    "    returns = df.pct_change()\n",
    "    delay_close = df.shift(delta_window)\n",
    "    delta_close = df.diff(delta_window)\n",
    "    alpha_df = pd.DataFrame(0, index=df.index, columns=df.columns)\n",
    "    \n",
    "    for col in df.columns:\n",
    "        part1 = -1 * np.sign((df[col] - delay_close[col]) + delta_close[col])\n",
    "        part2 = 1 + (returns[col].rolling(window=252).sum())\n",
    "        rank_part2 = part2.rank(axis=0)\n",
    "        alpha_df[col] = part1 * (1 + rank_part2)\n",
    "\n",
    "    return alpha_df"
   ]
  },
  {
   "cell_type": "markdown",
   "metadata": {},
   "source": [
    "## Order matrix (adjust T + 3)"
   ]
  },
  {
   "cell_type": "markdown",
   "metadata": {},
   "source": [
    "Order placing logic:\n",
    "\n",
    "**Buy signal**: If the alpha_signal is greater than the threshold\n",
    "- If the last order == -1 and the stock is sold less than 3 days, do not place a new order.\n",
    "- If the last order == 1, continue holding\n",
    "- If no previous order, place a buy order\n",
    "- If the last order == -1 and the stock is sold 3 or more days, place a buy order\n",
    "\n",
    "**Sell signal**:  If the alpha_signal is less than the threshold and the stock holding period is 3 days or more, place a sell order\n",
    "\n",
    "**Neutral**: \n",
    "- If the last order == 1 but the signal is not buy, hold the position (0). \n",
    "- If the last order == -1 but the signal is not sell, hold the position (0)."
   ]
  },
  {
   "cell_type": "code",
   "execution_count": 10,
   "metadata": {},
   "outputs": [],
   "source": [
    "def orders(df, delta_window=7):\n",
    "    ords = pd.DataFrame(0, index=df.index, columns=df.columns)\n",
    "    alpha_df = alpha_signal(df, delta_window=delta_window)\n",
    "    for col in df.columns:\n",
    "        last_order = 0\n",
    "        holding_period = 0\n",
    "        days_since_last_sell = 0\n",
    "        for i in range(1, len(df)):\n",
    "            if df[col].iloc[i - 1] > 0 and df[col].iloc[i] > 0:\n",
    "                bull = alpha_df[col].iloc[i - 1] > 0\n",
    "                bear = alpha_df[col].iloc[i - 1] < 0\n",
    "                \n",
    "                # print(f\"Index {i}, Col {col}, Bull {bull}, Bear {bear}, Last Order {last_order}, Holding Period {holding_period}, Days Since Last Sell {days_since_last_sell}\")\n",
    "                \n",
    "                if bull:\n",
    "                    if last_order == -1 and days_since_last_sell < 3:\n",
    "                        ords[col].iloc[i] = 0\n",
    "                        days_since_last_sell += 1\n",
    "                    elif last_order == 1:\n",
    "                        ords[col].iloc[i] = 0\n",
    "                        holding_period += 1\n",
    "                    elif last_order == 0:\n",
    "                        ords[col].iloc[i] = 1\n",
    "                        last_order = 1\n",
    "                        days_since_last_sell = 0\n",
    "                        holding_period += 1\n",
    "                    else:\n",
    "                        ords[col].iloc[i] = 1\n",
    "                        last_order = 1\n",
    "                        days_since_last_sell = 0\n",
    "                        holding_period += 1\n",
    "                elif bear and holding_period >= 3:\n",
    "                    ords[col].iloc[i] = -1\n",
    "                    last_order = -1\n",
    "                    holding_period = 0\n",
    "                    days_since_last_sell += 1\n",
    "                elif last_order == 1 and not bull:\n",
    "                    ords[col].iloc[i] = 0\n",
    "                    last_order = 1\n",
    "                    holding_period += 1\n",
    "                elif last_order == -1 and not bear:\n",
    "                    ords[col].iloc[i] = 0\n",
    "                    last_order = -1\n",
    "                    days_since_last_sell += 1\n",
    "\n",
    "    return ords"
   ]
  },
  {
   "cell_type": "markdown",
   "metadata": {},
   "source": [
    "## PnL calculation (equal-weight portfolio)"
   ]
  },
  {
   "cell_type": "code",
   "execution_count": 11,
   "metadata": {},
   "outputs": [],
   "source": [
    "def calculate_pnl(order_matrix, stock_universe, capital=1000000000):\n",
    "    num_stocks = len(order_matrix.columns)\n",
    "    capital_per_stock = capital / num_stocks\n",
    "    pnl_matrix = pd.DataFrame(np.zeros_like(order_matrix.values), index=order_matrix.index, columns=order_matrix.columns)\n",
    "    \n",
    "    for stock in order_matrix.columns:\n",
    "        buy_prices = []\n",
    "        holding_days = []\n",
    "\n",
    "        for i in range(len(order_matrix)):\n",
    "            order_signal = order_matrix.iloc[i, order_matrix.columns.get_loc(stock)]\n",
    "            price = stock_universe.iloc[i, stock_universe.columns.get_loc(stock)]\n",
    "            \n",
    "            if order_signal == 1:\n",
    "                # Buy with capital allocation\n",
    "                buy_price = price\n",
    "                shares_to_buy = capital_per_stock / buy_price\n",
    "                buy_prices.append(buy_price)\n",
    "                holding_days.append(1)\n",
    "                      \n",
    "            elif order_signal == -1:\n",
    "                sell_indices = [idx for idx, days in enumerate(holding_days) if days >= 3]\n",
    "                if sell_indices:\n",
    "                    pnl = round(sum((price - buy_prices[idx]) * (capital_per_stock / buy_prices[idx]) for idx in sell_indices), 2)\n",
    "                    pnl_matrix.iloc[i, pnl_matrix.columns.get_loc(stock)] += pnl\n",
    "                    buy_prices = [buy_prices[idx] for idx in range(len(buy_prices)) if idx not in sell_indices]\n",
    "                    holding_days = [days for idx, days in enumerate(holding_days) if idx not in sell_indices]\n",
    "            else:\n",
    "                if len(holding_days) >= 1:\n",
    "                    holding_days = [x + 1 for x in holding_days]\n",
    "                    \n",
    "    return pnl_matrix\n"
   ]
  },
  {
   "cell_type": "markdown",
   "metadata": {},
   "source": [
    "## Performance matrix"
   ]
  },
  {
   "cell_type": "code",
   "execution_count": 12,
   "metadata": {},
   "outputs": [],
   "source": [
    "def perf_metrics(daily_pnl_series):\n",
    "    sharpe = daily_pnl_series.mean() / daily_pnl_series.std() * np.sqrt(252)\n",
    "    cum_ret = daily_pnl_series.cumsum()\n",
    "    running_max = cum_ret.cummax()\n",
    "    drawdown = running_max - cum_ret\n",
    "    if cum_ret.max() == 0:\n",
    "        max_dd = np.nan\n",
    "    else:\n",
    "        max_dd = (drawdown.max() / cum_ret.max()) * 100\n",
    "    return sharpe, max_dd"
   ]
  },
  {
   "cell_type": "markdown",
   "metadata": {},
   "source": [
    "## IS backtest"
   ]
  },
  {
   "cell_type": "code",
   "execution_count": 13,
   "metadata": {},
   "outputs": [
    {
     "name": "stdout",
     "output_type": "stream",
     "text": [
      "Sharpe ratio: 1.10\n",
      "Max drawdown: 14.78%\n"
     ]
    },
    {
     "data": {
      "image/png": "[encoded data removed]",
      "text/plain": [
       "<Figure size 640x480 with 1 Axes>"
      ]
     },
     "metadata": {},
     "output_type": "display_data"
    }
   ],
   "source": [
    "order_matrix = orders(stock_universe_train)\n",
    "pnl_matrix = calculate_pnl(order_matrix, stock_universe_train)\n",
    "universe_pnl = pnl_matrix.sum(axis=1)\n",
    "universe_pnl.cumsum().plot()\n",
    "sharpe, max_dd = perf_metrics(universe_pnl) \n",
    "print(f\"Sharpe ratio: {sharpe:.2f}\")\n",
    "print(f\"Max drawdown: {max_dd:.2f}%\")"
   ]
  },
  {
   "cell_type": "markdown",
   "metadata": {},
   "source": [
    "## Hyperparameters tuning"
   ]
  },
  {
   "cell_type": "code",
   "execution_count": 14,
   "metadata": {},
   "outputs": [
    {
     "name": "stderr",
     "output_type": "stream",
     "text": [
      "c:\\Users\\HP\\anaconda3\\envs\\qntdev\\lib\\site-packages\\tqdm\\auto.py:21: TqdmWarning: IProgress not found. Please update jupyter and ipywidgets. See https://ipywidgets.readthedocs.io/en/stable/user_install.html\n",
      "  from .autonotebook import tqdm as notebook_tqdm\n",
      "[I 2024-08-08 15:19:34,957] A new study created in memory with name: no-name-b220fc7e-34b3-4c9e-b45d-f683b20bbcac\n",
      "[I 2024-08-08 15:19:37,108] Trial 0 finished with value: 1.335041598893303 and parameters: {'delta_window': 4}. Best is trial 0 with value: 1.335041598893303.\n",
      "[I 2024-08-08 15:19:38,827] Trial 1 finished with value: 0.6406122747223215 and parameters: {'delta_window': 18}. Best is trial 0 with value: 1.335041598893303.\n",
      "[I 2024-08-08 15:19:40,675] Trial 2 finished with value: 1.0555610867669631 and parameters: {'delta_window': 5}. Best is trial 0 with value: 1.335041598893303.\n",
      "[I 2024-08-08 15:19:42,538] Trial 3 finished with value: 1.1239793222419772 and parameters: {'delta_window': 9}. Best is trial 0 with value: 1.335041598893303.\n",
      "[I 2024-08-08 15:19:44,251] Trial 4 finished with value: 0.6083415563680376 and parameters: {'delta_window': 16}. Best is trial 0 with value: 1.335041598893303.\n",
      "[I 2024-08-08 15:19:45,997] Trial 5 finished with value: 0.8793929540227071 and parameters: {'delta_window': 12}. Best is trial 0 with value: 1.335041598893303.\n",
      "[I 2024-08-08 15:19:47,929] Trial 6 finished with value: 0.761170917332783 and parameters: {'delta_window': 20}. Best is trial 0 with value: 1.335041598893303.\n",
      "[I 2024-08-08 15:19:49,817] Trial 7 finished with value: 0.6083415563680376 and parameters: {'delta_window': 16}. Best is trial 0 with value: 1.335041598893303.\n",
      "[I 2024-08-08 15:19:51,611] Trial 8 finished with value: 0.8793929540227071 and parameters: {'delta_window': 12}. Best is trial 0 with value: 1.335041598893303.\n",
      "[I 2024-08-08 15:19:53,612] Trial 9 finished with value: 1.0826873067426395 and parameters: {'delta_window': 2}. Best is trial 0 with value: 1.335041598893303.\n",
      "[I 2024-08-08 15:19:55,645] Trial 10 finished with value: 1.0974949015165918 and parameters: {'delta_window': 7}. Best is trial 0 with value: 1.335041598893303.\n",
      "[I 2024-08-08 15:19:57,766] Trial 11 finished with value: 1.0619067812380556 and parameters: {'delta_window': 8}. Best is trial 0 with value: 1.335041598893303.\n",
      "[I 2024-08-08 15:19:59,976] Trial 12 finished with value: 1.0826873067426395 and parameters: {'delta_window': 2}. Best is trial 0 with value: 1.335041598893303.\n",
      "[I 2024-08-08 15:20:01,957] Trial 13 finished with value: 1.0619067812380556 and parameters: {'delta_window': 8}. Best is trial 0 with value: 1.335041598893303.\n",
      "[I 2024-08-08 15:20:04,093] Trial 14 finished with value: 1.0555610867669631 and parameters: {'delta_window': 5}. Best is trial 0 with value: 1.335041598893303.\n",
      "[I 2024-08-08 15:20:06,071] Trial 15 finished with value: 0.7791803191807429 and parameters: {'delta_window': 10}. Best is trial 0 with value: 1.335041598893303.\n",
      "[I 2024-08-08 15:20:08,013] Trial 16 finished with value: 1.0555610867669631 and parameters: {'delta_window': 5}. Best is trial 0 with value: 1.335041598893303.\n",
      "[I 2024-08-08 15:20:09,890] Trial 17 finished with value: 0.7791803191807429 and parameters: {'delta_window': 10}. Best is trial 0 with value: 1.335041598893303.\n",
      "[I 2024-08-08 15:20:11,809] Trial 18 finished with value: 0.7377554095137451 and parameters: {'delta_window': 14}. Best is trial 0 with value: 1.335041598893303.\n",
      "[I 2024-08-08 15:20:13,751] Trial 19 finished with value: 1.335041598893303 and parameters: {'delta_window': 4}. Best is trial 0 with value: 1.335041598893303.\n",
      "[I 2024-08-08 15:20:15,687] Trial 20 finished with value: 1.335041598893303 and parameters: {'delta_window': 4}. Best is trial 0 with value: 1.335041598893303.\n",
      "[I 2024-08-08 15:20:17,637] Trial 21 finished with value: 1.335041598893303 and parameters: {'delta_window': 4}. Best is trial 0 with value: 1.335041598893303.\n",
      "[I 2024-08-08 15:20:19,657] Trial 22 finished with value: 1.1400734473864131 and parameters: {'delta_window': 3}. Best is trial 0 with value: 1.335041598893303.\n",
      "[I 2024-08-08 15:20:21,550] Trial 23 finished with value: 0.8298101753843344 and parameters: {'delta_window': 6}. Best is trial 0 with value: 1.335041598893303.\n",
      "[I 2024-08-08 15:20:23,613] Trial 24 finished with value: 1.1400734473864131 and parameters: {'delta_window': 3}. Best is trial 0 with value: 1.335041598893303.\n",
      "[I 2024-08-08 15:20:25,504] Trial 25 finished with value: 1.0974949015165918 and parameters: {'delta_window': 7}. Best is trial 0 with value: 1.335041598893303.\n",
      "[I 2024-08-08 15:20:27,404] Trial 26 finished with value: 1.335041598893303 and parameters: {'delta_window': 4}. Best is trial 0 with value: 1.335041598893303.\n",
      "[I 2024-08-08 15:20:29,430] Trial 27 finished with value: 0.8298101753843344 and parameters: {'delta_window': 6}. Best is trial 0 with value: 1.335041598893303.\n",
      "[I 2024-08-08 15:20:31,896] Trial 28 finished with value: 1.1400734473864131 and parameters: {'delta_window': 3}. Best is trial 0 with value: 1.335041598893303.\n",
      "[I 2024-08-08 15:20:34,053] Trial 29 finished with value: 1.0826873067426395 and parameters: {'delta_window': 2}. Best is trial 0 with value: 1.335041598893303.\n",
      "[I 2024-08-08 15:20:36,204] Trial 30 finished with value: 1.0974949015165918 and parameters: {'delta_window': 7}. Best is trial 0 with value: 1.335041598893303.\n",
      "[I 2024-08-08 15:20:38,395] Trial 31 finished with value: 1.335041598893303 and parameters: {'delta_window': 4}. Best is trial 0 with value: 1.335041598893303.\n",
      "[I 2024-08-08 15:20:40,567] Trial 32 finished with value: 1.335041598893303 and parameters: {'delta_window': 4}. Best is trial 0 with value: 1.335041598893303.\n",
      "[I 2024-08-08 15:20:42,509] Trial 33 finished with value: 0.8298101753843344 and parameters: {'delta_window': 6}. Best is trial 0 with value: 1.335041598893303.\n",
      "[I 2024-08-08 15:20:44,391] Trial 34 finished with value: 1.0555610867669631 and parameters: {'delta_window': 5}. Best is trial 0 with value: 1.335041598893303.\n",
      "[I 2024-08-08 15:20:46,335] Trial 35 finished with value: 1.335041598893303 and parameters: {'delta_window': 4}. Best is trial 0 with value: 1.335041598893303.\n",
      "[I 2024-08-08 15:20:48,150] Trial 36 finished with value: 1.1239793222419772 and parameters: {'delta_window': 9}. Best is trial 0 with value: 1.335041598893303.\n",
      "[I 2024-08-08 15:20:50,065] Trial 37 finished with value: 1.1400734473864131 and parameters: {'delta_window': 3}. Best is trial 0 with value: 1.335041598893303.\n",
      "[I 2024-08-08 15:20:51,893] Trial 38 finished with value: 0.7125101271549111 and parameters: {'delta_window': 19}. Best is trial 0 with value: 1.335041598893303.\n",
      "[I 2024-08-08 15:20:53,857] Trial 39 finished with value: 0.7377554095137451 and parameters: {'delta_window': 14}. Best is trial 0 with value: 1.335041598893303.\n",
      "[I 2024-08-08 15:20:56,153] Trial 40 finished with value: 0.8298101753843344 and parameters: {'delta_window': 6}. Best is trial 0 with value: 1.335041598893303.\n",
      "[I 2024-08-08 15:20:58,427] Trial 41 finished with value: 1.335041598893303 and parameters: {'delta_window': 4}. Best is trial 0 with value: 1.335041598893303.\n",
      "[I 2024-08-08 15:21:01,379] Trial 42 finished with value: 1.0555610867669631 and parameters: {'delta_window': 5}. Best is trial 0 with value: 1.335041598893303.\n",
      "[I 2024-08-08 15:21:04,063] Trial 43 finished with value: 1.0826873067426395 and parameters: {'delta_window': 2}. Best is trial 0 with value: 1.335041598893303.\n",
      "[I 2024-08-08 15:21:06,121] Trial 44 finished with value: 1.335041598893303 and parameters: {'delta_window': 4}. Best is trial 0 with value: 1.335041598893303.\n",
      "[I 2024-08-08 15:21:08,032] Trial 45 finished with value: 1.0619067812380556 and parameters: {'delta_window': 8}. Best is trial 0 with value: 1.335041598893303.\n",
      "[I 2024-08-08 15:21:10,100] Trial 46 finished with value: 1.1400734473864131 and parameters: {'delta_window': 3}. Best is trial 0 with value: 1.335041598893303.\n",
      "[I 2024-08-08 15:21:11,923] Trial 47 finished with value: 1.0974949015165918 and parameters: {'delta_window': 7}. Best is trial 0 with value: 1.335041598893303.\n",
      "[I 2024-08-08 15:21:13,882] Trial 48 finished with value: 1.0555610867669631 and parameters: {'delta_window': 5}. Best is trial 0 with value: 1.335041598893303.\n",
      "[I 2024-08-08 15:21:16,147] Trial 49 finished with value: 0.7023557586324481 and parameters: {'delta_window': 17}. Best is trial 0 with value: 1.335041598893303.\n"
     ]
    },
    {
     "name": "stdout",
     "output_type": "stream",
     "text": [
      "Best params: {'delta_window': 4}\n",
      "Best Sharpe ratio: 1.34\n"
     ]
    }
   ],
   "source": [
    "import optuna\n",
    "\n",
    "def objective(trial):\n",
    "    delta_window = trial.suggest_int('delta_window', 2, 20)\n",
    "    # rolling_window = trial.suggest_int('rolling_window', 2, 30)\n",
    "    # n = trial.suggest_float('n', 0.1, 1)\n",
    "    order_matrix = orders(stock_universe_train, delta_window=delta_window)\n",
    "    pnl_matrix = calculate_pnl(order_matrix, stock_universe_train)\n",
    "    universe_pnl = pnl_matrix.sum(axis=1)\n",
    "    sharpe, max_dd = perf_metrics(universe_pnl)\n",
    "    return sharpe\n",
    "\n",
    "study = optuna.create_study(direction='maximize')\n",
    "study.optimize(objective, n_trials=50)\n",
    "\n",
    "print(f'Best params: {study.best_params}')\n",
    "print(f'Best Sharpe ratio: {study.best_value:.2f}')"
   ]
  },
  {
   "cell_type": "code",
   "execution_count": 15,
   "metadata": {},
   "outputs": [
    {
     "name": "stdout",
     "output_type": "stream",
     "text": [
      "Sharpe ratio: 1.34\n",
      "Max drawdown: 15.12%\n"
     ]
    },
    {
     "data": {
      "image/png": "[encoded data removed]",
      "text/plain": [
       "<Figure size 640x480 with 1 Axes>"
      ]
     },
     "metadata": {},
     "output_type": "display_data"
    }
   ],
   "source": [
    "order_matrix = orders(stock_universe_train, delta_window=study.best_params[\"delta_window\"])\n",
    "pnl_matrix = calculate_pnl(order_matrix, stock_universe_train)\n",
    "universe_pnl = pnl_matrix.sum(axis=1)\n",
    "universe_pnl.cumsum().plot()\n",
    "sharpe, max_dd = perf_metrics(universe_pnl) \n",
    "print(f\"Sharpe ratio: {sharpe:.2f}\")\n",
    "print(f\"Max drawdown: {max_dd:.2f}%\")"
   ]
  },
  {
   "cell_type": "markdown",
   "metadata": {},
   "source": [
    "## OS backtest"
   ]
  },
  {
   "cell_type": "code",
   "execution_count": 16,
   "metadata": {},
   "outputs": [
    {
     "name": "stdout",
     "output_type": "stream",
     "text": [
      "Sharpe ratio: 1.04\n",
      "Max drawdown: 48.92%\n"
     ]
    },
    {
     "data": {
      "image/png": "[encoded data removed]",
      "text/plain": [
       "<Figure size 640x480 with 1 Axes>"
      ]
     },
     "metadata": {},
     "output_type": "display_data"
    }
   ],
   "source": [
    "order_matrix = orders(stock_universe_test, study.best_params[\"delta_window\"])\n",
    "pnl_matrix = calculate_pnl(order_matrix, stock_universe_test)\n",
    "universe_pnl = pnl_matrix.sum(axis=1)\n",
    "universe_pnl.cumsum().plot()\n",
    "sharpe, max_dd = perf_metrics(universe_pnl) \n",
    "print(f\"Sharpe ratio: {sharpe:.2f}\") \n",
    "print(f\"Max drawdown: {max_dd:.2f}%\")"
   ]
  },
  {
   "cell_type": "code",
   "execution_count": null,
   "metadata": {},
   "outputs": [],
   "source": []
  }
 ],
 "metadata": {
  "kernelspec": {
   "display_name": "qntdev",
   "language": "python",
   "name": "python3"
  },
  "language_info": {
   "codemirror_mode": {
    "name": "ipython",
    "version": 3
   },
   "file_extension": ".py",
   "mimetype": "text/x-python",
   "name": "python",
   "nbconvert_exporter": "python",
   "pygments_lexer": "ipython3",
   "version": "3.10.14"
  }
 },
 "nbformat": 4,
 "nbformat_minor": 2
}
