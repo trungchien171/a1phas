{
 "cells": [
  {
   "cell_type": "markdown",
   "metadata": {},
   "source": [
    "## Get data"
   ]
  },
  {
   "cell_type": "code",
   "execution_count": 1,
   "metadata": {},
   "outputs": [],
   "source": [
    "import glob\n",
    "import pandas as pd\n",
    "import os\n",
    "import numpy as np\n",
    "import matplotlib.pyplot as plt\n",
    "from datetime import timedelta, datetime, timezone\n",
    "from vnstock3 import Vnstock\n",
    "import requests"
   ]
  },
  {
   "cell_type": "code",
   "execution_count": 2,
   "metadata": {},
   "outputs": [],
   "source": [
    "stock_list = []\n",
    "volume_list = []\n",
    "\n",
    "for i in glob.glob(r'D:\\Quantitative_Research\\H-Tech\\vnstock_data\\*.csv'):\n",
    "    stocks = pd.read_csv(i).set_index('time')['close'].reset_index()\n",
    "    volume = pd.read_csv(i).set_index('time')['volume'].reset_index()\n",
    "    stocks.columns = ['time', i[-7:-3]]\n",
    "    volume.columns = ['time', i[-7:-3]]\n",
    "    stock_list.append(stocks.set_index('time'))\n",
    "    volume_list.append(volume.set_index('time'))\n",
    "\n",
    "stock_universe_price = pd.concat(stock_list, axis = 1).sort_index()\n",
    "stock_universe_vol = pd.concat(volume_list, axis = 1).sort_index()"
   ]
  },
  {
   "cell_type": "markdown",
   "metadata": {},
   "source": [
    "## Data handling"
   ]
  },
  {
   "cell_type": "code",
   "execution_count": 3,
   "metadata": {},
   "outputs": [],
   "source": [
    "stock_universe_price.rename(columns=lambda x: x[:-1] if x != 'time' else x, inplace=True)\n",
    "stock_universe_price.index = pd.to_datetime(stock_universe_price.index)\n",
    "stock_universe_vol.rename(columns=lambda x: x[:-1] if x != 'time' else x, inplace=True)\n",
    "stock_universe_vol.index = pd.to_datetime(stock_universe_vol.index)"
   ]
  },
  {
   "cell_type": "markdown",
   "metadata": {},
   "source": [
    "## Get industry"
   ]
  },
  {
   "cell_type": "markdown",
   "metadata": {},
   "source": [
    "Get all valid industries from VN stock market that have more than 3 companies"
   ]
  },
  {
   "cell_type": "code",
   "execution_count": 4,
   "metadata": {},
   "outputs": [
    {
     "name": "stderr",
     "output_type": "stream",
     "text": [
      "2024-08-08 15:22:27,600 - vnstock3.common.vnstock - INFO - Mã chứng khoán không được chỉ định, chương trình mặc định sử dụng VN30F1M\n",
      "2024-08-08 15:22:27,657 - vnstock3.common.data.data_explorer - WARNING - Thông tin niêm yết & giao dịch sẽ được truy xuất từ TCBS\n"
     ]
    },
    {
     "name": "stdout",
     "output_type": "stream",
     "text": [
      "Valid industries: ['Construction & Materials', 'Real Estate Investment & Services', 'Industrial Transportation', 'Food Producers', 'Gas, Water & Multi-utilities', 'Chemicals', 'Personal Goods', 'Support Services', 'Electricity', 'Travel & Leisure', 'Pharmaceuticals & Biotechnology', 'Industrial Metals & Mining', 'Mining', 'Beverages', 'Financial Services', 'Media', 'Industrial Engineering', 'General Industrials', 'Banks', 'General Retailers', 'Electronic & Electrical Equipment', 'Forestry & Paper', 'Automobiles & Parts', 'Technology Hardware & Equipment', 'Software & Computer Services', 'Nonlife Insurance', 'Health Care Equipment & Services', 'Oil Equipment, Services & Distribution', 'Household Goods & Home Construction', 'Fixed Line Telecommunications', 'Food & Drug Retailers', 'Tobacco', 'Leisure Goods', 'Mobile Telecommunications', 'Oil & Gas Producers']\n"
     ]
    }
   ],
   "source": [
    "stock = Vnstock().stock()\n",
    "industries = stock.listing.symbols_by_industries()\n",
    "industry_counts = industries['en_icb_name3'].value_counts()\n",
    "valid_industries = industry_counts[industry_counts >= 3].index.tolist()\n",
    "\n",
    "print(f\"Valid industries: {valid_industries}\")\n",
    "\n",
    "valid_industries = list(set(valid_industries))"
   ]
  },
  {
   "cell_type": "markdown",
   "metadata": {},
   "source": [
    "## Specify universe by Industry"
   ]
  },
  {
   "cell_type": "markdown",
   "metadata": {},
   "source": [
    "Nonlife Insurance sector (Bảo hiểm phi nhân thọ)"
   ]
  },
  {
   "cell_type": "code",
   "execution_count": 47,
   "metadata": {},
   "outputs": [
    {
     "data": {
      "text/html": [
       "<div>\n",
       "<style scoped>\n",
       "    .dataframe tbody tr th:only-of-type {\n",
       "        vertical-align: middle;\n",
       "    }\n",
       "\n",
       "    .dataframe tbody tr th {\n",
       "        vertical-align: top;\n",
       "    }\n",
       "\n",
       "    .dataframe thead th {\n",
       "        text-align: right;\n",
       "    }\n",
       "</style>\n",
       "<table border=\"1\" class=\"dataframe\">\n",
       "  <thead>\n",
       "    <tr style=\"text-align: right;\">\n",
       "      <th></th>\n",
       "      <th>CKV</th>\n",
       "      <th>POT</th>\n",
       "      <th>ELC</th>\n",
       "      <th>VTC</th>\n",
       "      <th>VTE</th>\n",
       "      <th>SMT</th>\n",
       "      <th>KST</th>\n",
       "      <th>ST8</th>\n",
       "      <th>LTC</th>\n",
       "      <th>PMJ</th>\n",
       "      <th>ITD</th>\n",
       "      <th>SAM</th>\n",
       "      <th>ONE</th>\n",
       "      <th>PMT</th>\n",
       "      <th>VEC</th>\n",
       "      <th>VIE</th>\n",
       "    </tr>\n",
       "    <tr>\n",
       "      <th>date</th>\n",
       "      <th></th>\n",
       "      <th></th>\n",
       "      <th></th>\n",
       "      <th></th>\n",
       "      <th></th>\n",
       "      <th></th>\n",
       "      <th></th>\n",
       "      <th></th>\n",
       "      <th></th>\n",
       "      <th></th>\n",
       "      <th></th>\n",
       "      <th></th>\n",
       "      <th></th>\n",
       "      <th></th>\n",
       "      <th></th>\n",
       "      <th></th>\n",
       "    </tr>\n",
       "  </thead>\n",
       "  <tbody>\n",
       "    <tr>\n",
       "      <th>2013-01-02</th>\n",
       "      <td>3.72</td>\n",
       "      <td>6.14</td>\n",
       "      <td>9.73</td>\n",
       "      <td>1.59</td>\n",
       "      <td>0.0</td>\n",
       "      <td>2.33</td>\n",
       "      <td>0.72</td>\n",
       "      <td>2.02</td>\n",
       "      <td>3.85</td>\n",
       "      <td>0.0</td>\n",
       "      <td>1.77</td>\n",
       "      <td>3.14</td>\n",
       "      <td>2.45</td>\n",
       "      <td>19.86</td>\n",
       "      <td>0.0</td>\n",
       "      <td>0.0</td>\n",
       "    </tr>\n",
       "    <tr>\n",
       "      <th>2013-01-03</th>\n",
       "      <td>3.49</td>\n",
       "      <td>5.75</td>\n",
       "      <td>9.73</td>\n",
       "      <td>1.59</td>\n",
       "      <td>0.0</td>\n",
       "      <td>2.33</td>\n",
       "      <td>0.72</td>\n",
       "      <td>2.05</td>\n",
       "      <td>3.78</td>\n",
       "      <td>0.0</td>\n",
       "      <td>1.84</td>\n",
       "      <td>3.01</td>\n",
       "      <td>2.42</td>\n",
       "      <td>19.86</td>\n",
       "      <td>0.0</td>\n",
       "      <td>0.0</td>\n",
       "    </tr>\n",
       "    <tr>\n",
       "      <th>2013-01-04</th>\n",
       "      <td>3.72</td>\n",
       "      <td>5.75</td>\n",
       "      <td>9.73</td>\n",
       "      <td>1.59</td>\n",
       "      <td>0.0</td>\n",
       "      <td>2.41</td>\n",
       "      <td>0.72</td>\n",
       "      <td>2.05</td>\n",
       "      <td>3.78</td>\n",
       "      <td>0.0</td>\n",
       "      <td>1.87</td>\n",
       "      <td>3.05</td>\n",
       "      <td>2.42</td>\n",
       "      <td>19.86</td>\n",
       "      <td>0.0</td>\n",
       "      <td>0.0</td>\n",
       "    </tr>\n",
       "    <tr>\n",
       "      <th>2013-01-07</th>\n",
       "      <td>3.72</td>\n",
       "      <td>5.36</td>\n",
       "      <td>10.14</td>\n",
       "      <td>1.59</td>\n",
       "      <td>0.0</td>\n",
       "      <td>2.41</td>\n",
       "      <td>0.72</td>\n",
       "      <td>2.02</td>\n",
       "      <td>3.78</td>\n",
       "      <td>0.0</td>\n",
       "      <td>1.81</td>\n",
       "      <td>3.01</td>\n",
       "      <td>2.42</td>\n",
       "      <td>19.86</td>\n",
       "      <td>0.0</td>\n",
       "      <td>0.0</td>\n",
       "    </tr>\n",
       "    <tr>\n",
       "      <th>2013-01-08</th>\n",
       "      <td>3.77</td>\n",
       "      <td>5.42</td>\n",
       "      <td>10.55</td>\n",
       "      <td>1.59</td>\n",
       "      <td>0.0</td>\n",
       "      <td>2.50</td>\n",
       "      <td>0.72</td>\n",
       "      <td>2.03</td>\n",
       "      <td>4.01</td>\n",
       "      <td>0.0</td>\n",
       "      <td>1.84</td>\n",
       "      <td>3.14</td>\n",
       "      <td>2.42</td>\n",
       "      <td>19.86</td>\n",
       "      <td>0.0</td>\n",
       "      <td>0.0</td>\n",
       "    </tr>\n",
       "    <tr>\n",
       "      <th>...</th>\n",
       "      <td>...</td>\n",
       "      <td>...</td>\n",
       "      <td>...</td>\n",
       "      <td>...</td>\n",
       "      <td>...</td>\n",
       "      <td>...</td>\n",
       "      <td>...</td>\n",
       "      <td>...</td>\n",
       "      <td>...</td>\n",
       "      <td>...</td>\n",
       "      <td>...</td>\n",
       "      <td>...</td>\n",
       "      <td>...</td>\n",
       "      <td>...</td>\n",
       "      <td>...</td>\n",
       "      <td>...</td>\n",
       "    </tr>\n",
       "    <tr>\n",
       "      <th>2024-07-18</th>\n",
       "      <td>15.40</td>\n",
       "      <td>17.60</td>\n",
       "      <td>24.10</td>\n",
       "      <td>10.10</td>\n",
       "      <td>5.5</td>\n",
       "      <td>5.50</td>\n",
       "      <td>14.00</td>\n",
       "      <td>8.32</td>\n",
       "      <td>7.40</td>\n",
       "      <td>20.7</td>\n",
       "      <td>15.35</td>\n",
       "      <td>6.80</td>\n",
       "      <td>6.30</td>\n",
       "      <td>7.90</td>\n",
       "      <td>8.4</td>\n",
       "      <td>6.8</td>\n",
       "    </tr>\n",
       "    <tr>\n",
       "      <th>2024-07-19</th>\n",
       "      <td>15.40</td>\n",
       "      <td>17.60</td>\n",
       "      <td>23.50</td>\n",
       "      <td>9.90</td>\n",
       "      <td>5.5</td>\n",
       "      <td>5.50</td>\n",
       "      <td>13.80</td>\n",
       "      <td>8.09</td>\n",
       "      <td>6.80</td>\n",
       "      <td>20.7</td>\n",
       "      <td>14.60</td>\n",
       "      <td>6.72</td>\n",
       "      <td>6.20</td>\n",
       "      <td>7.90</td>\n",
       "      <td>8.4</td>\n",
       "      <td>6.8</td>\n",
       "    </tr>\n",
       "    <tr>\n",
       "      <th>2024-07-22</th>\n",
       "      <td>15.12</td>\n",
       "      <td>18.30</td>\n",
       "      <td>23.10</td>\n",
       "      <td>9.30</td>\n",
       "      <td>4.7</td>\n",
       "      <td>5.40</td>\n",
       "      <td>13.80</td>\n",
       "      <td>7.84</td>\n",
       "      <td>6.80</td>\n",
       "      <td>20.7</td>\n",
       "      <td>13.95</td>\n",
       "      <td>6.48</td>\n",
       "      <td>6.00</td>\n",
       "      <td>7.90</td>\n",
       "      <td>8.3</td>\n",
       "      <td>6.8</td>\n",
       "    </tr>\n",
       "    <tr>\n",
       "      <th>2024-07-23</th>\n",
       "      <td>15.12</td>\n",
       "      <td>18.30</td>\n",
       "      <td>22.60</td>\n",
       "      <td>9.30</td>\n",
       "      <td>4.7</td>\n",
       "      <td>5.30</td>\n",
       "      <td>14.20</td>\n",
       "      <td>7.82</td>\n",
       "      <td>6.80</td>\n",
       "      <td>20.7</td>\n",
       "      <td>14.90</td>\n",
       "      <td>6.47</td>\n",
       "      <td>5.80</td>\n",
       "      <td>7.90</td>\n",
       "      <td>8.2</td>\n",
       "      <td>6.8</td>\n",
       "    </tr>\n",
       "    <tr>\n",
       "      <th>2024-07-24</th>\n",
       "      <td>15.40</td>\n",
       "      <td>19.00</td>\n",
       "      <td>23.50</td>\n",
       "      <td>9.00</td>\n",
       "      <td>4.7</td>\n",
       "      <td>5.30</td>\n",
       "      <td>14.20</td>\n",
       "      <td>7.72</td>\n",
       "      <td>6.80</td>\n",
       "      <td>20.7</td>\n",
       "      <td>14.60</td>\n",
       "      <td>6.35</td>\n",
       "      <td>5.70</td>\n",
       "      <td>7.90</td>\n",
       "      <td>8.2</td>\n",
       "      <td>6.8</td>\n",
       "    </tr>\n",
       "  </tbody>\n",
       "</table>\n",
       "<p>2884 rows × 16 columns</p>\n",
       "</div>"
      ],
      "text/plain": [
       "              CKV    POT    ELC    VTC  VTE   SMT    KST   ST8   LTC   PMJ  \\\n",
       "date                                                                         \n",
       "2013-01-02   3.72   6.14   9.73   1.59  0.0  2.33   0.72  2.02  3.85   0.0   \n",
       "2013-01-03   3.49   5.75   9.73   1.59  0.0  2.33   0.72  2.05  3.78   0.0   \n",
       "2013-01-04   3.72   5.75   9.73   1.59  0.0  2.41   0.72  2.05  3.78   0.0   \n",
       "2013-01-07   3.72   5.36  10.14   1.59  0.0  2.41   0.72  2.02  3.78   0.0   \n",
       "2013-01-08   3.77   5.42  10.55   1.59  0.0  2.50   0.72  2.03  4.01   0.0   \n",
       "...           ...    ...    ...    ...  ...   ...    ...   ...   ...   ...   \n",
       "2024-07-18  15.40  17.60  24.10  10.10  5.5  5.50  14.00  8.32  7.40  20.7   \n",
       "2024-07-19  15.40  17.60  23.50   9.90  5.5  5.50  13.80  8.09  6.80  20.7   \n",
       "2024-07-22  15.12  18.30  23.10   9.30  4.7  5.40  13.80  7.84  6.80  20.7   \n",
       "2024-07-23  15.12  18.30  22.60   9.30  4.7  5.30  14.20  7.82  6.80  20.7   \n",
       "2024-07-24  15.40  19.00  23.50   9.00  4.7  5.30  14.20  7.72  6.80  20.7   \n",
       "\n",
       "              ITD   SAM   ONE    PMT  VEC  VIE  \n",
       "date                                            \n",
       "2013-01-02   1.77  3.14  2.45  19.86  0.0  0.0  \n",
       "2013-01-03   1.84  3.01  2.42  19.86  0.0  0.0  \n",
       "2013-01-04   1.87  3.05  2.42  19.86  0.0  0.0  \n",
       "2013-01-07   1.81  3.01  2.42  19.86  0.0  0.0  \n",
       "2013-01-08   1.84  3.14  2.42  19.86  0.0  0.0  \n",
       "...           ...   ...   ...    ...  ...  ...  \n",
       "2024-07-18  15.35  6.80  6.30   7.90  8.4  6.8  \n",
       "2024-07-19  14.60  6.72  6.20   7.90  8.4  6.8  \n",
       "2024-07-22  13.95  6.48  6.00   7.90  8.3  6.8  \n",
       "2024-07-23  14.90  6.47  5.80   7.90  8.2  6.8  \n",
       "2024-07-24  14.60  6.35  5.70   7.90  8.2  6.8  \n",
       "\n",
       "[2884 rows x 16 columns]"
      ]
     },
     "execution_count": 47,
     "metadata": {},
     "output_type": "execute_result"
    }
   ],
   "source": [
    "ticker_list = industries[industries['en_icb_name3'] == 'Technology Hardware & Equipment']['symbol'].tolist()\n",
    "available_tickers = [ticker for ticker in ticker_list if ticker in stock_universe_price.columns]\n",
    "stock_universe = stock_universe_price[available_tickers]\n",
    "stock_universe = stock_universe.ffill().fillna(0)\n",
    "stock_universe.index = pd.to_datetime(stock_universe.index)\n",
    "stock_universe.index = stock_universe.index.date\n",
    "stock_universe.index.name = 'date'\n",
    "stock_universe"
   ]
  },
  {
   "cell_type": "code",
   "execution_count": 48,
   "metadata": {},
   "outputs": [],
   "source": [
    "ticker_list = industries[industries['en_icb_name3'] == 'Technology Hardware & Equipment']['symbol'].tolist()\n",
    "available_tickers = [ticker for ticker in ticker_list if ticker in stock_universe_vol.columns]\n",
    "vol = stock_universe_vol[available_tickers]\n",
    "vol = vol.fillna(0)\n",
    "vol.index = pd.to_datetime(vol.index)\n",
    "vol.index = vol.index.date\n",
    "vol.index.name = 'date'"
   ]
  },
  {
   "cell_type": "markdown",
   "metadata": {},
   "source": [
    "## Most liquid tickers"
   ]
  },
  {
   "cell_type": "markdown",
   "metadata": {},
   "source": [
    "Get top 5 most liquid tickers. Already checked for valid companies info, survivorship bias,..."
   ]
  },
  {
   "cell_type": "code",
   "execution_count": 49,
   "metadata": {},
   "outputs": [
    {
     "data": {
      "text/html": [
       "<div>\n",
       "<style scoped>\n",
       "    .dataframe tbody tr th:only-of-type {\n",
       "        vertical-align: middle;\n",
       "    }\n",
       "\n",
       "    .dataframe tbody tr th {\n",
       "        vertical-align: top;\n",
       "    }\n",
       "\n",
       "    .dataframe thead th {\n",
       "        text-align: right;\n",
       "    }\n",
       "</style>\n",
       "<table border=\"1\" class=\"dataframe\">\n",
       "  <thead>\n",
       "    <tr style=\"text-align: right;\">\n",
       "      <th></th>\n",
       "      <th>SAM</th>\n",
       "      <th>ELC</th>\n",
       "      <th>ITD</th>\n",
       "      <th>ST8</th>\n",
       "      <th>ONE</th>\n",
       "    </tr>\n",
       "    <tr>\n",
       "      <th>date</th>\n",
       "      <th></th>\n",
       "      <th></th>\n",
       "      <th></th>\n",
       "      <th></th>\n",
       "      <th></th>\n",
       "    </tr>\n",
       "  </thead>\n",
       "  <tbody>\n",
       "    <tr>\n",
       "      <th>2013-01-02</th>\n",
       "      <td>3.14</td>\n",
       "      <td>9.73</td>\n",
       "      <td>1.77</td>\n",
       "      <td>2.02</td>\n",
       "      <td>2.45</td>\n",
       "    </tr>\n",
       "    <tr>\n",
       "      <th>2013-01-03</th>\n",
       "      <td>3.01</td>\n",
       "      <td>9.73</td>\n",
       "      <td>1.84</td>\n",
       "      <td>2.05</td>\n",
       "      <td>2.42</td>\n",
       "    </tr>\n",
       "    <tr>\n",
       "      <th>2013-01-04</th>\n",
       "      <td>3.05</td>\n",
       "      <td>9.73</td>\n",
       "      <td>1.87</td>\n",
       "      <td>2.05</td>\n",
       "      <td>2.42</td>\n",
       "    </tr>\n",
       "    <tr>\n",
       "      <th>2013-01-07</th>\n",
       "      <td>3.01</td>\n",
       "      <td>10.14</td>\n",
       "      <td>1.81</td>\n",
       "      <td>2.02</td>\n",
       "      <td>2.42</td>\n",
       "    </tr>\n",
       "    <tr>\n",
       "      <th>2013-01-08</th>\n",
       "      <td>3.14</td>\n",
       "      <td>10.55</td>\n",
       "      <td>1.84</td>\n",
       "      <td>2.03</td>\n",
       "      <td>2.42</td>\n",
       "    </tr>\n",
       "    <tr>\n",
       "      <th>...</th>\n",
       "      <td>...</td>\n",
       "      <td>...</td>\n",
       "      <td>...</td>\n",
       "      <td>...</td>\n",
       "      <td>...</td>\n",
       "    </tr>\n",
       "    <tr>\n",
       "      <th>2024-07-18</th>\n",
       "      <td>6.80</td>\n",
       "      <td>24.10</td>\n",
       "      <td>15.35</td>\n",
       "      <td>8.32</td>\n",
       "      <td>6.30</td>\n",
       "    </tr>\n",
       "    <tr>\n",
       "      <th>2024-07-19</th>\n",
       "      <td>6.72</td>\n",
       "      <td>23.50</td>\n",
       "      <td>14.60</td>\n",
       "      <td>8.09</td>\n",
       "      <td>6.20</td>\n",
       "    </tr>\n",
       "    <tr>\n",
       "      <th>2024-07-22</th>\n",
       "      <td>6.48</td>\n",
       "      <td>23.10</td>\n",
       "      <td>13.95</td>\n",
       "      <td>7.84</td>\n",
       "      <td>6.00</td>\n",
       "    </tr>\n",
       "    <tr>\n",
       "      <th>2024-07-23</th>\n",
       "      <td>6.47</td>\n",
       "      <td>22.60</td>\n",
       "      <td>14.90</td>\n",
       "      <td>7.82</td>\n",
       "      <td>5.80</td>\n",
       "    </tr>\n",
       "    <tr>\n",
       "      <th>2024-07-24</th>\n",
       "      <td>6.35</td>\n",
       "      <td>23.50</td>\n",
       "      <td>14.60</td>\n",
       "      <td>7.72</td>\n",
       "      <td>5.70</td>\n",
       "    </tr>\n",
       "  </tbody>\n",
       "</table>\n",
       "<p>2884 rows × 5 columns</p>\n",
       "</div>"
      ],
      "text/plain": [
       "             SAM    ELC    ITD   ST8   ONE\n",
       "date                                      \n",
       "2013-01-02  3.14   9.73   1.77  2.02  2.45\n",
       "2013-01-03  3.01   9.73   1.84  2.05  2.42\n",
       "2013-01-04  3.05   9.73   1.87  2.05  2.42\n",
       "2013-01-07  3.01  10.14   1.81  2.02  2.42\n",
       "2013-01-08  3.14  10.55   1.84  2.03  2.42\n",
       "...          ...    ...    ...   ...   ...\n",
       "2024-07-18  6.80  24.10  15.35  8.32  6.30\n",
       "2024-07-19  6.72  23.50  14.60  8.09  6.20\n",
       "2024-07-22  6.48  23.10  13.95  7.84  6.00\n",
       "2024-07-23  6.47  22.60  14.90  7.82  5.80\n",
       "2024-07-24  6.35  23.50  14.60  7.72  5.70\n",
       "\n",
       "[2884 rows x 5 columns]"
      ]
     },
     "execution_count": 49,
     "metadata": {},
     "output_type": "execute_result"
    }
   ],
   "source": [
    "average_volume = vol.mean()\n",
    "sorted_tickers = average_volume.sort_values(ascending=False)\n",
    "top_3_tickers = sorted_tickers.head(5).index.tolist()\n",
    "# top_3_tickers = [ticker for ticker in top_3_tickers if ticker != 'GEE']\n",
    "stock_universe = stock_universe[top_3_tickers]\n",
    "stock_universe"
   ]
  },
  {
   "cell_type": "markdown",
   "metadata": {},
   "source": [
    "## Train-test split"
   ]
  },
  {
   "cell_type": "code",
   "execution_count": 50,
   "metadata": {},
   "outputs": [],
   "source": [
    "stock_universe_train = stock_universe.iloc[:-504]\n",
    "stock_universe_test = stock_universe.iloc[-504:]"
   ]
  },
  {
   "cell_type": "markdown",
   "metadata": {},
   "source": [
    "## Mean-Reversion with Momentum Overlay"
   ]
  },
  {
   "cell_type": "markdown",
   "metadata": {},
   "source": [
    "Strategy explanation:\n",
    "- Calculates day-to-day price change in percentage\n",
    "- Calculates the price difference over delta_window and also shifts the price data to compare the current price with the price from delta days\n",
    "\n",
    "Signal generation:\n",
    "- Part 1: The first part of the signal is based on the idea of mean reversion, where the strategy anticipates that if a price has moved significantly in one direction, it might reverse in the short term. This is captured by the negative sign applied to the price difference.\n",
    "- Part 2: The second part involves summing up the returns over a longer period (252 days) and ranking these returns. This introduces a momentum factor, where the strategy considers the overall trend of the asset's returns over a year. Assets with higher cumulative returns are given a higher rank, and this rank influences the signal.\n",
    "- Final signals: The signal from Part 1 is multiplied by the ranked value from Part 2, creating a final alpha signal."
   ]
  },
  {
   "cell_type": "code",
   "execution_count": 22,
   "metadata": {},
   "outputs": [],
   "source": [
    "def alpha_signal(df, delta_window=5):\n",
    "    returns = df.pct_change()\n",
    "    delay_close = df.shift(delta_window)\n",
    "    delta_close = df.diff(delta_window)\n",
    "    alpha_df = pd.DataFrame(0, index=df.index, columns=df.columns)\n",
    "    \n",
    "    for col in df.columns:\n",
    "        part1 = -1 * np.sign((df[col] - delay_close[col]) + delta_close[col])\n",
    "        part2 = 1 + (returns[col].rolling(window=252).sum())\n",
    "        rank_part2 = part2.rank(axis=0)\n",
    "        alpha_df[col] = part1 * (1 + rank_part2)\n",
    "\n",
    "    return alpha_df"
   ]
  },
  {
   "cell_type": "markdown",
   "metadata": {},
   "source": [
    "## Order matrix (adjust T + 3)"
   ]
  },
  {
   "cell_type": "markdown",
   "metadata": {},
   "source": [
    "Order placing logic:\n",
    "\n",
    "**Buy signal**: If the alpha_signal is greater than the threshold\n",
    "- If the last order == -1 and the stock is sold less than 3 days, do not place a new order.\n",
    "- If the last order == 1, continue holding\n",
    "- If no previous order, place a buy order\n",
    "- If the last order == -1 and the stock is sold 3 or more days, place a buy order\n",
    "\n",
    "**Sell signal**:  If the alpha_signal is less than the threshold and the stock holding period is 3 days or more, place a sell order\n",
    "\n",
    "**Neutral**: \n",
    "- If the last order == 1 but the signal is not buy, hold the position (0). \n",
    "- If the last order == -1 but the signal is not sell, hold the position (0)."
   ]
  },
  {
   "cell_type": "code",
   "execution_count": 36,
   "metadata": {},
   "outputs": [],
   "source": [
    "def orders(df, delta_window=6):\n",
    "    ords = pd.DataFrame(0, index=df.index, columns=df.columns)\n",
    "    alpha_df = alpha_signal(df, delta_window=delta_window)\n",
    "    for col in df.columns:\n",
    "        last_order = 0\n",
    "        holding_period = 0\n",
    "        days_since_last_sell = 0\n",
    "        for i in range(1, len(df)):\n",
    "            if df[col].iloc[i - 1] > 0 and df[col].iloc[i] > 0:\n",
    "                bull = alpha_df[col].iloc[i - 1] > 0\n",
    "                bear = alpha_df[col].iloc[i - 1] < 0\n",
    "                \n",
    "                # print(f\"Index {i}, Col {col}, Bull {bull}, Bear {bear}, Last Order {last_order}, Holding Period {holding_period}, Days Since Last Sell {days_since_last_sell}\")\n",
    "                \n",
    "                if bull:\n",
    "                    if last_order == -1 and days_since_last_sell < 3:\n",
    "                        ords[col].iloc[i] = 0\n",
    "                        days_since_last_sell += 1\n",
    "                    elif last_order == 1:\n",
    "                        ords[col].iloc[i] = 0\n",
    "                        holding_period += 1\n",
    "                    elif last_order == 0:\n",
    "                        ords[col].iloc[i] = 1\n",
    "                        last_order = 1\n",
    "                        days_since_last_sell = 0\n",
    "                        holding_period += 1\n",
    "                    else:\n",
    "                        ords[col].iloc[i] = 1\n",
    "                        last_order = 1\n",
    "                        days_since_last_sell = 0\n",
    "                        holding_period += 1\n",
    "                elif bear and holding_period >= 3:\n",
    "                    ords[col].iloc[i] = -1\n",
    "                    last_order = -1\n",
    "                    holding_period = 0\n",
    "                    days_since_last_sell += 1\n",
    "                elif last_order == 1 and not bull:\n",
    "                    ords[col].iloc[i] = 0\n",
    "                    last_order = 1\n",
    "                    holding_period += 1\n",
    "                elif last_order == -1 and not bear:\n",
    "                    ords[col].iloc[i] = 0\n",
    "                    last_order = -1\n",
    "                    days_since_last_sell += 1\n",
    "\n",
    "    return ords"
   ]
  },
  {
   "cell_type": "markdown",
   "metadata": {},
   "source": [
    "## PnL calculation (equal-weight portfolio)"
   ]
  },
  {
   "cell_type": "code",
   "execution_count": 12,
   "metadata": {},
   "outputs": [],
   "source": [
    "def calculate_pnl(order_matrix, stock_universe, capital=1000000000):\n",
    "    num_stocks = len(order_matrix.columns)\n",
    "    capital_per_stock = capital / num_stocks\n",
    "    pnl_matrix = pd.DataFrame(np.zeros_like(order_matrix.values), index=order_matrix.index, columns=order_matrix.columns)\n",
    "    \n",
    "    for stock in order_matrix.columns:\n",
    "        buy_prices = []\n",
    "        holding_days = []\n",
    "\n",
    "        for i in range(len(order_matrix)):\n",
    "            order_signal = order_matrix.iloc[i, order_matrix.columns.get_loc(stock)]\n",
    "            price = stock_universe.iloc[i, stock_universe.columns.get_loc(stock)]\n",
    "            \n",
    "            if order_signal == 1:\n",
    "                # Buy with capital allocation\n",
    "                buy_price = price\n",
    "                shares_to_buy = capital_per_stock / buy_price\n",
    "                buy_prices.append(buy_price)\n",
    "                holding_days.append(1)\n",
    "                      \n",
    "            elif order_signal == -1:\n",
    "                sell_indices = [idx for idx, days in enumerate(holding_days) if days >= 3]\n",
    "                if sell_indices:\n",
    "                    pnl = round(sum((price - buy_prices[idx]) * (capital_per_stock / buy_prices[idx]) for idx in sell_indices), 2)\n",
    "                    pnl_matrix.iloc[i, pnl_matrix.columns.get_loc(stock)] += pnl\n",
    "                    buy_prices = [buy_prices[idx] for idx in range(len(buy_prices)) if idx not in sell_indices]\n",
    "                    holding_days = [days for idx, days in enumerate(holding_days) if idx not in sell_indices]\n",
    "            else:\n",
    "                if len(holding_days) >= 1:\n",
    "                    holding_days = [x + 1 for x in holding_days]\n",
    "                    \n",
    "    return pnl_matrix\n"
   ]
  },
  {
   "cell_type": "markdown",
   "metadata": {},
   "source": [
    "## Performance matrix"
   ]
  },
  {
   "cell_type": "code",
   "execution_count": 13,
   "metadata": {},
   "outputs": [],
   "source": [
    "def perf_metrics(daily_pnl_series):\n",
    "    sharpe = daily_pnl_series.mean() / daily_pnl_series.std() * np.sqrt(252)\n",
    "    cum_ret = daily_pnl_series.cumsum()\n",
    "    running_max = cum_ret.cummax()\n",
    "    drawdown = running_max - cum_ret\n",
    "    if cum_ret.max() == 0:\n",
    "        max_dd = np.nan\n",
    "    else:\n",
    "        max_dd = (drawdown.max() / cum_ret.max()) * 100\n",
    "    return sharpe, max_dd"
   ]
  },
  {
   "cell_type": "markdown",
   "metadata": {},
   "source": [
    "## IS backtest"
   ]
  },
  {
   "cell_type": "code",
   "execution_count": 51,
   "metadata": {},
   "outputs": [
    {
     "name": "stdout",
     "output_type": "stream",
     "text": [
      "Sharpe ratio: 1.09\n",
      "Max drawdown: 12.91%\n"
     ]
    },
    {
     "data": {
      "image/png": "[encoded data removed]",
      "text/plain": [
       "<Figure size 640x480 with 1 Axes>"
      ]
     },
     "metadata": {},
     "output_type": "display_data"
    }
   ],
   "source": [
    "order_matrix = orders(stock_universe_train)\n",
    "pnl_matrix = calculate_pnl(order_matrix, stock_universe_train)\n",
    "universe_pnl = pnl_matrix.sum(axis=1)\n",
    "universe_pnl.cumsum().plot()\n",
    "sharpe, max_dd = perf_metrics(universe_pnl) \n",
    "print(f\"Sharpe ratio: {sharpe:.2f}\")\n",
    "print(f\"Max drawdown: {max_dd:.2f}%\")"
   ]
  },
  {
   "cell_type": "markdown",
   "metadata": {},
   "source": [
    "## Hyperparameters tuning"
   ]
  },
  {
   "cell_type": "code",
   "execution_count": 52,
   "metadata": {},
   "outputs": [
    {
     "name": "stderr",
     "output_type": "stream",
     "text": [
      "[I 2024-08-08 15:36:43,269] A new study created in memory with name: no-name-e2a834cf-d84a-4a9f-9c03-081bcf9f295c\n",
      "[I 2024-08-08 15:36:45,040] Trial 0 finished with value: 0.38709276228809214 and parameters: {'delta_window': 15}. Best is trial 0 with value: 0.38709276228809214.\n",
      "[I 2024-08-08 15:36:46,787] Trial 1 finished with value: 0.5398842198632428 and parameters: {'delta_window': 12}. Best is trial 1 with value: 0.5398842198632428.\n",
      "[I 2024-08-08 15:36:49,100] Trial 2 finished with value: 0.38709276228809214 and parameters: {'delta_window': 15}. Best is trial 1 with value: 0.5398842198632428.\n",
      "[I 2024-08-08 15:36:51,143] Trial 3 finished with value: 1.2829121065041562 and parameters: {'delta_window': 3}. Best is trial 3 with value: 1.2829121065041562.\n",
      "[I 2024-08-08 15:36:53,422] Trial 4 finished with value: 0.5835950202449236 and parameters: {'delta_window': 19}. Best is trial 3 with value: 1.2829121065041562.\n",
      "[I 2024-08-08 15:36:56,321] Trial 5 finished with value: 0.7637568857663988 and parameters: {'delta_window': 7}. Best is trial 3 with value: 1.2829121065041562.\n",
      "[I 2024-08-08 15:36:59,342] Trial 6 finished with value: 0.5786159492767913 and parameters: {'delta_window': 8}. Best is trial 3 with value: 1.2829121065041562.\n",
      "[I 2024-08-08 15:37:01,375] Trial 7 finished with value: 0.6130797695370137 and parameters: {'delta_window': 17}. Best is trial 3 with value: 1.2829121065041562.\n",
      "[I 2024-08-08 15:37:03,489] Trial 8 finished with value: 1.0947065889650396 and parameters: {'delta_window': 6}. Best is trial 3 with value: 1.2829121065041562.\n",
      "[I 2024-08-08 15:37:05,418] Trial 9 finished with value: 0.6130797695370137 and parameters: {'delta_window': 17}. Best is trial 3 with value: 1.2829121065041562.\n",
      "[I 2024-08-08 15:37:07,585] Trial 10 finished with value: 1.027985527769554 and parameters: {'delta_window': 2}. Best is trial 3 with value: 1.2829121065041562.\n",
      "[I 2024-08-08 15:37:09,864] Trial 11 finished with value: 1.027985527769554 and parameters: {'delta_window': 2}. Best is trial 3 with value: 1.2829121065041562.\n",
      "[I 2024-08-08 15:37:12,301] Trial 12 finished with value: 1.0947065889650396 and parameters: {'delta_window': 6}. Best is trial 3 with value: 1.2829121065041562.\n",
      "[I 2024-08-08 15:37:14,409] Trial 13 finished with value: 1.2064693499286738 and parameters: {'delta_window': 5}. Best is trial 3 with value: 1.2829121065041562.\n",
      "[I 2024-08-08 15:37:16,586] Trial 14 finished with value: 1.2432685302157132 and parameters: {'delta_window': 4}. Best is trial 3 with value: 1.2829121065041562.\n",
      "[I 2024-08-08 15:37:18,934] Trial 15 finished with value: 0.48513840847879364 and parameters: {'delta_window': 10}. Best is trial 3 with value: 1.2829121065041562.\n",
      "[I 2024-08-08 15:37:21,047] Trial 16 finished with value: 1.2432685302157132 and parameters: {'delta_window': 4}. Best is trial 3 with value: 1.2829121065041562.\n",
      "[I 2024-08-08 15:37:23,030] Trial 17 finished with value: 0.48513840847879364 and parameters: {'delta_window': 10}. Best is trial 3 with value: 1.2829121065041562.\n",
      "[I 2024-08-08 15:37:25,198] Trial 18 finished with value: 1.2829121065041562 and parameters: {'delta_window': 3}. Best is trial 3 with value: 1.2829121065041562.\n",
      "[I 2024-08-08 15:37:27,166] Trial 19 finished with value: 0.5786159492767913 and parameters: {'delta_window': 8}. Best is trial 3 with value: 1.2829121065041562.\n",
      "[I 2024-08-08 15:37:29,599] Trial 20 finished with value: 1.027985527769554 and parameters: {'delta_window': 2}. Best is trial 3 with value: 1.2829121065041562.\n",
      "[I 2024-08-08 15:37:31,784] Trial 21 finished with value: 1.2432685302157132 and parameters: {'delta_window': 4}. Best is trial 3 with value: 1.2829121065041562.\n",
      "[I 2024-08-08 15:37:33,874] Trial 22 finished with value: 1.2432685302157132 and parameters: {'delta_window': 4}. Best is trial 3 with value: 1.2829121065041562.\n",
      "[I 2024-08-08 15:37:35,870] Trial 23 finished with value: 1.2432685302157132 and parameters: {'delta_window': 4}. Best is trial 3 with value: 1.2829121065041562.\n",
      "[I 2024-08-08 15:37:37,993] Trial 24 finished with value: 1.027985527769554 and parameters: {'delta_window': 2}. Best is trial 3 with value: 1.2829121065041562.\n",
      "[I 2024-08-08 15:37:39,818] Trial 25 finished with value: 0.5786159492767913 and parameters: {'delta_window': 8}. Best is trial 3 with value: 1.2829121065041562.\n",
      "[I 2024-08-08 15:37:41,816] Trial 26 finished with value: 0.5398842198632428 and parameters: {'delta_window': 12}. Best is trial 3 with value: 1.2829121065041562.\n",
      "[I 2024-08-08 15:37:44,327] Trial 27 finished with value: 1.2829121065041562 and parameters: {'delta_window': 3}. Best is trial 3 with value: 1.2829121065041562.\n",
      "[I 2024-08-08 15:37:46,807] Trial 28 finished with value: 1.2829121065041562 and parameters: {'delta_window': 3}. Best is trial 3 with value: 1.2829121065041562.\n",
      "[I 2024-08-08 15:37:49,074] Trial 29 finished with value: 1.2064693499286738 and parameters: {'delta_window': 5}. Best is trial 3 with value: 1.2829121065041562.\n",
      "[I 2024-08-08 15:37:51,046] Trial 30 finished with value: 1.0947065889650396 and parameters: {'delta_window': 6}. Best is trial 3 with value: 1.2829121065041562.\n",
      "[I 2024-08-08 15:37:54,040] Trial 31 finished with value: 1.2829121065041562 and parameters: {'delta_window': 3}. Best is trial 3 with value: 1.2829121065041562.\n",
      "[I 2024-08-08 15:37:56,900] Trial 32 finished with value: 1.2829121065041562 and parameters: {'delta_window': 3}. Best is trial 3 with value: 1.2829121065041562.\n",
      "[I 2024-08-08 15:37:59,450] Trial 33 finished with value: 1.2829121065041562 and parameters: {'delta_window': 3}. Best is trial 3 with value: 1.2829121065041562.\n",
      "[I 2024-08-08 15:38:01,704] Trial 34 finished with value: 0.444121911422476 and parameters: {'delta_window': 14}. Best is trial 3 with value: 1.2829121065041562.\n",
      "[I 2024-08-08 15:38:03,892] Trial 35 finished with value: 1.2064693499286738 and parameters: {'delta_window': 5}. Best is trial 3 with value: 1.2829121065041562.\n",
      "[I 2024-08-08 15:38:05,885] Trial 36 finished with value: 0.7637568857663988 and parameters: {'delta_window': 7}. Best is trial 3 with value: 1.2829121065041562.\n",
      "[I 2024-08-08 15:38:08,100] Trial 37 finished with value: 1.2829121065041562 and parameters: {'delta_window': 3}. Best is trial 3 with value: 1.2829121065041562.\n",
      "[I 2024-08-08 15:38:10,065] Trial 38 finished with value: 0.3240441362952198 and parameters: {'delta_window': 20}. Best is trial 3 with value: 1.2829121065041562.\n",
      "[I 2024-08-08 15:38:12,018] Trial 39 finished with value: 0.35220104914271144 and parameters: {'delta_window': 9}. Best is trial 3 with value: 1.2829121065041562.\n",
      "[I 2024-08-08 15:38:14,054] Trial 40 finished with value: 0.7637568857663988 and parameters: {'delta_window': 7}. Best is trial 3 with value: 1.2829121065041562.\n",
      "[I 2024-08-08 15:38:16,696] Trial 41 finished with value: 1.2829121065041562 and parameters: {'delta_window': 3}. Best is trial 3 with value: 1.2829121065041562.\n",
      "[I 2024-08-08 15:38:18,955] Trial 42 finished with value: 1.027985527769554 and parameters: {'delta_window': 2}. Best is trial 3 with value: 1.2829121065041562.\n",
      "[I 2024-08-08 15:38:21,029] Trial 43 finished with value: 1.2064693499286738 and parameters: {'delta_window': 5}. Best is trial 3 with value: 1.2829121065041562.\n",
      "[I 2024-08-08 15:38:23,058] Trial 44 finished with value: 1.0947065889650396 and parameters: {'delta_window': 6}. Best is trial 3 with value: 1.2829121065041562.\n",
      "[I 2024-08-08 15:38:25,260] Trial 45 finished with value: 1.2829121065041562 and parameters: {'delta_window': 3}. Best is trial 3 with value: 1.2829121065041562.\n",
      "[I 2024-08-08 15:38:27,399] Trial 46 finished with value: 1.027985527769554 and parameters: {'delta_window': 2}. Best is trial 3 with value: 1.2829121065041562.\n",
      "[I 2024-08-08 15:38:29,563] Trial 47 finished with value: 1.2064693499286738 and parameters: {'delta_window': 5}. Best is trial 3 with value: 1.2829121065041562.\n",
      "[I 2024-08-08 15:38:31,572] Trial 48 finished with value: 0.6130797695370137 and parameters: {'delta_window': 17}. Best is trial 3 with value: 1.2829121065041562.\n",
      "[I 2024-08-08 15:38:33,671] Trial 49 finished with value: 0.444121911422476 and parameters: {'delta_window': 14}. Best is trial 3 with value: 1.2829121065041562.\n"
     ]
    },
    {
     "name": "stdout",
     "output_type": "stream",
     "text": [
      "Best params: {'delta_window': 3}\n",
      "Best Sharpe ratio: 1.28\n"
     ]
    }
   ],
   "source": [
    "import optuna\n",
    "\n",
    "def objective(trial):\n",
    "    delta_window = trial.suggest_int('delta_window', 2, 20)\n",
    "    # rolling_window = trial.suggest_int('rolling_window', 2, 30)\n",
    "    # n = trial.suggest_float('n', 0.1, 1)\n",
    "    order_matrix = orders(stock_universe_train, delta_window=delta_window)\n",
    "    pnl_matrix = calculate_pnl(order_matrix, stock_universe_train)\n",
    "    universe_pnl = pnl_matrix.sum(axis=1)\n",
    "    sharpe, max_dd = perf_metrics(universe_pnl)\n",
    "    return sharpe\n",
    "\n",
    "study = optuna.create_study(direction='maximize')\n",
    "study.optimize(objective, n_trials=50)\n",
    "\n",
    "print(f'Best params: {study.best_params}')\n",
    "print(f'Best Sharpe ratio: {study.best_value:.2f}')"
   ]
  },
  {
   "cell_type": "code",
   "execution_count": 53,
   "metadata": {},
   "outputs": [
    {
     "name": "stdout",
     "output_type": "stream",
     "text": [
      "Sharpe ratio: 1.28\n",
      "Max drawdown: 25.51%\n"
     ]
    },
    {
     "data": {
      "image/png": "[encoded data removed]",
      "text/plain": [
       "<Figure size 640x480 with 1 Axes>"
      ]
     },
     "metadata": {},
     "output_type": "display_data"
    }
   ],
   "source": [
    "order_matrix = orders(stock_universe_train, delta_window=study.best_params[\"delta_window\"])\n",
    "pnl_matrix = calculate_pnl(order_matrix, stock_universe_train)\n",
    "universe_pnl = pnl_matrix.sum(axis=1)\n",
    "universe_pnl.cumsum().plot()\n",
    "sharpe, max_dd = perf_metrics(universe_pnl) \n",
    "print(f\"Sharpe ratio: {sharpe:.2f}\")\n",
    "print(f\"Max drawdown: {max_dd:.2f}%\")"
   ]
  },
  {
   "cell_type": "markdown",
   "metadata": {},
   "source": [
    "## OS backtest"
   ]
  },
  {
   "cell_type": "code",
   "execution_count": 54,
   "metadata": {},
   "outputs": [
    {
     "name": "stdout",
     "output_type": "stream",
     "text": [
      "Sharpe ratio: 1.26\n",
      "Max drawdown: 27.05%\n"
     ]
    },
    {
     "data": {
      "image/png": "[encoded data removed]",
      "text/plain": [
       "<Figure size 640x480 with 1 Axes>"
      ]
     },
     "metadata": {},
     "output_type": "display_data"
    }
   ],
   "source": [
    "order_matrix = orders(stock_universe_test, study.best_params[\"delta_window\"])\n",
    "pnl_matrix = calculate_pnl(order_matrix, stock_universe_test)\n",
    "universe_pnl = pnl_matrix.sum(axis=1)\n",
    "universe_pnl.cumsum().plot()\n",
    "sharpe, max_dd = perf_metrics(universe_pnl) \n",
    "print(f\"Sharpe ratio: {sharpe:.2f}\") \n",
    "print(f\"Max drawdown: {max_dd:.2f}%\")"
   ]
  },
  {
   "cell_type": "code",
   "execution_count": null,
   "metadata": {},
   "outputs": [],
   "source": []
  }
 ],
 "metadata": {
  "kernelspec": {
   "display_name": "qntdev",
   "language": "python",
   "name": "python3"
  },
  "language_info": {
   "codemirror_mode": {
    "name": "ipython",
    "version": 3
   },
   "file_extension": ".py",
   "mimetype": "text/x-python",
   "name": "python",
   "nbconvert_exporter": "python",
   "pygments_lexer": "ipython3",
   "version": "3.10.14"
  }
 },
 "nbformat": 4,
 "nbformat_minor": 2
}
